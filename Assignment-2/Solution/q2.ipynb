{
  "nbformat": 4,
  "nbformat_minor": 0,
  "metadata": {
    "kernelspec": {
      "display_name": "Python 3",
      "language": "python",
      "name": "python3"
    },
    "language_info": {
      "codemirror_mode": {
        "name": "ipython",
        "version": 3
      },
      "file_extension": ".py",
      "mimetype": "text/x-python",
      "name": "python",
      "nbconvert_exporter": "python",
      "pygments_lexer": "ipython3",
      "version": "3.7.6"
    },
    "colab": {
      "name": "log_reg.ipynb",
      "provenance": [],
      "collapsed_sections": []
    }
  },
  "cells": [
    {
      "cell_type": "markdown",
      "metadata": {
        "id": "OcQgSbYj-id6"
      },
      "source": [
        "You need to implement Logistic Regression from scratch in this question"
      ]
    },
    {
      "cell_type": "markdown",
      "metadata": {
        "id": "r4txCQM6-id8"
      },
      "source": [
        "1. You are provided with the dataset of sign language digits. Implement logistic regression from scratch to classify the images provided in the dataset. Load the dataset and perform splitting into training and test sets with 70:30 ratio randomly using test train split.\n",
        "2. Plot a diagram for the sigmoid function. This is used for binary classi\u0000cation. How do you modify it for multilabel dataset classification problems? State and Explain the methods used.\n",
        "3. Use both one vs all and one vs one method for the above problem statement purpose.\n",
        "4. Also get results using Log Reg from scikit learn.\n",
        "5. Report accuracy score, Confusion matrix and any other metrics you feel useful and Compare the results - from all the three.\n",
        "\n",
        "\n",
        "\n",
        "[BONUS]\n",
        "6. Display few pictures with their predicted and original labels \n",
        "7. Do the results differ? State the reasons why it is so.\n"
      ]
    },
    {
      "cell_type": "code",
      "metadata": {
        "id": "e6DL_4_PznpX"
      },
      "source": [
        "import copy \n",
        "from sklearn import model_selection\n",
        "from sklearn import linear_model\n",
        "from sklearn import metrics\n",
        "import numpy as np\n",
        "from sklearn.linear_model import LogisticRegression\n",
        "from sklearn.model_selection import train_test_split"
      ],
      "execution_count": 124,
      "outputs": []
    },
    {
      "cell_type": "code",
      "metadata": {
        "colab": {
          "base_uri": "https://localhost:8080/"
        },
        "id": "RkSRZGcJCy8d",
        "outputId": "cf710544-22ae-40c6-e3fc-01bac7e6ac43"
      },
      "source": [
        "from google.colab import drive\n",
        "drive.mount('/content/drive')"
      ],
      "execution_count": 3,
      "outputs": [
        {
          "output_type": "stream",
          "text": [
            "Mounted at /content/drive\n"
          ],
          "name": "stdout"
        }
      ]
    },
    {
      "cell_type": "markdown",
      "metadata": {
        "id": "fvEJw4kl-id9"
      },
      "source": [
        "dataset link : \n",
        "https://iiitaphyd-my.sharepoint.com/:f:/g/personal/apurva_jadhav_students_iiit_ac_in/Eictt5_qmoxNqezgQQiMWeIBph4sxlfA6jWAJNPnV2SF9Q?e=mQmYN0 \n",
        "\n",
        "                "
      ]
    },
    {
      "cell_type": "code",
      "metadata": {
        "id": "adj1Ma-m-id-"
      },
      "source": [
        "X = np.load(\"/content/drive/MyDrive/SMAI/titanic/X.npy\") # image\n",
        "y = np.load(\"/content/drive/MyDrive/SMAI/titanic/Y.npy\") # label\n"
      ],
      "execution_count": 4,
      "outputs": []
    },
    {
      "cell_type": "code",
      "metadata": {
        "colab": {
          "base_uri": "https://localhost:8080/",
          "height": 268
        },
        "id": "CW4O5tieC_ow",
        "outputId": "51d1bcfa-81d5-465a-9ac3-6cdec68787e6"
      },
      "source": [
        "import matplotlib.pyplot as plt\n",
        "plt.imshow(X[-1])\n",
        "plt.show()"
      ],
      "execution_count": 5,
      "outputs": [
        {
          "output_type": "display_data",
          "data": {
            "image/png": "[encoded data removed]",
            "text/plain": [
              "<Figure size 432x288 with 1 Axes>"
            ]
          },
          "metadata": {
            "tags": [],
            "needs_background": "light"
          }
        }
      ]
    },
    {
      "cell_type": "code",
      "metadata": {
        "colab": {
          "base_uri": "https://localhost:8080/"
        },
        "id": "LlzmkikSzsYq",
        "outputId": "4f149cc1-648a-4931-fd09-e9a45b03d80f"
      },
      "source": [
        "X = X.reshape((X.shape[0], X.shape[1]*X.shape[2]))\n",
        "X.shape"
      ],
      "execution_count": 6,
      "outputs": [
        {
          "output_type": "execute_result",
          "data": {
            "text/plain": [
              "(2062, 4096)"
            ]
          },
          "metadata": {
            "tags": []
          },
          "execution_count": 6
        }
      ]
    },
    {
      "cell_type": "code",
      "metadata": {
        "colab": {
          "base_uri": "https://localhost:8080/"
        },
        "id": "9lenv-xFIwEX",
        "outputId": "289d9f35-88f1-4393-cd2e-c0c7b546f4ef"
      },
      "source": [
        "X_train, X_test, y_train, y_test = train_test_split(X, y, test_size=0.3, random_state=20)\n",
        "print(X_train.shape, X_test.shape, y_train.shape, y_test.shape)\n",
        "a = np.argmax(y_train, axis=1)"
      ],
      "execution_count": 12,
      "outputs": [
        {
          "output_type": "stream",
          "text": [
            "(1443, 4096) (619, 4096) (1443, 10) (619, 10)\n"
          ],
          "name": "stdout"
        }
      ]
    },
    {
      "cell_type": "markdown",
      "metadata": {
        "id": "bgZIOy-SpHM6"
      },
      "source": [
        "### Converting labels from one hot vector to a single value in range [0,9]"
      ]
    },
    {
      "cell_type": "code",
      "metadata": {
        "colab": {
          "base_uri": "https://localhost:8080/"
        },
        "id": "3snRHsMOJfTU",
        "outputId": "62bc4572-830d-4791-db99-c8fffa4a792d"
      },
      "source": [
        "labels = np.ones((2062,1), dtype=int)\n",
        "for i in range(2062):\n",
        "  idx = np.argmax(y[i])\n",
        "  labels[i]=idx\n",
        "#print(labels.flatten().shape)\n",
        "X_train, X_test, y_train, y_test = train_test_split(X, labels, test_size=0.3, random_state=20)\n",
        "print(X_train.shape, X_test.shape, y_train.shape, y_test.shape)\n",
        "\n",
        "#print(X.shape, labels.shape)\n",
        "data = np.append(X_train, y_train, axis=1)\n",
        "print(data.shape)"
      ],
      "execution_count": 8,
      "outputs": [
        {
          "output_type": "stream",
          "text": [
            "(1443, 4096) (619, 4096) (1443, 1) (619, 1)\n",
            "(1443, 4097)\n"
          ],
          "name": "stdout"
        }
      ]
    },
    {
      "cell_type": "markdown",
      "metadata": {
        "id": "1LFvJdKgpP5X"
      },
      "source": [
        "### Stored 10 copies of the same dataset for 1 vs all classification"
      ]
    },
    {
      "cell_type": "code",
      "metadata": {
        "colab": {
          "base_uri": "https://localhost:8080/"
        },
        "id": "Pv24jZ1ZJnNK",
        "outputId": "00669f90-9591-441c-81b2-ad36e828f4b5"
      },
      "source": [
        "D0 = data.copy();D1 = data.copy();D2 = data.copy();D3 = data.copy();D4 = data.copy();D5 =data.copy();D6 = data.copy();D7 = data.copy();D8 = data.copy();D9 = data.copy()\n",
        "print(D0.shape)"
      ],
      "execution_count": 10,
      "outputs": [
        {
          "output_type": "stream",
          "text": [
            "(1443, 4097)\n"
          ],
          "name": "stdout"
        }
      ]
    },
    {
      "cell_type": "markdown",
      "metadata": {
        "id": "-guxMXVVpWdf"
      },
      "source": [
        "### Assigned labels as 0 and 1 in each of these 10 datasets where 1 indicates the single digit class and 0 indicates rest 9 classes"
      ]
    },
    {
      "cell_type": "code",
      "metadata": {
        "id": "KMr5jJqp2pAH"
      },
      "source": [
        "datasets = [D0,D1,D2,D3,D4,D5,D6,D7,D8,D9]\n",
        "for i in range(10):\n",
        "  for j in range(1443):\n",
        "    if (np.argmax(y[j]) == i):\n",
        "      datasets[i][j][4096] = 1\n",
        "    else:\n",
        "      datasets[i][j][4096] = 0"
      ],
      "execution_count": null,
      "outputs": []
    },
    {
      "cell_type": "markdown",
      "metadata": {
        "id": "xZrXtQGrpqcS"
      },
      "source": [
        "### 1 vs ALL Training"
      ]
    },
    {
      "cell_type": "code",
      "metadata": {
        "colab": {
          "base_uri": "https://localhost:8080/"
        },
        "id": "p2dDQvsx7cgW",
        "outputId": "dcbf73d2-30f8-4cfa-ffd3-ef9e336ae2b7"
      },
      "source": [
        "m = 1443\n",
        "itterations = 10000\n",
        "cost_values = []\n",
        "trained_parameters = []\n",
        "\n",
        "for i in range(10):\n",
        "  X = datasets[i]\n",
        "  X = np.delete(X, 4096, 1)\n",
        "  X=X/255\n",
        "  y = datasets[i][:,-1].reshape((-1,1))\n",
        "  \n",
        "  alpha=0.01\n",
        "  weights = np.random.rand(4096,1)\n",
        "  bias = 0 \n",
        "  costfunc_values = []\n",
        "  k = 0\n",
        "  print('Training for dataset ',i)\n",
        "  for i in range(1,itterations+1):\n",
        "    #logistic function\n",
        "    z = np.dot(X,weights) + bias \n",
        "    #print(\"z=\",z)\n",
        "    #z = np.matmul(X,weights) + bias \n",
        "    hypothesis = 1/(1 + np.exp(-z)) \n",
        "    cost = 1/m*(-1*(np.sum(y*np.log(hypothesis) + (1-y)*np.log(1-hypothesis))))\n",
        "    costfunc_values.append(cost)\n",
        "    k+=1\n",
        "\n",
        "    dw =  1/m * np.dot(X.T, (hypothesis-y))\n",
        "    db =  1/m * np.sum(hypothesis-y)\n",
        "    weights = weights - alpha*dw\n",
        "    bias = bias - alpha*db\n",
        "\n",
        "    #stop training\n",
        "    if i%400 == 0:\n",
        "      print('running @ ',cost)\n",
        "    #if i%2 == 0:\n",
        "    #  if abs(cost-costfunc_values[-2])<0.000001:\n",
        "    #   if abs(cost-costfunc_values[-3])<0.000001:\n",
        "    #      break \n",
        "  cost_values.append(costfunc_values)  \n",
        "  trained_parameters.append([weights,bias])      \n",
        "  print('itteration number:',k)"
      ],
      "execution_count": null,
      "outputs": [
        {
          "output_type": "stream",
          "text": [
            "Training for dataset  0\n",
            "running @  1.9534808492914657\n",
            "running @  0.6680711942081122\n",
            "running @  0.4637265709436468\n",
            "running @  0.42560438410059953\n",
            "running @  0.4158214159399695\n",
            "running @  0.4128546309446501\n",
            "running @  0.41187178143809194\n",
            "running @  0.4115294871442431\n",
            "running @  0.41140651086957164\n",
            "running @  0.41136123836382177\n",
            "running @  0.411344060392183\n",
            "running @  0.4113371647260777\n",
            "running @  0.4113340600971581\n",
            "running @  0.4113323594966541\n",
            "running @  0.4113311803382798\n",
            "running @  0.41133019519940756\n",
            "running @  0.41132928236537636\n",
            "running @  0.41132839653440306\n",
            "running @  0.41132752083256924\n",
            "running @  0.41132664897181076\n",
            "running @  0.4113257786082179\n",
            "running @  0.4113249088679298\n",
            "running @  0.4113240394251117\n",
            "running @  0.41132317015825576\n",
            "running @  0.4113223010220413\n",
            "itteration number: 10000\n",
            "Training for dataset  1\n",
            "running @  1.8801389288859587\n",
            "running @  0.6557570940494585\n",
            "running @  0.4638432876998101\n",
            "running @  0.4276707188101639\n",
            "running @  0.4183485387687912\n",
            "running @  0.41552018736920343\n",
            "running @  0.41458445170754343\n",
            "running @  0.4142592033798389\n",
            "running @  0.41414250457668933\n",
            "running @  0.4140994680177766\n",
            "running @  0.41408296985970955\n",
            "running @  0.4140761467786442\n",
            "running @  0.414072876283935\n",
            "running @  0.4140709159727093\n",
            "running @  0.4140694401786798\n",
            "running @  0.4140681439044573\n",
            "running @  0.4140669142642187\n",
            "running @  0.4140657094267168\n",
            "running @  0.4140645138796042\n",
            "running @  0.414063321867867\n",
            "running @  0.4140621312558391\n",
            "running @  0.4140609412508445\n",
            "running @  0.41405975155863467\n",
            "running @  0.414058562069966\n",
            "running @  0.4140573727442693\n",
            "itteration number: 10000\n",
            "Training for dataset  2\n",
            "running @  1.9848628144197333\n",
            "running @  0.6779189838139258\n",
            "running @  0.46877170176193556\n",
            "running @  0.4300931562788069\n",
            "running @  0.4202470408340648\n",
            "running @  0.41728275797386605\n",
            "running @  0.4163075298208813\n",
            "running @  0.41597010475155693\n",
            "running @  0.4158495352335593\n",
            "running @  0.4158052491971403\n",
            "running @  0.4157883428584263\n",
            "running @  0.41578138262598724\n",
            "running @  0.4157780617787051\n",
            "running @  0.4157760785110395\n",
            "running @  0.4157745881979337\n",
            "running @  0.4157732799021845\n",
            "running @  0.4157720389301302\n",
            "running @  0.41577082292457385\n",
            "running @  0.41576961623129116\n",
            "running @  0.41576841306228396\n",
            "running @  0.41576721127691446\n",
            "running @  0.415766010083351\n",
            "running @  0.41576480918865455\n",
            "running @  0.41576360848443733\n",
            "running @  0.4157624079305859\n",
            "itteration number: 10000\n",
            "Training for dataset  3\n",
            "running @  1.8914371290906689\n",
            "running @  0.662928485599595\n",
            "running @  0.47004114507039696\n",
            "running @  0.43387621706564444\n",
            "running @  0.42461181906097256\n",
            "running @  0.42181840814423777\n",
            "running @  0.4209000077541956\n",
            "running @  0.4205826409808266\n",
            "running @  0.42046923048549856\n",
            "running @  0.42042735726103286\n",
            "running @  0.4204110703130243\n",
            "running @  0.42040404199034875\n",
            "running @  0.42040038761274995\n",
            "running @  0.4203979680330308\n",
            "running @  0.42039600161359025\n",
            "running @  0.4203942018509001\n",
            "running @  0.42039246352987697\n",
            "running @  0.4203907479670923\n",
            "running @  0.4203890409302704\n",
            "running @  0.4203873371809019\n",
            "running @  0.42038563479032964\n",
            "running @  0.4203839330483568\n",
            "running @  0.4203822316934242\n",
            "running @  0.42038053062917996\n",
            "running @  0.4203788298201121\n",
            "itteration number: 10000\n",
            "Training for dataset  4\n",
            "running @  1.905612656906041\n",
            "running @  0.6638079048022233\n",
            "running @  0.4682866976575873\n",
            "running @  0.4316410250954277\n",
            "running @  0.42224062365901655\n",
            "running @  0.4193995304712172\n",
            "running @  0.41846283392539196\n",
            "running @  0.41813824896185076\n",
            "running @  0.41802204227228307\n",
            "running @  0.4179791807750468\n",
            "running @  0.4179626502747347\n",
            "running @  0.41795568497588814\n",
            "running @  0.4179522192638938\n",
            "running @  0.4179500395197668\n",
            "running @  0.41794833362752243\n",
            "running @  0.41794680269110424\n",
            "running @  0.41794533648958615\n",
            "running @  0.41794389433003626\n",
            "running @  0.4179424611781159\n",
            "running @  0.41794103147684747\n",
            "running @  0.4179396031717148\n",
            "running @  0.417938175502993\n",
            "running @  0.4179367481897082\n",
            "running @  0.41793532112792714\n",
            "running @  0.4179338942791897\n",
            "itteration number: 10000\n",
            "Training for dataset  5\n",
            "running @  1.9248181465786323\n",
            "running @  0.6686687715507194\n",
            "running @  0.47013079695223964\n",
            "running @  0.43321115757073053\n",
            "running @  0.42381249627061635\n",
            "running @  0.4209926874507479\n",
            "running @  0.42006990276872375\n",
            "running @  0.4197526275918634\n",
            "running @  0.41964000362867054\n",
            "running @  0.4195988780788263\n",
            "running @  0.41958322435512285\n",
            "running @  0.4195767513966128\n",
            "running @  0.419573610667853\n",
            "running @  0.41957168454731614\n",
            "running @  0.4195702023391937\n",
            "running @  0.41956888268073933\n",
            "running @  0.41956762266005837\n",
            "running @  0.41956638459309736\n",
            "running @  0.41956515467131195\n",
            "running @  0.41956392783273866\n",
            "running @  0.419562702221279\n",
            "running @  0.41956147715623426\n",
            "running @  0.41956025238793454\n",
            "running @  0.419559027824789\n",
            "running @  0.4195578034331862\n",
            "itteration number: 10000\n",
            "Training for dataset  6\n",
            "running @  1.9140972884808638\n",
            "running @  0.6607352460026854\n",
            "running @  0.46261477935504636\n",
            "running @  0.42562849316694\n",
            "running @  0.4161767621712646\n",
            "running @  0.4133304746508498\n",
            "running @  0.4123957198738302\n",
            "running @  0.41207340175265317\n",
            "running @  0.41195889575463984\n",
            "running @  0.4119172928266899\n",
            "running @  0.41190177329987837\n",
            "running @  0.4118956962081273\n",
            "running @  0.41189306159797545\n",
            "running @  0.4118916874107859\n",
            "running @  0.41189077592520396\n",
            "running @  0.4118900345858631\n",
            "running @  0.41188935589576803\n",
            "running @  0.41188870031018987\n",
            "running @  0.4118880532716383\n",
            "running @  0.4118874094188167\n",
            "running @  0.41188676677672964\n",
            "running @  0.4118861246177109\n",
            "running @  0.41188548267363023\n",
            "running @  0.4118848408456781\n",
            "running @  0.41188419909743657\n",
            "itteration number: 10000\n",
            "Training for dataset  7\n",
            "running @  1.752695716575059\n",
            "running @  0.406202869845479\n",
            "running @  0.17901934417944773\n",
            "running @  0.10950479049621582\n",
            "running @  0.07777132677462927\n",
            "running @  0.0599478340794169\n",
            "running @  0.048629022699610114\n",
            "running @  0.0408382547219333\n",
            "running @  0.035163238341269755\n",
            "running @  0.03085229449494759\n",
            "running @  0.02747015659942047\n",
            "running @  0.02474799029709253\n",
            "running @  0.02251108132332346\n",
            "running @  0.02064110495063193\n",
            "running @  0.019055150050239646\n",
            "running @  0.017693434227332758\n",
            "running @  0.01651178870098719\n",
            "running @  0.015476887849005298\n",
            "running @  0.01456312320674173\n",
            "running @  0.01375049767337522\n",
            "running @  0.01302317217483385\n",
            "running @  0.012368440900242764\n",
            "running @  0.011775994805255473\n",
            "running @  0.011237383157466767\n",
            "running @  0.010745613750996622\n",
            "itteration number: 10000\n",
            "Training for dataset  8\n",
            "running @  1.7868726031807123\n",
            "running @  0.41195416246306493\n",
            "running @  0.18046796668047752\n",
            "running @  0.11010376699329325\n",
            "running @  0.07809038923033412\n",
            "running @  0.06014424660223647\n",
            "running @  0.04876159121328948\n",
            "running @  0.04093357773738116\n",
            "running @  0.03523500823456105\n",
            "running @  0.030908250133652865\n",
            "running @  0.027514991752265197\n",
            "running @  0.024784713213213988\n",
            "running @  0.022541707245941543\n",
            "running @  0.020667033806146755\n",
            "running @  0.019077384241840144\n",
            "running @  0.017712710180592454\n",
            "running @  0.01652865948672973\n",
            "running @  0.015491776845404034\n",
            "running @  0.014576359976993693\n",
            "running @  0.013762342568557729\n",
            "running @  0.013033833586268985\n",
            "running @  0.012378087599905087\n",
            "running @  0.011784764930728317\n",
            "running @  0.011245390859072531\n",
            "running @  0.010752954180873317\n",
            "itteration number: 10000\n",
            "Training for dataset  9\n",
            "running @  1.7265018022362373\n",
            "running @  0.4019485595295917\n",
            "running @  0.17797809790816824\n",
            "running @  0.10908407052015193\n",
            "running @  0.0775511955909691\n",
            "running @  0.05981423800258243\n",
            "running @  0.04853989468250774\n",
            "running @  0.04077478792528758\n",
            "running @  0.035115848083536856\n",
            "running @  0.030815610841790592\n",
            "running @  0.027440947734040152\n",
            "running @  0.02472419923844493\n",
            "running @  0.022491338669713333\n",
            "running @  0.020624464806991708\n",
            "running @  0.019040938626668495\n",
            "running @  0.017681158877392304\n",
            "running @  0.016501081068671455\n",
            "running @  0.015467467111455725\n",
            "running @  0.014554771603048553\n",
            "running @  0.013743043790241766\n",
            "running @  0.013016479269628876\n",
            "running @  0.012362398577981045\n",
            "running @  0.011770512978796444\n",
            "running @  0.011232387593295113\n",
            "running @  0.010741042736042563\n",
            "itteration number: 10000\n"
          ],
          "name": "stdout"
        }
      ]
    },
    {
      "cell_type": "markdown",
      "metadata": {
        "id": "A2z-Bck3pu7q"
      },
      "source": [
        "### Stored all parameters(weights and bias) obtained after classification"
      ]
    },
    {
      "cell_type": "code",
      "metadata": {
        "id": "T1EBweVnLHi4"
      },
      "source": [
        "print(len(trained_parameters))\n",
        "print(len(trained_parameters[0]),(trained_parameters[0][0].shape),(trained_parameters[0][1]))\n",
        "tmp = np.array(trained_parameters)\n",
        "print(tmp.shape)\n",
        "W = []\n",
        "B = []\n",
        "for row in trained_parameters:\n",
        "  W.append(row[0].flatten())\n",
        "  B.append(row[1])\n",
        "W = np.array(W)\n",
        "B = np.array(B)\n",
        "print(W.shape, B.shape)"
      ],
      "execution_count": null,
      "outputs": []
    },
    {
      "cell_type": "markdown",
      "metadata": {
        "id": "2CZ2AiL7p2jO"
      },
      "source": [
        "### Prediction and testing"
      ]
    },
    {
      "cell_type": "code",
      "metadata": {
        "colab": {
          "base_uri": "https://localhost:8080/"
        },
        "id": "5oiUdlguMq6c",
        "outputId": "e6bb1486-0c24-4867-a2ac-c3fba585aaaf"
      },
      "source": [
        "yes=0\n",
        "no=0\n",
        "i = 0\n",
        "confusion_matrix = np.zeros((10,10))\n",
        "for row in X_test:\n",
        "  row = row/255\n",
        "  #print((np.dot(row, W.T)),(np.dot(row, W.T)).shape )\n",
        "  z = np.dot(row, W.T) + B \n",
        "  hypothesis = 1/(1 + np.exp(-z))\n",
        "  #print(hypothesis)\n",
        "  confusion_matrix[y_test[i][0]][np.argmax(hypothesis)] += 1\n",
        "  #print(np.argmax(hypothesis), y_test[i][0])\n",
        "  if (np.argmax(hypothesis) == y_test[i][0]):\n",
        "    yes +=1\n",
        "  else:\n",
        "    no +=1\n",
        "  #break\n",
        "  i +=1\n",
        "print(yes,no, yes/(yes+no)*100)\n",
        "print(confusion_matrix)"
      ],
      "execution_count": null,
      "outputs": [
        {
          "output_type": "stream",
          "text": [
            "55 564 8.88529886914378\n",
            "[[ 0.  3. 11. 16.  3. 14. 17.  0.  0.  0.]\n",
            " [ 0.  0.  1. 26.  2. 19. 13.  0.  0.  0.]\n",
            " [ 0.  1.  4. 23.  5. 27. 10.  0.  0.  0.]\n",
            " [ 0.  0.  1. 19.  0. 39. 11.  0.  0.  0.]\n",
            " [ 0.  7.  3. 12.  1. 26. 18.  0.  0.  0.]\n",
            " [ 0.  4.  8.  8.  2. 24. 11.  0.  0.  0.]\n",
            " [ 0.  1.  3.  9.  1. 22.  7.  0.  0.  0.]\n",
            " [ 0. 14.  1.  6.  3. 26. 15.  0.  0.  0.]\n",
            " [ 0.  0.  3. 11.  2. 34. 10.  0.  0.  0.]\n",
            " [ 2.  5.  4.  7.  2. 31. 11.  0.  0.  0.]]\n"
          ],
          "name": "stdout"
        }
      ]
    },
    {
      "cell_type": "markdown",
      "metadata": {
        "id": "YqfjkUw4lKux"
      },
      "source": [
        "# 1 VS 1 CLASSIFICATION"
      ]
    },
    {
      "cell_type": "code",
      "metadata": {
        "id": "Q5cAefahmaf6"
      },
      "source": [
        "class logistic_regression():\n",
        "  def __init__(self, iterations=10000, alpha=0.01, gamma=0.01, gd=\"plain\", version=\"batch\", batch_size=32):\n",
        "    self.m = 0\n",
        "    self.itterations = iterations\n",
        "    self.cost_values = []\n",
        "    self.trained_parameters = []\n",
        "    self.weights = []\n",
        "    self.bias = 0\n",
        "    self.alpha = alpha\n",
        "    self.update_dw = 0\n",
        "    self.update_db = 0\n",
        "    self.grad_type = gd\n",
        "    self.gamma = gamma\n",
        "    self.batch_size = batch_size\n",
        "    self.version = version\n",
        "    self.start = 0\n",
        "\n",
        "  def plain_grad_desc(self, X, y, hypothesis, alpha):\n",
        "    dw =  1/self.m * np.dot(X.T, (hypothesis-y))\n",
        "    db =  1/self.m * np.sum(hypothesis-y)\n",
        "    self.weights = self.weights - self.alpha*dw\n",
        "    self.bias = self.bias - self.alpha*db\n",
        "\n",
        "  def mini_batch_plain_grad_desc(self, X, y, hypothesis, alpha, start, batch_size):\n",
        "    dw =  1/self.m * np.dot(X[start:batch_size].T, (hypothesis-y)[start:batch_size])\n",
        "    db =  1/self.m * np.sum((hypothesis-y)[start:batch_size])\n",
        "    self.weights = self.weights - self.alpha*dw\n",
        "    self.bias = self.bias - self.alpha*db\n",
        "    if (batch_size == 1):\n",
        "      start = (start+1)%X.shape[0]\n",
        "      return start\n",
        "    start = start + batch_size\n",
        "    if (start >= ((X.shape[0]//batch_size)*batch_size)):\n",
        "      start = 0\n",
        "    return start\n",
        "\n",
        "  def momentum_based_grad_desc(self, X, y, hypothesis, alpha, gamma):\n",
        "    dw =  1/self.m * np.dot(X.T, (hypothesis-y))\n",
        "    db =  1/self.m * np.sum(hypothesis-y)\n",
        "    self.update_dw = gamma*self.update_dw + self.alpha*dw\n",
        "    self.update_db = gamma*self.update_db + self.alpha*db\n",
        "    self.weights = self.weights - self.update_dw\n",
        "    self.bias = self.bias - self.update_db\n",
        "\n",
        "  def nesterov_grad_desc(self, X, y, hypothesis, alpha, gamma):\n",
        "    dw =  1/self.m * np.dot(X.T, (hypothesis-y))\n",
        "    db =  1/self.m * np.sum(hypothesis-y)\n",
        "    \n",
        "    weights_lookahead = self.weights - gamma*self.update_dw\n",
        "    self.update_dw = gamma*self.update_dw + self.alpha*weights_lookahead\n",
        "    self.weights = self.weights - self.update_dw\n",
        "\n",
        "    bias_lookahead = self.bias - gamma*self.update_db\n",
        "    self.update_db = gamma*self.update_db + self.alpha*bias_lookahead\n",
        "    self.bias = self.bias - self.update_db\n",
        "\n",
        "  def fit(self, X, y):\n",
        "    X = X/255\n",
        "    #self.y = datasets[i][:,-1].reshape((2062,1))\n",
        "    self.m = X.shape[0]\n",
        "    self.weights = np.random.rand(X.shape[1],1)\n",
        "    costfunc_values = []\n",
        "    k = 0\n",
        "    for i in range(1,self.itterations+1):\n",
        "      #logistic function\n",
        "      z = np.dot(X, self.weights) + self.bias \n",
        "      #z = np.matmul(X,weights) + bias \n",
        "      hypothesis = 1/(1 + np.exp(-z)) \n",
        "      #cost function\n",
        "      cost = 1/self.m*(-1*(np.sum(y*np.log(hypothesis) + (1-y)*np.log(1-hypothesis))))\n",
        "      costfunc_values.append(cost)\n",
        "      #print(i,cost)\n",
        "      k+=1\n",
        "\n",
        "      #gradient decent\n",
        "      if (self.grad_type==\"plain\" and self.version==\"batch\" ):\n",
        "        self.plain_grad_desc(X, y, hypothesis, self.alpha)\n",
        "      elif (self.grad_type==\"momentum_based\" and self.version==\"batch\" ):\n",
        "        self.momentum_based_grad_desc(X, y, hypothesis, self.alpha, self.gamma)\n",
        "      elif (self.grad_type==\"nesterov\" and self.version==\"batch\" ):\n",
        "        self.nesterov_grad_desc(X, y, hypothesis, self.alpha, self.gamma)\n",
        "      elif (self.grad_type==\"plain\" and self.version==\"mini-batch\" ):\n",
        "        self.start = self.mini_batch_plain_grad_desc(X, y, hypothesis, self.alpha, self.start, self.batch_size)\n",
        "      elif (self.grad_type==\"plain\" and self.version==\"stochastic\" ):\n",
        "        self.start = self.mini_batch_plain_grad_desc(X, y, hypothesis, self.alpha, self.start, 1)\n",
        "      #dw =  1/self.m * np.dot(X.T, (hypothesis-y))\n",
        "      #db =  1/self.m * np.sum(hypothesis-y)\n",
        "      #self.weights = self.weights - self.alpha*dw\n",
        "      #self.bias = self.bias - self.alpha*db\n",
        "      #print('running @ ',i,cost)\n",
        "      #stop training\n",
        "      if i%100 == 0:\n",
        "        print('running @ ',cost)\n",
        "      #print(len(costfunc_values))\n",
        "      if i%3 == 0:\n",
        "        if abs(cost-costfunc_values[-2])<0.000001:\n",
        "          if abs(cost-costfunc_values[-3])<0.000001:\n",
        "            break \n",
        "    self.cost_values.append(costfunc_values)  \n",
        "    self.trained_parameters.append([self.weights,self.bias])      \n",
        "    print('itteration number:',k)\n",
        "\n",
        "  def predict(self, X, y):\n",
        "    \n",
        "    X=X/255\n",
        "\n",
        "    self.weights = self.trained_parameters[0][0]\n",
        "    self.bias = self.trained_parameters[0][1]\n",
        "    correct_predictions = 0 \n",
        "    for i in range(X.shape[0]):\n",
        "      \n",
        "      z = np.dot(X[i],self.weights) + self.bias \n",
        "      \n",
        "      hypothesis = 1/(1 + np.exp(-z))\n",
        "     \n",
        "      if (hypothesis[0] >= 0.5 and y[i] == 1):\n",
        "          correct_predictions+=1\n",
        "      elif (hypothesis[0] < 0.5 and y[i] == 0):\n",
        "          correct_predictions+=1    \n",
        "        \n",
        "    acc = (correct_predictions/X.shape[0])*100\n",
        "    print('accuracy for dataset ',acc)\n",
        "  \n",
        "  def get_param(self):\n",
        "    return self.weights.flatten(), self.bias"
      ],
      "execution_count": 46,
      "outputs": []
    },
    {
      "cell_type": "code",
      "metadata": {
        "id": "0Fwyh6FpnLWn"
      },
      "source": [
        "clf = logistic_regression(iterations=1000, gd=\"plain\")"
      ],
      "execution_count": null,
      "outputs": []
    },
    {
      "cell_type": "code",
      "metadata": {
        "colab": {
          "base_uri": "https://localhost:8080/"
        },
        "id": "__u4tvgmNQul",
        "outputId": "bbeecf5f-2386-4096-8221-8445bfb8b4bd"
      },
      "source": [
        "X_train, X_test, y_train, y_test = train_test_split(X, y, test_size=0.3, random_state=20)\n",
        "print(X_train.shape, X_test.shape, y_train.shape, y_test.shape)\n"
      ],
      "execution_count": 13,
      "outputs": [
        {
          "output_type": "stream",
          "text": [
            "(1443, 4096) (619, 4096) (1443, 10) (619, 10)\n"
          ],
          "name": "stdout"
        }
      ]
    },
    {
      "cell_type": "code",
      "metadata": {
        "colab": {
          "base_uri": "https://localhost:8080/"
        },
        "id": "_oBwV6Q_NRPg",
        "outputId": "cf60e3b1-4096-47a8-f1ad-7357538bd0b4"
      },
      "source": [
        "labels = np.ones((2062,1), dtype=int)\n",
        "for i in range(2062):\n",
        "  idx = np.argmax(y[i])\n",
        "  labels[i]=idx\n",
        "X_train, X_test, y_train, y_test = train_test_split(X, labels, test_size=0.3, random_state=20)\n",
        "print(X_train.shape, X_test.shape, y_train.shape, y_test.shape)\n"
      ],
      "execution_count": 14,
      "outputs": [
        {
          "output_type": "stream",
          "text": [
            "(1443, 4096) (619, 4096) (1443, 1) (619, 1)\n"
          ],
          "name": "stdout"
        }
      ]
    },
    {
      "cell_type": "code",
      "metadata": {
        "colab": {
          "base_uri": "https://localhost:8080/"
        },
        "id": "xRAF1XslNk9S",
        "outputId": "22c4d567-7bcc-4349-ea3e-fd68009fb046"
      },
      "source": [
        "data = np.append(X_train, y_train, axis=1)\n",
        "print(data.shape)"
      ],
      "execution_count": 15,
      "outputs": [
        {
          "output_type": "stream",
          "text": [
            "(1443, 4097)\n"
          ],
          "name": "stdout"
        }
      ]
    },
    {
      "cell_type": "markdown",
      "metadata": {
        "id": "EAufqJeFqQQm"
      },
      "source": [
        "### Sorted dataset on basis on actual value of digit(CLASS LABEL) for my ease"
      ]
    },
    {
      "cell_type": "code",
      "metadata": {
        "id": "uK-fV-gHN8aV"
      },
      "source": [
        "sorted_array = data[np.argsort(data[:, -1])]\n"
      ],
      "execution_count": 18,
      "outputs": []
    },
    {
      "cell_type": "markdown",
      "metadata": {
        "id": "PwCZYZFtqYiU"
      },
      "source": [
        "### Stored data of each class separately"
      ]
    },
    {
      "cell_type": "code",
      "metadata": {
        "id": "qrK0XWO9NUaK"
      },
      "source": [
        "D0 = sorted_array[:140].copy()\n",
        "D1 = sorted_array[140:284].copy()\n",
        "D2 = sorted_array[284:420].copy()\n",
        "D3 = sorted_array[420:557].copy()\n",
        "D4 = sorted_array[557:696].copy()\n",
        "D5 = sorted_array[696:847].copy()\n",
        "D6 = sorted_array[847:1011].copy()\n",
        "D7 = sorted_array[1011:1152].copy()\n",
        "D8 = sorted_array[1152:1298].copy()\n",
        "D9 = sorted_array[1298:1443].copy()"
      ],
      "execution_count": null,
      "outputs": []
    },
    {
      "cell_type": "code",
      "metadata": {
        "id": "RqTBwTCfPgJP"
      },
      "source": [
        "DATA = [D0, D1, D2, D3, D4, D5, D6, D7, D8, D9]"
      ],
      "execution_count": 29,
      "outputs": []
    },
    {
      "cell_type": "markdown",
      "metadata": {
        "id": "JSf5oExlqhU8"
      },
      "source": [
        "### Stored data for all pairs of classes in a list, total 45 pairs"
      ]
    },
    {
      "cell_type": "code",
      "metadata": {
        "id": "v7KUWiSLP5Pg"
      },
      "source": [
        "datasets = []\n",
        "for i in range(10):\n",
        "  for j in range(i+1, 10):\n",
        "    datasets.append(np.concatenate((DATA[i], DATA[j]), axis=0))\n"
      ],
      "execution_count": 31,
      "outputs": []
    },
    {
      "cell_type": "markdown",
      "metadata": {
        "id": "uH53gQr8qyfo"
      },
      "source": [
        "### 1 vs 1 training"
      ]
    },
    {
      "cell_type": "code",
      "metadata": {
        "colab": {
          "base_uri": "https://localhost:8080/"
        },
        "id": "ZR68nEioQZxc",
        "outputId": "9293dcbd-64c8-4170-cfc5-e25d96106803"
      },
      "source": [
        "W = []\n",
        "B = []\n",
        "k = 0\n",
        "for i in range(10):\n",
        "  for j in range(i+1, 10):\n",
        "    print(\"Training for  : \",i, \"VS\", j)\n",
        "    X = datasets[k]\n",
        "    X = X/255\n",
        "    X = np.delete(X, 4096, 1)\n",
        "    y = datasets[k][:,-1].reshape((-1,1))\n",
        "    k += 1\n",
        "    clf = logistic_regression(iterations=1000, gd=\"plain\")\n",
        "    clf.fit(X ,y)  \n",
        "    wt, b = clf.get_param()\n",
        "    W.append(wt)\n",
        "    B.append(b)\n",
        "    print(\"----------------------\")\n"
      ],
      "execution_count": 47,
      "outputs": [
        {
          "output_type": "stream",
          "text": [
            "Training for  :  0 VS 1\n",
            "itteration number: 3\n",
            "----------------------\n",
            "Training for  :  0 VS 2\n",
            "running @  0.502158635819155\n",
            "running @  0.38860944556855465\n",
            "running @  0.31498297292757665\n",
            "running @  0.2649461333637032\n",
            "running @  0.22945826139054348\n",
            "running @  0.2033527875676312\n",
            "running @  0.183551018535383\n",
            "running @  0.16813982707642144\n",
            "running @  0.15588351655855492\n",
            "running @  0.1459559208419598\n",
            "itteration number: 1000\n",
            "----------------------\n",
            "Training for  :  0 VS 3\n",
            "running @  -0.08171049162177642\n",
            "running @  -0.5856728496982049\n",
            "running @  -0.9638794677139223\n",
            "running @  -1.2788271306790377\n",
            "running @  -1.5598851463414898\n",
            "running @  -1.8218643306215647\n",
            "running @  -2.0727364873362353\n",
            "running @  -2.317001740942167\n",
            "running @  -2.5572833203227407\n",
            "running @  -2.7951425429708\n",
            "itteration number: 1000\n",
            "----------------------\n",
            "Training for  :  0 VS 4\n",
            "running @  -1.0970450654352528\n",
            "running @  -2.366746359633809\n",
            "running @  -3.454118224634076\n",
            "running @  -4.476909000579425\n",
            "running @  -5.476275817654312\n",
            "running @  -6.467037157105549\n",
            "running @  -7.45462027387396\n",
            "running @  -8.441027205504772\n",
            "running @  -9.426998526772408\n",
            "running @  -10.412808470157891\n",
            "itteration number: 1000\n",
            "----------------------\n",
            "Training for  :  0 VS 5\n",
            "running @  -2.8616903329164836\n",
            "running @  -5.625736662340557\n",
            "running @  -8.2134656406167\n",
            "running @  -10.765105273450693\n",
            "running @  -13.309410697437832\n",
            "running @  -15.852226928028042\n",
            "running @  -18.394740827016005\n",
            "running @  -20.937193349356388\n",
            "running @  -23.479633411579737\n",
            "running @  -26.02207094396946\n",
            "itteration number: 1000\n",
            "----------------------\n",
            "Training for  :  0 VS 6\n",
            "running @  -5.454744258730047\n",
            "running @  -10.601912431476752\n",
            "running @  -15.62093411837163\n",
            "running @  -20.626062689143538\n",
            "running @  -25.629705234277466\n",
            "running @  -30.633189052905745\n",
            "running @  -35.636655920277455\n",
            "running @  -40.64012096862953\n",
            "running @  -45.64358583227223\n",
            "running @  -50.647050794562716\n",
            "itteration number: 1000\n",
            "----------------------\n",
            "Training for  :  0 VS 7\n",
            "running @  -6.799556312308862\n",
            "running @  -13.227846977654401\n",
            "running @  -19.54979624337852\n",
            "running @  -25.86300395434805\n",
            "running @  -32.175502211276886\n",
            "running @  -38.487942948506195\n",
            "running @  -44.80037902314236\n",
            "running @  -51.11281471698618\n",
            "running @  -57.42525017934851\n",
            "running @  -63.73768561120288\n",
            "itteration number: 1000\n",
            "----------------------\n",
            "Training for  :  0 VS 8\n",
            "running @  -10.041602478678584\n",
            "running @  -19.623769086992354\n",
            "running @  -29.137622599963706\n",
            "running @  -38.648317087869536\n",
            "running @  -48.15886689044813\n",
            "running @  -57.66941008436131\n",
            "running @  -67.17995296502559\n",
            "running @  -76.69049314227952\n",
            "running @  -86.20102081101494\n",
            "running @  -95.70624069678271\n",
            "itteration number: 1000\n",
            "----------------------\n",
            "Training for  :  0 VS 9\n",
            "running @  -13.350909034544848\n",
            "running @  -26.205872761386466\n",
            "running @  -39.01603770659794\n",
            "running @  -51.824943692426885\n",
            "running @  -64.63381454218535\n",
            "running @  -77.44268437214232\n",
            "running @  -90.25155262454922\n",
            "running @  -103.06048082472252\n",
            "running @  -115.88664413279739\n",
            "itteration number: 939\n",
            "----------------------\n",
            "Training for  :  1 VS 2\n",
            "running @  -0.08491824215657931\n",
            "running @  -0.5909416254337232\n",
            "running @  -0.9709497625063173\n",
            "running @  -1.2876302225963692\n",
            "running @  -1.5704204801932213\n",
            "running @  -1.8341549737615728\n",
            "running @  -2.086811303473188\n",
            "running @  -2.3328880315183516\n",
            "running @  -2.57500411278206\n",
            "running @  -2.8147160405188645\n",
            "itteration number: 1000\n",
            "----------------------\n",
            "Training for  :  1 VS 3\n",
            "running @  -1.0534541400321622\n",
            "running @  -2.2892746898165126\n",
            "running @  -3.34369225938512\n",
            "running @  -4.332912030223038\n",
            "running @  -5.298102739964896\n",
            "running @  -6.25431531858078\n",
            "running @  -7.207154001700924\n",
            "running @  -8.15872195121662\n",
            "running @  -9.10981088365426\n",
            "running @  -10.060719186418204\n",
            "itteration number: 1000\n",
            "----------------------\n",
            "Training for  :  1 VS 4\n",
            "running @  -2.4564047798197777\n",
            "running @  -4.864255193920773\n",
            "running @  -7.089812892427705\n",
            "running @  -9.273464039259846\n",
            "running @  -11.447515180189571\n",
            "running @  -13.619366948579462\n",
            "running @  -15.790714803535474\n",
            "running @  -17.96194720128434\n",
            "running @  -20.133153145226682\n",
            "running @  -22.304353028069052\n",
            "itteration number: 1000\n",
            "----------------------\n",
            "Training for  :  1 VS 5\n",
            "running @  -4.611655587331883\n",
            "running @  -8.968957830413991\n",
            "running @  -13.182651331114789\n",
            "running @  -17.37752937970974\n",
            "running @  -21.569974615744744\n",
            "running @  -25.762105793470234\n",
            "running @  -29.95419643680701\n",
            "running @  -34.14628184759482\n",
            "running @  -38.33836657364642\n",
            "running @  -42.53045122916072\n",
            "itteration number: 1000\n",
            "----------------------\n",
            "Training for  :  1 VS 6\n",
            "running @  -7.589301043860303\n",
            "running @  -14.779847565061166\n",
            "running @  -21.875132726382514\n",
            "running @  -28.963683399340102\n",
            "running @  -36.051763686237244\n",
            "running @  -43.139811145463426\n",
            "running @  -50.227856295569524\n",
            "running @  -57.31590131394979\n",
            "running @  -64.40394671868054\n",
            "running @  -71.4919984817664\n",
            "itteration number: 1000\n",
            "----------------------\n",
            "Training for  :  1 VS 7\n",
            "running @  -9.336409982460024\n",
            "running @  -18.227074957848572\n",
            "running @  -27.042711216442\n",
            "running @  -35.85445007016237\n",
            "running @  -44.66598854696676\n",
            "running @  -53.477516726884375\n",
            "running @  -62.289044391365536\n",
            "running @  -71.10057241405586\n",
            "running @  -79.91210510560627\n",
            "running @  -88.72338125394121\n",
            "itteration number: 1000\n",
            "----------------------\n",
            "Training for  :  1 VS 8\n",
            "running @  -12.963320892050897\n",
            "running @  -25.431284839556756\n",
            "running @  -37.85227597830478\n",
            "running @  -50.271872277851394\n",
            "running @  -62.69142744860456\n",
            "running @  -75.110981391889\n",
            "running @  -87.5305368903475\n",
            "running @  -99.95004920864133\n",
            "running @  -112.3663284568418\n",
            "itteration number: 951\n",
            "----------------------\n",
            "Training for  :  1 VS 9\n",
            "running @  -16.652233500436697\n",
            "running @  -32.79405820300233\n",
            "running @  -48.905544352966736\n",
            "running @  -65.01647973064958\n",
            "running @  -81.12740516361791\n",
            "running @  -97.23833086834408\n",
            "running @  -113.34926896920291\n",
            "running @  -129.48435278903358\n",
            "itteration number: 855\n",
            "----------------------\n",
            "Training for  :  2 VS 3\n",
            "running @  -2.5487967079621088\n",
            "running @  -5.037492319828626\n",
            "running @  -7.345118586744318\n",
            "running @  -9.612229011736204\n",
            "running @  -11.87031403784812\n",
            "running @  -14.126388918979444\n",
            "running @  -16.382016098522456\n",
            "running @  -18.63754356527605\n",
            "running @  -20.893048823825023\n",
            "running @  -23.148549136155836\n",
            "itteration number: 1000\n",
            "----------------------\n",
            "Training for  :  2 VS 4\n",
            "running @  -4.458676442887149\n",
            "running @  -8.671891573324432\n",
            "running @  -12.738633166882725\n",
            "running @  -16.7854723489705\n",
            "running @  -20.82964228589666\n",
            "running @  -24.873454811199135\n",
            "running @  -28.91721948938902\n",
            "running @  -32.96097776192091\n",
            "running @  -37.00473517776172\n",
            "running @  -41.0484924801397\n",
            "itteration number: 1000\n",
            "----------------------\n",
            "Training for  :  2 VS 5\n",
            "running @  -7.141853571335073\n",
            "running @  -13.899808032061324\n",
            "running @  -20.55638315218965\n",
            "running @  -27.205159510839803\n",
            "running @  -33.8533433799131\n",
            "running @  -40.50148227830763\n",
            "running @  -47.14961776067198\n",
            "running @  -53.797752963492435\n",
            "running @  -60.445888140416585\n",
            "running @  -67.09402029681351\n",
            "itteration number: 1000\n",
            "----------------------\n",
            "Training for  :  2 VS 6\n",
            "running @  -10.689742135382888\n",
            "running @  -20.91003919779361\n",
            "running @  -31.06761631283979\n",
            "running @  -41.2225780486851\n",
            "running @  -51.37743170224684\n",
            "running @  -61.532280890930295\n",
            "running @  -71.68712986393126\n",
            "running @  -81.84197891605683\n",
            "running @  -91.99685334604345\n",
            "running @  -102.14754630493512\n",
            "itteration number: 1000\n",
            "----------------------\n",
            "Training for  :  2 VS 7\n",
            "running @  -13.111643510931765\n",
            "running @  -25.7270828532669\n",
            "running @  -38.29639064488762\n",
            "running @  -50.86435718279602\n",
            "running @  -63.43228500610484\n",
            "running @  -76.00021175222268\n",
            "running @  -88.56813656418562\n",
            "running @  -101.13603749823449\n",
            "running @  -113.70411902167818\n",
            "itteration number: 948\n",
            "----------------------\n",
            "Training for  :  2 VS 8\n",
            "running @  -17.404223232720607\n",
            "running @  -34.2949629025302\n",
            "running @  -51.15782087112634\n",
            "running @  -68.02021757854351\n",
            "running @  -84.88260669959382\n",
            "running @  -101.74499722638025\n",
            "running @  -118.60737544561755\n",
            "running @  -135.50706965146784\n",
            "itteration number: 822\n",
            "----------------------\n",
            "Training for  :  2 VS 9\n",
            "running @  -21.794027276643543\n",
            "running @  -43.08313705496189\n",
            "running @  -64.3547851839782\n",
            "running @  -85.62625940004718\n",
            "running @  -106.89773158000693\n",
            "running @  -128.16922946772394\n",
            "running @  -149.46001113626488\n",
            "itteration number: 735\n",
            "----------------------\n",
            "Training for  :  3 VS 4\n",
            "running @  -6.755218915366433\n",
            "running @  -13.13997096949045\n",
            "running @  -19.41776466859262\n",
            "running @  -25.686687715218348\n",
            "running @  -31.954884434219675\n",
            "running @  -38.223021742891106\n",
            "running @  -44.49115418686759\n",
            "running @  -50.759286243678105\n",
            "running @  -57.02741822169232\n",
            "running @  -63.295550428814984\n",
            "itteration number: 1000\n",
            "----------------------\n",
            "Training for  :  3 VS 5\n",
            "running @  -9.822080953464006\n",
            "running @  -19.189985766754205\n",
            "running @  -28.48755768505127\n",
            "running @  -37.78175948870451\n",
            "running @  -47.075801387557924\n",
            "running @  -56.3698357107848\n",
            "running @  -65.66386963534286\n",
            "running @  -74.95790308959171\n",
            "running @  -84.25192849786127\n",
            "running @  -93.54610384906063\n",
            "itteration number: 1000\n",
            "----------------------\n",
            "Training for  :  3 VS 6\n",
            "running @  -13.752326047382896\n",
            "running @  -27.006124570400587\n",
            "running @  -40.21725960025459\n",
            "running @  -53.427260859247056\n",
            "running @  -66.63723218323862\n",
            "running @  -79.84720267662108\n",
            "running @  -93.05717609592688\n",
            "running @  -106.26714306502687\n",
            "running @  -119.45171401094188\n",
            "itteration number: 939\n",
            "----------------------\n",
            "Training for  :  3 VS 7\n",
            "running @  -16.77363003450195\n",
            "running @  -33.03515843139362\n",
            "running @  -49.2667548649276\n",
            "running @  -65.49781599409081\n",
            "running @  -81.728867622798\n",
            "running @  -97.95991891816982\n",
            "running @  -114.19099094678629\n",
            "running @  -130.45216817318703\n",
            "itteration number: 852\n",
            "----------------------\n",
            "Training for  :  3 VS 8\n",
            "running @  -21.498271785855074\n",
            "running @  -42.488333880832066\n",
            "running @  -63.460399530035666\n",
            "running @  -84.43227996837285\n",
            "running @  -105.40415820015438\n",
            "running @  -126.37602567499997\n",
            "running @  -147.33391619137527\n",
            "itteration number: 747\n",
            "----------------------\n",
            "Training for  :  3 VS 9\n",
            "running @  -26.356166396677708\n",
            "running @  -52.22573115990622\n",
            "running @  -78.08411920612026\n",
            "running @  -103.94243792788194\n",
            "running @  -129.80075746712657\n",
            "running @  -155.65637145338835\n",
            "itteration number: 681\n",
            "----------------------\n",
            "Training for  :  4 VS 5\n",
            "running @  -12.938274447404925\n",
            "running @  -25.38211186879571\n",
            "running @  -37.77882040523172\n",
            "running @  -50.174124603476116\n",
            "running @  -62.56938724779581\n",
            "running @  -74.96464866518473\n",
            "running @  -87.35990932503358\n",
            "running @  -99.75515064425231\n",
            "running @  -112.14804351268833\n",
            "itteration number: 969\n",
            "----------------------\n",
            "Training for  :  4 VS 6\n",
            "running @  -17.208226507643865\n",
            "running @  -33.904098581510524\n",
            "running @  -50.57147101682928\n",
            "running @  -67.2383605324526\n",
            "running @  -83.9052418937812\n",
            "running @  -100.57212284786705\n",
            "running @  -117.2389233463303\n",
            "running @  -133.8473063524929\n",
            "itteration number: 837\n",
            "----------------------\n",
            "Training for  :  4 VS 7\n",
            "running @  -20.876300820739154\n",
            "running @  -41.24225417579101\n",
            "running @  -61.589020965552024\n",
            "running @  -81.93557620575866\n",
            "running @  -102.28212907887308\n",
            "running @  -122.62868291951729\n",
            "running @  -142.9889570809062\n",
            "itteration number: 762\n",
            "----------------------\n",
            "Training for  :  4 VS 8\n",
            "running @  -25.996095559936645\n",
            "running @  -51.50138385710484\n",
            "running @  -76.99511170307012\n",
            "running @  -102.48876521130944\n",
            "running @  -127.9824161462298\n",
            "running @  -153.4762478821261\n",
            "itteration number: 681\n",
            "----------------------\n",
            "Training for  :  4 VS 9\n",
            "running @  -31.298806053064006\n",
            "running @  -62.13977719467351\n",
            "running @  -92.97359437643908\n",
            "running @  -123.80738367422869\n",
            "running @  -154.6411699778487\n",
            "running @  -185.48960558392423\n",
            "itteration number: 624\n",
            "----------------------\n",
            "Training for  :  5 VS 6\n",
            "running @  -20.962683025586934\n",
            "running @  -41.418064761748525\n",
            "running @  -61.85442399905801\n",
            "running @  -82.29057553933553\n",
            "running @  -102.72672484523198\n",
            "running @  -123.16285690710828\n",
            "running @  -143.6069519765839\n",
            "itteration number: 747\n",
            "----------------------\n",
            "Training for  :  5 VS 7\n",
            "running @  -25.164856956326975\n",
            "running @  -49.836178044351165\n",
            "running @  -74.49498448087296\n",
            "running @  -99.15370344677898\n",
            "running @  -123.81242020375885\n",
            "running @  -148.47202162371113\n",
            "itteration number: 693\n",
            "----------------------\n",
            "Training for  :  5 VS 8\n",
            "running @  -30.44482102390963\n",
            "running @  -60.42543676183374\n",
            "running @  -90.39834295135034\n",
            "running @  -120.37121673869136\n",
            "running @  -150.3440988388148\n",
            "running @  -180.40722350688173\n",
            "itteration number: 633\n",
            "----------------------\n",
            "Training for  :  5 VS 9\n",
            "running @  -35.946067803102345\n",
            "running @  -71.46609404200134\n",
            "running @  -106.98127930250557\n",
            "running @  -142.4964522349169\n",
            "running @  -178.01091465283807\n",
            "itteration number: 582\n",
            "----------------------\n",
            "Training for  :  6 VS 7\n",
            "running @  -30.310074650727728\n",
            "running @  -60.15459017757721\n",
            "running @  -89.99130458018807\n",
            "running @  -119.82798575232118\n",
            "running @  -149.66466826037612\n",
            "running @  -179.52160283576882\n",
            "itteration number: 630\n",
            "----------------------\n",
            "Training for  :  6 VS 8\n",
            "running @  -35.742786067238924\n",
            "running @  -71.0543332031862\n",
            "running @  -106.36095959556528\n",
            "running @  -141.66757292200907\n",
            "running @  -176.97442147342818\n",
            "itteration number: 576\n",
            "----------------------\n",
            "Training for  :  6 VS 9\n",
            "running @  -41.450830735325816\n",
            "running @  -82.51347016218303\n",
            "running @  -123.57297119355327\n",
            "running @  -164.6324659252067\n",
            "running @  -205.64684181253958\n",
            "itteration number: 537\n",
            "----------------------\n",
            "Training for  :  7 VS 8\n",
            "running @  -42.74789344331606\n",
            "running @  -85.1140782831565\n",
            "running @  -127.47741842727821\n",
            "running @  -169.84075130819122\n",
            "running @  -212.2468865257581\n",
            "itteration number: 537\n",
            "----------------------\n",
            "Training for  :  7 VS 9\n",
            "running @  -49.52678268273306\n",
            "running @  -98.7245478236737\n",
            "running @  -147.92057122617086\n",
            "running @  -197.1165437905773\n",
            "itteration number: 495\n",
            "----------------------\n",
            "Training for  :  8 VS 9\n",
            "running @  -56.49488567661963\n",
            "running @  -112.72022870499387\n",
            "running @  -168.94448436102797\n",
            "running @  -225.17029923181565\n",
            "itteration number: 471\n",
            "----------------------\n"
          ],
          "name": "stdout"
        }
      ]
    },
    {
      "cell_type": "code",
      "metadata": {
        "colab": {
          "base_uri": "https://localhost:8080/"
        },
        "id": "N_kyI2G2THPd",
        "outputId": "8e4549ba-ac02-426e-efaf-d0cfd8b550e4"
      },
      "source": [
        "weights = np.array(W)\n",
        "weights.shape"
      ],
      "execution_count": 48,
      "outputs": [
        {
          "output_type": "execute_result",
          "data": {
            "text/plain": [
              "(45, 4096)"
            ]
          },
          "metadata": {
            "tags": []
          },
          "execution_count": 48
        }
      ]
    },
    {
      "cell_type": "code",
      "metadata": {
        "colab": {
          "base_uri": "https://localhost:8080/"
        },
        "id": "snjXP_B8Sfp_",
        "outputId": "7ef3c28b-9c34-48cc-ff44-fc8ca1f33eab"
      },
      "source": [
        "bias = np.array(B)\n",
        "bias.shape"
      ],
      "execution_count": 79,
      "outputs": [
        {
          "output_type": "execute_result",
          "data": {
            "text/plain": [
              "(45,)"
            ]
          },
          "metadata": {
            "tags": []
          },
          "execution_count": 79
        }
      ]
    },
    {
      "cell_type": "code",
      "metadata": {
        "colab": {
          "base_uri": "https://localhost:8080/"
        },
        "id": "nx6-AT7aUsLq",
        "outputId": "4486f718-f1c8-4bb4-9fe7-932ad28bcaa3"
      },
      "source": [
        "print(X_test.shape, y_test.shape)"
      ],
      "execution_count": 51,
      "outputs": [
        {
          "output_type": "stream",
          "text": [
            "(619, 4096) (619, 1)\n"
          ],
          "name": "stdout"
        }
      ]
    },
    {
      "cell_type": "code",
      "metadata": {
        "colab": {
          "base_uri": "https://localhost:8080/"
        },
        "id": "xjbZFLdJWvyT",
        "outputId": "84e188ed-fa00-4463-cdc0-ffe005a5d905"
      },
      "source": [
        "\n",
        "W0 = weights[[0,1,2,3,4,5,6,7,8]]\n",
        "W1 = weights[[0,9,10,11,12,13,14,15,16]]\n",
        "W2 = weights[[1,9,17,18,19,20,21,22,23]]\n",
        "W3 = weights[[2,10,17,24,25,26,27,28,29]]\n",
        "W4 = weights[[3,11,18,24,30,31,32,33,34]]\n",
        "W5 = weights[[4,12,19,25,30,35,36,37,38]]\n",
        "W6 = weights[[5,13,20,26,31,35,39,40,41]]\n",
        "W7 = weights[[6,14,21,27,32,36,39,42,43]]\n",
        "W8 = weights[[7,15,22,28,33,37,40,42,44]]\n",
        "W9 = weights[[8,16,23,29,34,38,41,43,44]]\n",
        "all_weights = [W0,W1,W2,W3,W4,W5,W6,W7,W8,W9]\n",
        "all_weights = np.array(all_weights)\n",
        "print(all_weights.shape)"
      ],
      "execution_count": 89,
      "outputs": [
        {
          "output_type": "stream",
          "text": [
            "(10, 9, 4096)\n"
          ],
          "name": "stdout"
        }
      ]
    },
    {
      "cell_type": "code",
      "metadata": {
        "colab": {
          "base_uri": "https://localhost:8080/"
        },
        "id": "KA_JIEQ6aWJn",
        "outputId": "b1b620ce-0a48-4d80-b880-172bce845e7a"
      },
      "source": [
        "print(W0.shape, W1.shape, W2.shape, W3.shape, W4.shape, W5.shape, W6.shape, W7.shape, W8.shape, W9.shape)"
      ],
      "execution_count": 78,
      "outputs": [
        {
          "output_type": "stream",
          "text": [
            "(9, 4096) (9, 4096) (9, 4096) (9, 4096) (9, 4096) (9, 4096) (9, 4096) (9, 4096) (9, 4096) (9, 4096)\n"
          ],
          "name": "stdout"
        }
      ]
    },
    {
      "cell_type": "markdown",
      "metadata": {
        "id": "KJL8hAqtq2qu"
      },
      "source": [
        "### Prediction & testing"
      ]
    },
    {
      "cell_type": "code",
      "metadata": {
        "id": "mKQ8o6a3a7JI"
      },
      "source": [
        "def predict_1_vs_1(X, idx, counts, W):\n",
        "  hyp = np.matmul(X, W[idx].T)\n",
        "  pred = 1/(1 + np.exp(-hyp))\n",
        "  counts[idx] = np.argwhere(pred > 0.5).flatten().shape[0]\n",
        "  return counts\n",
        "\n",
        "confusion_matrix = np.zeros((10,10))\n",
        "correct = 0\n",
        "for i in range(619):\n",
        "  counts = np.zeros(10)\n",
        "  for j in range(10):\n",
        "    counts = predict_1_vs_1(X_test[i], j, counts, all_weights)\n",
        "  pred = np.argmax(counts)\n",
        "  if (pred==y_test[i][0]):\n",
        "    correct += 1\n",
        "    #print(pred,y_test[i])\n",
        "  confusion_matrix[y_test[i][0]][pred] += 1\n"
      ],
      "execution_count": null,
      "outputs": []
    },
    {
      "cell_type": "code",
      "metadata": {
        "colab": {
          "base_uri": "https://localhost:8080/"
        },
        "id": "YrOOQcLEbYsa",
        "outputId": "5cb21148-4ccc-424c-bf37-fceca793db81"
      },
      "source": [
        "print(\"Accuracy =\",correct/619*100)\n",
        "print(\"confusion_matrix\\n\",confusion_matrix)"
      ],
      "execution_count": 112,
      "outputs": [
        {
          "output_type": "stream",
          "text": [
            "Accuracy = 46.203554119547654\n",
            "confusion_matrix\n",
            " [[32  2  3 10  1  2  5  6  3  0]\n",
            " [ 5 28  5  4  6  4  0  4  1  4]\n",
            " [ 6 11 25  7  8  1  8  1  0  3]\n",
            " [ 0  7  1 31 14  2  0  5  4  6]\n",
            " [ 1  8  0  5 22  9  8 10  2  2]\n",
            " [ 6  6  0  1  0 40  1  0  3  0]\n",
            " [ 0  2  5  1  0  8 20  0  0  7]\n",
            " [ 7  7  8  3  0  0  0 36  1  3]\n",
            " [ 0  5  5  8 10  3  6  7 16  0]\n",
            " [ 4  8  1  2  2  5  0  4  0 36]]\n"
          ],
          "name": "stdout"
        }
      ]
    },
    {
      "cell_type": "markdown",
      "metadata": {
        "id": "7d5koUkQrld5"
      },
      "source": [
        "## Using Sklearn"
      ]
    },
    {
      "cell_type": "code",
      "metadata": {
        "colab": {
          "base_uri": "https://localhost:8080/"
        },
        "id": "XkfUTaT3rnzu",
        "outputId": "6d1d8f4f-2729-48a8-a258-7864fb33c013"
      },
      "source": [
        "y_test = y_test.flatten()\n",
        "y_train = y_train.flatten()"
      ],
      "execution_count": 122,
      "outputs": [
        {
          "output_type": "execute_result",
          "data": {
            "text/plain": [
              "(1443,)"
            ]
          },
          "metadata": {
            "tags": []
          },
          "execution_count": 122
        }
      ]
    },
    {
      "cell_type": "code",
      "metadata": {
        "id": "I1gbX5EDsLTm"
      },
      "source": [
        "clf = LogisticRegression(multi_class='ovr')\n",
        "clf.fit(X_train, y_train)"
      ],
      "execution_count": null,
      "outputs": []
    },
    {
      "cell_type": "code",
      "metadata": {
        "id": "KEcbR5cXslmF"
      },
      "source": [
        "pred = clf.predict(X_test)"
      ],
      "execution_count": 129,
      "outputs": []
    },
    {
      "cell_type": "code",
      "metadata": {
        "colab": {
          "base_uri": "https://localhost:8080/"
        },
        "id": "nn1l1jbHs6it",
        "outputId": "a31e0d26-eba2-473a-9d27-c770ea6a8f24"
      },
      "source": [
        "clf.score(X_test, y_test)"
      ],
      "execution_count": 130,
      "outputs": [
        {
          "output_type": "execute_result",
          "data": {
            "text/plain": [
              "0.7253634894991923"
            ]
          },
          "metadata": {
            "tags": []
          },
          "execution_count": 130
        }
      ]
    },
    {
      "cell_type": "code",
      "metadata": {
        "colab": {
          "base_uri": "https://localhost:8080/",
          "height": 449
        },
        "id": "VGkl1fdmtB7m",
        "outputId": "d5cd7da5-9a96-4e0d-b653-5fdfde4480d9"
      },
      "source": [
        "disp =metrics.plot_confusion_matrix(clf, X_test, y_test)\n",
        "print(disp.confusion_matrix)"
      ],
      "execution_count": 131,
      "outputs": [
        {
          "output_type": "stream",
          "text": [
            "[[50  1  0  1  0  4  2  2  0  4]\n",
            " [ 1 52  0  1  1  1  5  0  0  0]\n",
            " [ 0  2 38  3  4  4  7  0 10  2]\n",
            " [ 0  0  2 48  1  0  7  0 12  0]\n",
            " [ 0  0  2  0 58  2  0  0  5  0]\n",
            " [ 7  1  2  2  2 39  2  0  2  0]\n",
            " [ 2  2  8  4  0  6 19  0  2  0]\n",
            " [ 3  0  1  1  1  1  1 53  3  1]\n",
            " [ 1  0  6  8  5  0  1  0 39  0]\n",
            " [ 1  1  0  0  0  0  2  5  0 53]]\n"
          ],
          "name": "stdout"
        },
        {
          "output_type": "display_data",
          "data": {
            "image/png": "[encoded data removed]",
            "text/plain": [
              "<Figure size 432x288 with 2 Axes>"
            ]
          },
          "metadata": {
            "tags": [],
            "needs_background": "light"
          }
        }
      ]
    }
  ]
}