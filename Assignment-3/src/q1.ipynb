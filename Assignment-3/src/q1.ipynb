{
  "nbformat": 4,
  "nbformat_minor": 0,
  "metadata": {
    "colab": {
      "name": "smai_assg_5_Q_1.ipynb",
      "provenance": [],
      "collapsed_sections": []
    },
    "kernelspec": {
      "name": "python3",
      "display_name": "Python 3"
    },
    "language_info": {
      "name": "python"
    },
    "accelerator": "GPU"
  },
  "cells": [
    {
      "cell_type": "code",
      "metadata": {
        "id": "HP0h4LqO8Mjq"
      },
      "source": [
        "# Imports\n",
        "import torch\n",
        "import torchvision # torch package for vision related things\n",
        "import torch.nn.functional as F  # Parameterless functions, like (some) activation functions\n",
        "import torchvision.datasets as datasets  # Standard datasets\n",
        "import torchvision.transforms as transforms  # Transformations we can perform on our dataset for augmentation\n",
        "from torch import optim  # For optimizers like SGD, Adam, etc.\n",
        "from torch import nn  # All neural network modules\n",
        "from torch.utils.data import DataLoader, random_split  # Gives easier dataset managment by creating mini batches etc.\n",
        "from tqdm import tqdm  # For nice progress bar!\n",
        "from sklearn.metrics import confusion_matrix\n",
        "import timeit\n",
        "import numpy as np\n",
        "import cv2\n",
        "import matplotlib.pyplot as plt"
      ],
      "execution_count": null,
      "outputs": []
    },
    {
      "cell_type": "markdown",
      "metadata": {
        "id": "blal3KJdfozH"
      },
      "source": [
        "#### Loading training and testing dataset"
      ]
    },
    {
      "cell_type": "code",
      "metadata": {
        "colab": {
          "base_uri": "https://localhost:8080/"
        },
        "id": "AxIp9zNc8Spa",
        "outputId": "dba2598a-00e8-4796-c383-9a6d641412b9"
      },
      "source": [
        "# Load Training and Test data\n",
        "batch_size = 64\n",
        "train_dataset = datasets.CIFAR10(root=\"dataset/\", train=True, transform=transforms.ToTensor(), download=True)\n",
        "train_dataset, valid_dataset = random_split(train_dataset,[40000,10000])\n",
        "\n",
        "test_dataset = datasets.CIFAR10(root=\"dataset/\", train=False, transform=transforms.ToTensor(), download=True)\n",
        "\n",
        "train_loader = DataLoader(dataset=train_dataset, batch_size=batch_size, shuffle=True)\n",
        "valid_loader = DataLoader(dataset=valid_dataset, batch_size=batch_size, shuffle=True)\n",
        "test_loader = DataLoader(dataset=test_dataset, batch_size=batch_size, shuffle=True)\n"
      ],
      "execution_count": null,
      "outputs": [
        {
          "output_type": "stream",
          "text": [
            "Files already downloaded and verified\n",
            "Files already downloaded and verified\n"
          ],
          "name": "stdout"
        }
      ]
    },
    {
      "cell_type": "markdown",
      "metadata": {
        "id": "PsZcShf9frI0"
      },
      "source": [
        "### Setting device to GPU to speed up"
      ]
    },
    {
      "cell_type": "code",
      "metadata": {
        "colab": {
          "base_uri": "https://localhost:8080/",
          "height": 35
        },
        "id": "mWGu87vK8Vuc",
        "outputId": "892d5570-1356-40e1-bd61-a21d79339f83"
      },
      "source": [
        "# Set device cuda for GPU if it's available otherwise run on the CPU\n",
        "device = torch.device(\"cuda\" if torch.cuda.is_available() else \"cpu\")\n",
        "torch.cuda.get_device_name(0)\n"
      ],
      "execution_count": null,
      "outputs": [
        {
          "output_type": "execute_result",
          "data": {
            "application/vnd.google.colaboratory.intrinsic+json": {
              "type": "string"
            },
            "text/plain": [
              "'Tesla T4'"
            ]
          },
          "metadata": {
            "tags": []
          },
          "execution_count": 44
        }
      ]
    },
    {
      "cell_type": "markdown",
      "metadata": {
        "id": "ayprdChXfwhe"
      },
      "source": [
        "#### Hyperparameters of our network which depends on the dataset"
      ]
    },
    {
      "cell_type": "code",
      "metadata": {
        "id": "Q1nHW-HC8YgS"
      },
      "source": [
        "\n",
        "in_channels = 3\n",
        "num_classes = 10\n",
        "learning_rate = 0.001\n",
        "batch_size = 64\n",
        "num_epochs = 5"
      ],
      "execution_count": null,
      "outputs": []
    },
    {
      "cell_type": "markdown",
      "metadata": {
        "id": "I02bHaSlf49a"
      },
      "source": [
        "### 2 Layer CNN model with batch normalization"
      ]
    },
    {
      "cell_type": "code",
      "metadata": {
        "id": "ozm9oheJ8clY"
      },
      "source": [
        "class Cifar10CnnModel(nn.Module):\n",
        "    def __init__(self):\n",
        "        super().__init__()\n",
        "        \n",
        "        self.network = nn.Sequential(\n",
        "            nn.Conv2d(3, 8, kernel_size=3, padding=1),\n",
        "            nn.ReLU(),\n",
        "            nn.BatchNorm2d(8),\n",
        "            nn.MaxPool2d(2, 2), # output: 8 x 16 x 16\n",
        "\n",
        "            nn.Conv2d(8, 24, kernel_size=3, stride=1, padding=1),\n",
        "            nn.ReLU(),\n",
        "            nn.BatchNorm2d(24),\n",
        "            nn.MaxPool2d(2, 2), # output: 24 x 8 x 8\n",
        "\n",
        "            nn.Flatten(), \n",
        "            nn.Linear(24*8*8, 64),\n",
        "            nn.ReLU(),\n",
        "            nn.Linear(64, 10),\n",
        "            nn.Softmax(dim=1)\n",
        "            )\n",
        "        \n",
        "    def forward(self, x):\n",
        "        return self.network(x)"
      ],
      "execution_count": null,
      "outputs": []
    },
    {
      "cell_type": "markdown",
      "metadata": {
        "id": "KR7nQ8oKgBEY"
      },
      "source": [
        "### 2 Layer CNN model without batch normalization"
      ]
    },
    {
      "cell_type": "code",
      "metadata": {
        "id": "7i1UPdcQLVFB"
      },
      "source": [
        "class Cifar10CnnModel_no_batch_norm(nn.Module):\n",
        "    def __init__(self):\n",
        "        super().__init__()\n",
        "        \n",
        "        self.network = nn.Sequential(\n",
        "            nn.Conv2d(3, 8, kernel_size=3, padding=1),\n",
        "            nn.ReLU(),\n",
        "            #nn.BatchNorm2d(8),\n",
        "            nn.MaxPool2d(2, 2), # output: 8 x 16 x 16\n",
        "\n",
        "            nn.Conv2d(8, 24, kernel_size=3, stride=1, padding=1),\n",
        "            nn.ReLU(),\n",
        "            #nn.BatchNorm2d(24),\n",
        "            nn.MaxPool2d(2, 2), # output: 24 x 8 x 8\n",
        "\n",
        "            nn.Flatten(), \n",
        "            nn.Linear(24*8*8, 64),\n",
        "            nn.ReLU(),\n",
        "            nn.Linear(64, 10),\n",
        "            nn.Softmax(dim=1)\n",
        "            )\n",
        "        \n",
        "    def forward(self, x):\n",
        "        return self.network(x)"
      ],
      "execution_count": null,
      "outputs": []
    },
    {
      "cell_type": "markdown",
      "metadata": {
        "id": "Ft0J3VurgDMN"
      },
      "source": [
        "### 3 Layer CNN model with batch normalization"
      ]
    },
    {
      "cell_type": "code",
      "metadata": {
        "id": "V4U3GueOEjMO"
      },
      "source": [
        "class Cifar10CnnModel_3_layers(nn.Module):\n",
        "    def __init__(self):\n",
        "        super().__init__()\n",
        "\n",
        "        self.network = nn.Sequential(\n",
        "            nn.Conv2d(3, 5, kernel_size=3, padding=1),\n",
        "            nn.ReLU(),\n",
        "            nn.BatchNorm2d(5),\n",
        "            nn.MaxPool2d(2, 2), # output: 5 x 16 x 16\n",
        "\n",
        "            nn.Conv2d(5, 10, kernel_size=3, stride=1, padding=1),\n",
        "            nn.ReLU(),\n",
        "            nn.BatchNorm2d(10),\n",
        "            nn.MaxPool2d(2, 2), # output: 10 x 8 x 8\n",
        "\n",
        "            nn.Conv2d(10, 20, kernel_size=3, stride=1, padding=1),\n",
        "            nn.ReLU(),\n",
        "            nn.BatchNorm2d(20),\n",
        "            nn.MaxPool2d(2, 2), # output: 20 x 4 x 4\n",
        "\n",
        "            nn.Flatten(), \n",
        "            nn.Linear(20*4*4, 64),\n",
        "            nn.ReLU(),\n",
        "            nn.Linear(64, 10),\n",
        "            nn.Softmax(dim=1)\n",
        "            )\n",
        "        \n",
        "    def forward(self, x):\n",
        "        return self.network(x)"
      ],
      "execution_count": null,
      "outputs": []
    },
    {
      "cell_type": "markdown",
      "metadata": {
        "id": "e-gOLhOngFMZ"
      },
      "source": [
        "#### Reseting parameters of model"
      ]
    },
    {
      "cell_type": "code",
      "metadata": {
        "id": "9PUZblk1Cymc"
      },
      "source": [
        "def reset_network_params(model):\n",
        "  for layer in model.children():\n",
        "    if hasattr(layer, 'reset_parameters'):\n",
        "        layer.reset_parameters()\n",
        "  return model"
      ],
      "execution_count": null,
      "outputs": []
    },
    {
      "cell_type": "code",
      "metadata": {
        "id": "JYoc5T6B-_90"
      },
      "source": [
        "\n",
        "# Hyperparameters of our neural network which depends on the dataset, and\n",
        "# also just experimenting to see what works well (learning rate for example).\n",
        "in_channels = 3\n",
        "num_classes = 10\n",
        "learning_rate = 0.001\n",
        "batch_size = 64\n",
        "num_epochs = 10\n"
      ],
      "execution_count": null,
      "outputs": []
    },
    {
      "cell_type": "markdown",
      "metadata": {
        "id": "iAEnUVkdgPKw"
      },
      "source": [
        "#### Function to plot Train loss and validation loss per epoch"
      ]
    },
    {
      "cell_type": "code",
      "metadata": {
        "id": "Pht5FPK6N1hM"
      },
      "source": [
        "def plot_losses(train_loss, valid_loss):\n",
        "  plt.plot(train_loss, '-bx')\n",
        "  plt.plot(valid_loss, '-rx')\n",
        "  plt.xlabel(\"Epoch\")\n",
        "  plt.ylabel(\"Loss\")\n",
        "  plt.legend(['Training', 'Validation'])\n",
        "  plt.title(\"Loss vs Epoch\")"
      ],
      "execution_count": null,
      "outputs": []
    },
    {
      "cell_type": "markdown",
      "metadata": {
        "id": "xzI6_2upgPvp"
      },
      "source": [
        "#### Funtion to plot accuracy per epoch during training"
      ]
    },
    {
      "cell_type": "code",
      "metadata": {
        "id": "QQ_WCMAcN5oe"
      },
      "source": [
        "def plot_accuracy(accuracy, num_epoch=30):\n",
        "  #plt.plot(train_loss, '-bx')\n",
        "  plt.plot(accuracy, '-ro')\n",
        "  plt.xlabel(\"Epoch\")\n",
        "  plt.ylabel(\"Accuracy\")\n",
        "  #plt.legend(['Training', 'Validation'])\n",
        "  plt.title(\"Accuracy vs Epoch\")"
      ],
      "execution_count": null,
      "outputs": []
    },
    {
      "cell_type": "markdown",
      "metadata": {
        "id": "Lmv9RT92gVPR"
      },
      "source": [
        "#### Funtion to calculate accuracy of model"
      ]
    },
    {
      "cell_type": "code",
      "metadata": {
        "id": "gUAkBYCKN-uG"
      },
      "source": [
        "\n",
        "# Check accuracy on training & test to see how good our model\n",
        "def check_accuracy(loader, model):\n",
        "    num_correct = 0\n",
        "    num_samples = 0\n",
        "    model.eval()\n",
        "    pred = []\n",
        "    with torch.no_grad():\n",
        "        for x, y in loader:\n",
        "            x = x.to(device=device)\n",
        "            y = y.to(device=device)\n",
        "            scores = model(x)\n",
        "            _, predictions = scores.max(1)\n",
        "            num_correct += (predictions == y).sum()\n",
        "            num_samples += predictions.size(0)\n",
        "\n",
        "    model.train()\n",
        "    return num_correct/num_samples\n",
        "\n"
      ],
      "execution_count": null,
      "outputs": []
    },
    {
      "cell_type": "markdown",
      "metadata": {
        "id": "UwXzs2G5gYEj"
      },
      "source": [
        "#### Funtion to show confusion matrix"
      ]
    },
    {
      "cell_type": "code",
      "metadata": {
        "colab": {
          "base_uri": "https://localhost:8080/",
          "height": 593
        },
        "id": "mqnp0zRmRmcu",
        "outputId": "2b4a9304-701d-4f6d-9cf5-aee7e604a53e"
      },
      "source": [
        "import seaborn as sns\n",
        "# Check accuracy on training & test to see how good our model\n",
        "def get_confusion_matrix(loader, model):\n",
        "    with torch.no_grad():\n",
        "        pred = np.zeros(1)\n",
        "        actual = np.zeros(1)\n",
        "        for x, y in loader:\n",
        "            actual = np.append(actual, y.numpy())\n",
        "            x = x.to(device=device)\n",
        "            y = y.to(device=device)\n",
        "            scores = model(x)\n",
        "            _, predictions = scores.max(1)\n",
        "            #print(predictions)\n",
        "            pred = np.append(pred, predictions.cpu().data.numpy())\n",
        "            #print(i,predictions.shape)\n",
        "            #i+=1\n",
        "            #break\n",
        "    actual = actual[1:]\n",
        "    pred = pred[1:]\n",
        "    print(actual.shape, pred.shape)\n",
        "    print(type(actual), type(pred),pred)\n",
        "    actual = actual.astype(int)\n",
        "    pred = pred.astype(int)\n",
        "    #return actual, pred\n",
        "    cf_mat = confusion_matrix(list(actual), list(pred) )\n",
        "    plt.figure(figsize=(9,9))\n",
        "    sns.heatmap(cf_mat, annot=True)\n",
        "    #return cf_mat\n",
        "\n"
      ],
      "execution_count": null,
      "outputs": [
        {
          "output_type": "stream",
          "text": [
            "(10000,) (10000,)\n",
            "<class 'numpy.ndarray'> <class 'numpy.ndarray'> [2. 1. 3. ... 2. 6. 5.]\n"
          ],
          "name": "stdout"
        },
        {
          "output_type": "execute_result",
          "data": {
            "text/plain": [
              "<matplotlib.axes._subplots.AxesSubplot at 0x7fc9ad737e50>"
            ]
          },
          "metadata": {
            "tags": []
          },
          "execution_count": 64
        },
        {
          "output_type": "display_data",
          "data": {
            "image/png": "[encoded data removed]",
            "text/plain": [
              "<Figure size 648x648 with 2 Axes>"
            ]
          },
          "metadata": {
            "tags": [],
            "needs_background": "light"
          }
        }
      ]
    },
    {
      "cell_type": "markdown",
      "metadata": {
        "id": "1OnrF8QMwTtv"
      },
      "source": [
        "#### Training with validation"
      ]
    },
    {
      "cell_type": "code",
      "metadata": {
        "id": "tG0qbVoZ9WgU"
      },
      "source": [
        "\n",
        "def train_model(model, criterion, optimizer, num_epoch=5):\n",
        "  start = timeit.default_timer()\n",
        "  accuracy = []\n",
        "  train_loss = []\n",
        "  valid_loss = []\n",
        "  # Train Network\n",
        "  for epoch in range(num_epoch):\n",
        "      tr_loss = 0.0\n",
        "      for batch_idx, (data, targets) in enumerate(tqdm(train_loader)):\n",
        "          # Get data to cuda if possible\n",
        "          data = data.to(device=device)\n",
        "          targets = targets.to(device=device)\n",
        "\n",
        "          # forward\n",
        "          scores = model(data)\n",
        "          loss = criterion(scores, targets)\n",
        "\n",
        "          # backward\n",
        "          optimizer.zero_grad()\n",
        "          loss.backward()\n",
        "\n",
        "          # gradient descent or adam step\n",
        "          optimizer.step()\n",
        "          tr_loss += loss.item()\n",
        "      #if (epoch==num_epochs-1):\n",
        "      #  checkpoint = {\"state_dict\": model.state_dict(), \"optimizer\": optimizer.state_dict()}\n",
        "      #  save_checkpoint(checkpoint)\n",
        "      Loss = tr_loss / len(train_loader)\n",
        "      train_loss.append(Loss) \n",
        "      \n",
        "      #---------  VALIDATION STEP------------------------------------\n",
        "      val_loss = 0.0\n",
        "      model.eval()     # Optional when not using Model Specific layer\n",
        "      for data, labels in valid_loader:\n",
        "          if torch.cuda.is_available():\n",
        "              data, labels = data.cuda(), labels.cuda()\n",
        "          \n",
        "          target = model(data)\n",
        "          loss = criterion(target,labels)\n",
        "          val_loss += loss.item() #* data.size(0)\n",
        "      val_loss /= len(valid_loader) \n",
        "      valid_loss. append(val_loss)\n",
        "      #--------------------------------------------------------------\n",
        "\n",
        "      #------------- Accuracy at this epoch -------------------------\n",
        "      acc = check_accuracy(test_loader, model)*100\n",
        "      accuracy.append(acc)\n",
        "      #--------------------------------------------------------------\n",
        "      print(\"\\nEpoch : \",epoch,\"  Train Loss : \",Loss,\"  Validation Loss : \",val_loss,\"  Accuracy : \",acc,\"\\n\")\n",
        "  stop = timeit.default_timer()\n",
        "\n",
        "  print('Time: ', stop - start)  \n",
        "  return train_loss, valid_loss, accuracy\n"
      ],
      "execution_count": null,
      "outputs": []
    },
    {
      "cell_type": "markdown",
      "metadata": {
        "id": "wIgMcxs0w1Up"
      },
      "source": [
        "### Model with 2 layers"
      ]
    },
    {
      "cell_type": "code",
      "metadata": {
        "colab": {
          "base_uri": "https://localhost:8080/"
        },
        "id": "Fhtr8yVpB3Pl",
        "outputId": "b31d8fa6-d518-4896-ef1d-57c931165336"
      },
      "source": [
        "# Model # 2 layers\n",
        "model1 = Cifar10CnnModel()\n",
        "#print(model)\n",
        "model1.to(device)\n",
        "reset_network_params(model1)\n",
        "# Loss and optimizer\n",
        "criterion1 = nn.CrossEntropyLoss()\n",
        "optimizer1 = optim.SGD(model1.parameters(), lr=0.045, momentum=0.4)\n",
        "train_loss, valid_loss, accuracy = train_model(model1, criterion1, optimizer1, num_epoch=30)\n",
        "print(f\"Accuracy on training set: {check_accuracy(train_loader, model1)*100:.2f}\")\n",
        "print(f\"Accuracy on test set: {check_accuracy(test_loader, model1)*100:.2f}\")\n"
      ],
      "execution_count": null,
      "outputs": [
        {
          "output_type": "stream",
          "text": [
            "100%|██████████| 625/625 [00:05<00:00, 118.25it/s]\n",
            "  2%|▏         | 12/625 [00:00<00:05, 110.19it/s]"
          ],
          "name": "stderr"
        },
        {
          "output_type": "stream",
          "text": [
            "\n",
            "Epoch :  0   Train Loss :  2.075487723350525   Validation Loss :  2.019651779703274   Accuracy :  tensor(45.0300, device='cuda:0') \n",
            "\n"
          ],
          "name": "stdout"
        },
        {
          "output_type": "stream",
          "text": [
            "100%|██████████| 625/625 [00:05<00:00, 116.52it/s]\n",
            "  2%|▏         | 12/625 [00:00<00:05, 116.24it/s]"
          ],
          "name": "stderr"
        },
        {
          "output_type": "stream",
          "text": [
            "\n",
            "Epoch :  1   Train Loss :  1.9689283845901489   Validation Loss :  2.0210366704661373   Accuracy :  tensor(43.6300, device='cuda:0') \n",
            "\n"
          ],
          "name": "stdout"
        },
        {
          "output_type": "stream",
          "text": [
            "100%|██████████| 625/625 [00:05<00:00, 115.36it/s]\n",
            "  2%|▏         | 10/625 [00:00<00:06, 95.59it/s]"
          ],
          "name": "stderr"
        },
        {
          "output_type": "stream",
          "text": [
            "\n",
            "Epoch :  2   Train Loss :  1.9337390436172486   Validation Loss :  2.013316067920369   Accuracy :  tensor(44.6800, device='cuda:0') \n",
            "\n"
          ],
          "name": "stdout"
        },
        {
          "output_type": "stream",
          "text": [
            "100%|██████████| 625/625 [00:05<00:00, 117.23it/s]\n",
            "  2%|▏         | 12/625 [00:00<00:05, 116.39it/s]"
          ],
          "name": "stderr"
        },
        {
          "output_type": "stream",
          "text": [
            "\n",
            "Epoch :  3   Train Loss :  1.9134241981506348   Validation Loss :  1.9631779095169846   Accuracy :  tensor(49.8200, device='cuda:0') \n",
            "\n"
          ],
          "name": "stdout"
        },
        {
          "output_type": "stream",
          "text": [
            "100%|██████████| 625/625 [00:05<00:00, 117.77it/s]\n",
            "  2%|▏         | 10/625 [00:00<00:06, 96.90it/s]"
          ],
          "name": "stderr"
        },
        {
          "output_type": "stream",
          "text": [
            "\n",
            "Epoch :  4   Train Loss :  1.8969952732086182   Validation Loss :  1.944304291609746   Accuracy :  tensor(52.1900, device='cuda:0') \n",
            "\n"
          ],
          "name": "stdout"
        },
        {
          "output_type": "stream",
          "text": [
            "100%|██████████| 625/625 [00:05<00:00, 117.16it/s]\n",
            "  2%|▏         | 12/625 [00:00<00:05, 116.32it/s]"
          ],
          "name": "stderr"
        },
        {
          "output_type": "stream",
          "text": [
            "\n",
            "Epoch :  5   Train Loss :  1.8853394498825073   Validation Loss :  1.9325193189511634   Accuracy :  tensor(53.8000, device='cuda:0') \n",
            "\n"
          ],
          "name": "stdout"
        },
        {
          "output_type": "stream",
          "text": [
            "100%|██████████| 625/625 [00:05<00:00, 118.35it/s]\n",
            "  2%|▏         | 12/625 [00:00<00:05, 119.62it/s]"
          ],
          "name": "stderr"
        },
        {
          "output_type": "stream",
          "text": [
            "\n",
            "Epoch :  6   Train Loss :  1.874745804786682   Validation Loss :  1.9313136407524158   Accuracy :  tensor(53.3800, device='cuda:0') \n",
            "\n"
          ],
          "name": "stdout"
        },
        {
          "output_type": "stream",
          "text": [
            "100%|██████████| 625/625 [00:05<00:00, 117.96it/s]\n",
            "  2%|▏         | 13/625 [00:00<00:05, 121.13it/s]"
          ],
          "name": "stderr"
        },
        {
          "output_type": "stream",
          "text": [
            "\n",
            "Epoch :  7   Train Loss :  1.8644957111358642   Validation Loss :  1.9447958811073547   Accuracy :  tensor(52.2500, device='cuda:0') \n",
            "\n"
          ],
          "name": "stdout"
        },
        {
          "output_type": "stream",
          "text": [
            "100%|██████████| 625/625 [00:05<00:00, 117.58it/s]\n",
            "  2%|▏         | 12/625 [00:00<00:05, 118.80it/s]"
          ],
          "name": "stderr"
        },
        {
          "output_type": "stream",
          "text": [
            "\n",
            "Epoch :  8   Train Loss :  1.8550237424850464   Validation Loss :  1.9259904592659822   Accuracy :  tensor(54.0800, device='cuda:0') \n",
            "\n"
          ],
          "name": "stdout"
        },
        {
          "output_type": "stream",
          "text": [
            "100%|██████████| 625/625 [00:05<00:00, 117.12it/s]\n",
            "  2%|▏         | 12/625 [00:00<00:05, 112.97it/s]"
          ],
          "name": "stderr"
        },
        {
          "output_type": "stream",
          "text": [
            "\n",
            "Epoch :  9   Train Loss :  1.84506166305542   Validation Loss :  1.913989196157759   Accuracy :  tensor(55.5400, device='cuda:0') \n",
            "\n"
          ],
          "name": "stdout"
        },
        {
          "output_type": "stream",
          "text": [
            "100%|██████████| 625/625 [00:05<00:00, 116.71it/s]\n",
            "  2%|▏         | 12/625 [00:00<00:05, 119.29it/s]"
          ],
          "name": "stderr"
        },
        {
          "output_type": "stream",
          "text": [
            "\n",
            "Epoch :  10   Train Loss :  1.8348705959320069   Validation Loss :  1.90267293240614   Accuracy :  tensor(56.2700, device='cuda:0') \n",
            "\n"
          ],
          "name": "stdout"
        },
        {
          "output_type": "stream",
          "text": [
            "100%|██████████| 625/625 [00:05<00:00, 117.50it/s]\n",
            "  2%|▏         | 12/625 [00:00<00:05, 117.06it/s]"
          ],
          "name": "stderr"
        },
        {
          "output_type": "stream",
          "text": [
            "\n",
            "Epoch :  11   Train Loss :  1.8288408834457397   Validation Loss :  1.9727894865023863   Accuracy :  tensor(48.6400, device='cuda:0') \n",
            "\n"
          ],
          "name": "stdout"
        },
        {
          "output_type": "stream",
          "text": [
            "100%|██████████| 625/625 [00:05<00:00, 116.98it/s]\n",
            "  2%|▏         | 12/625 [00:00<00:05, 117.83it/s]"
          ],
          "name": "stderr"
        },
        {
          "output_type": "stream",
          "text": [
            "\n",
            "Epoch :  12   Train Loss :  1.8210516929626466   Validation Loss :  1.9052968420040834   Accuracy :  tensor(56.0900, device='cuda:0') \n",
            "\n"
          ],
          "name": "stdout"
        },
        {
          "output_type": "stream",
          "text": [
            "100%|██████████| 625/625 [00:05<00:00, 116.69it/s]\n",
            "  2%|▏         | 12/625 [00:00<00:05, 118.65it/s]"
          ],
          "name": "stderr"
        },
        {
          "output_type": "stream",
          "text": [
            "\n",
            "Epoch :  13   Train Loss :  1.813783546257019   Validation Loss :  1.9118629709170882   Accuracy :  tensor(54.8700, device='cuda:0') \n",
            "\n"
          ],
          "name": "stdout"
        },
        {
          "output_type": "stream",
          "text": [
            "100%|██████████| 625/625 [00:05<00:00, 118.08it/s]\n",
            "  2%|▏         | 12/625 [00:00<00:05, 118.11it/s]"
          ],
          "name": "stderr"
        },
        {
          "output_type": "stream",
          "text": [
            "\n",
            "Epoch :  14   Train Loss :  1.803927071762085   Validation Loss :  1.9066634960235305   Accuracy :  tensor(56.0900, device='cuda:0') \n",
            "\n"
          ],
          "name": "stdout"
        },
        {
          "output_type": "stream",
          "text": [
            "100%|██████████| 625/625 [00:05<00:00, 117.30it/s]\n",
            "  2%|▏         | 12/625 [00:00<00:05, 116.19it/s]"
          ],
          "name": "stderr"
        },
        {
          "output_type": "stream",
          "text": [
            "\n",
            "Epoch :  15   Train Loss :  1.799175588607788   Validation Loss :  1.910062912922756   Accuracy :  tensor(55.5000, device='cuda:0') \n",
            "\n"
          ],
          "name": "stdout"
        },
        {
          "output_type": "stream",
          "text": [
            "100%|██████████| 625/625 [00:05<00:00, 115.87it/s]\n",
            "  2%|▏         | 12/625 [00:00<00:05, 118.53it/s]"
          ],
          "name": "stderr"
        },
        {
          "output_type": "stream",
          "text": [
            "\n",
            "Epoch :  16   Train Loss :  1.7935175003051758   Validation Loss :  1.8989375427270392   Accuracy :  tensor(56.5700, device='cuda:0') \n",
            "\n"
          ],
          "name": "stdout"
        },
        {
          "output_type": "stream",
          "text": [
            "100%|██████████| 625/625 [00:05<00:00, 117.28it/s]\n",
            "  2%|▏         | 12/625 [00:00<00:05, 117.47it/s]"
          ],
          "name": "stderr"
        },
        {
          "output_type": "stream",
          "text": [
            "\n",
            "Epoch :  17   Train Loss :  1.787188676071167   Validation Loss :  1.9105558797812006   Accuracy :  tensor(55.6300, device='cuda:0') \n",
            "\n"
          ],
          "name": "stdout"
        },
        {
          "output_type": "stream",
          "text": [
            "100%|██████████| 625/625 [00:05<00:00, 117.61it/s]\n",
            "  2%|▏         | 12/625 [00:00<00:05, 118.49it/s]"
          ],
          "name": "stderr"
        },
        {
          "output_type": "stream",
          "text": [
            "\n",
            "Epoch :  18   Train Loss :  1.782317685699463   Validation Loss :  1.8981479702481798   Accuracy :  tensor(56.9000, device='cuda:0') \n",
            "\n"
          ],
          "name": "stdout"
        },
        {
          "output_type": "stream",
          "text": [
            "100%|██████████| 625/625 [00:05<00:00, 117.16it/s]\n",
            "  2%|▏         | 12/625 [00:00<00:05, 113.83it/s]"
          ],
          "name": "stderr"
        },
        {
          "output_type": "stream",
          "text": [
            "\n",
            "Epoch :  19   Train Loss :  1.7774142736434937   Validation Loss :  1.9001982925803798   Accuracy :  tensor(56.4700, device='cuda:0') \n",
            "\n"
          ],
          "name": "stdout"
        },
        {
          "output_type": "stream",
          "text": [
            "100%|██████████| 625/625 [00:05<00:00, 117.95it/s]\n",
            "  2%|▏         | 12/625 [00:00<00:05, 115.23it/s]"
          ],
          "name": "stderr"
        },
        {
          "output_type": "stream",
          "text": [
            "\n",
            "Epoch :  20   Train Loss :  1.7732947593688966   Validation Loss :  1.8957941995304861   Accuracy :  tensor(56.7800, device='cuda:0') \n",
            "\n"
          ],
          "name": "stdout"
        },
        {
          "output_type": "stream",
          "text": [
            "100%|██████████| 625/625 [00:05<00:00, 116.64it/s]\n",
            "  2%|▏         | 12/625 [00:00<00:05, 117.64it/s]"
          ],
          "name": "stderr"
        },
        {
          "output_type": "stream",
          "text": [
            "\n",
            "Epoch :  21   Train Loss :  1.7695393392562866   Validation Loss :  1.8975632987963926   Accuracy :  tensor(56.7500, device='cuda:0') \n",
            "\n"
          ],
          "name": "stdout"
        },
        {
          "output_type": "stream",
          "text": [
            "100%|██████████| 625/625 [00:05<00:00, 117.18it/s]\n",
            "  2%|▏         | 12/625 [00:00<00:05, 114.01it/s]"
          ],
          "name": "stderr"
        },
        {
          "output_type": "stream",
          "text": [
            "\n",
            "Epoch :  22   Train Loss :  1.7653420579910277   Validation Loss :  1.8984550169319103   Accuracy :  tensor(56.7500, device='cuda:0') \n",
            "\n"
          ],
          "name": "stdout"
        },
        {
          "output_type": "stream",
          "text": [
            "100%|██████████| 625/625 [00:05<00:00, 116.02it/s]\n",
            "  2%|▏         | 11/625 [00:00<00:05, 108.79it/s]"
          ],
          "name": "stderr"
        },
        {
          "output_type": "stream",
          "text": [
            "\n",
            "Epoch :  23   Train Loss :  1.7615287612915038   Validation Loss :  1.8995602290341809   Accuracy :  tensor(56.7400, device='cuda:0') \n",
            "\n"
          ],
          "name": "stdout"
        },
        {
          "output_type": "stream",
          "text": [
            "100%|██████████| 625/625 [00:05<00:00, 117.77it/s]\n",
            "  2%|▏         | 12/625 [00:00<00:05, 115.95it/s]"
          ],
          "name": "stderr"
        },
        {
          "output_type": "stream",
          "text": [
            "\n",
            "Epoch :  24   Train Loss :  1.7580052244186402   Validation Loss :  1.9016222460254741   Accuracy :  tensor(57.0900, device='cuda:0') \n",
            "\n"
          ],
          "name": "stdout"
        },
        {
          "output_type": "stream",
          "text": [
            "100%|██████████| 625/625 [00:05<00:00, 116.76it/s]\n",
            "  2%|▏         | 12/625 [00:00<00:05, 118.13it/s]"
          ],
          "name": "stderr"
        },
        {
          "output_type": "stream",
          "text": [
            "\n",
            "Epoch :  25   Train Loss :  1.7541300918579101   Validation Loss :  1.8982190698575063   Accuracy :  tensor(56.3400, device='cuda:0') \n",
            "\n"
          ],
          "name": "stdout"
        },
        {
          "output_type": "stream",
          "text": [
            "100%|██████████| 625/625 [00:05<00:00, 116.49it/s]\n",
            "  2%|▏         | 12/625 [00:00<00:05, 115.67it/s]"
          ],
          "name": "stderr"
        },
        {
          "output_type": "stream",
          "text": [
            "\n",
            "Epoch :  26   Train Loss :  1.7519637481689454   Validation Loss :  1.8954928490766294   Accuracy :  tensor(57.0100, device='cuda:0') \n",
            "\n"
          ],
          "name": "stdout"
        },
        {
          "output_type": "stream",
          "text": [
            "100%|██████████| 625/625 [00:05<00:00, 116.37it/s]\n",
            "  2%|▏         | 11/625 [00:00<00:05, 104.60it/s]"
          ],
          "name": "stderr"
        },
        {
          "output_type": "stream",
          "text": [
            "\n",
            "Epoch :  27   Train Loss :  1.7494395906448363   Validation Loss :  1.8975928748489186   Accuracy :  tensor(56.9000, device='cuda:0') \n",
            "\n"
          ],
          "name": "stdout"
        },
        {
          "output_type": "stream",
          "text": [
            "100%|██████████| 625/625 [00:05<00:00, 117.55it/s]\n",
            "  2%|▏         | 12/625 [00:00<00:05, 113.41it/s]"
          ],
          "name": "stderr"
        },
        {
          "output_type": "stream",
          "text": [
            "\n",
            "Epoch :  28   Train Loss :  1.7477424934387207   Validation Loss :  1.8959152698516846   Accuracy :  tensor(56.8900, device='cuda:0') \n",
            "\n"
          ],
          "name": "stdout"
        },
        {
          "output_type": "stream",
          "text": [
            "100%|██████████| 625/625 [00:05<00:00, 117.88it/s]\n"
          ],
          "name": "stderr"
        },
        {
          "output_type": "stream",
          "text": [
            "\n",
            "Epoch :  29   Train Loss :  1.7453002153396606   Validation Loss :  1.896223933074125   Accuracy :  tensor(56.8800, device='cuda:0') \n",
            "\n",
            "Time:  219.2611160209999\n",
            "Accuracy on training set: 71.94\n",
            "Accuracy on test set: 56.88\n"
          ],
          "name": "stdout"
        }
      ]
    },
    {
      "cell_type": "code",
      "metadata": {
        "colab": {
          "base_uri": "https://localhost:8080/",
          "height": 295
        },
        "id": "QzbjwGIPPPlQ",
        "outputId": "96fd51a7-9c03-42ae-c341-8bc24f28d318"
      },
      "source": [
        "plot_accuracy(accuracy, num_epoch=30)"
      ],
      "execution_count": null,
      "outputs": [
        {
          "output_type": "display_data",
          "data": {
            "image/png": "[encoded data removed]",
            "text/plain": [
              "<Figure size 432x288 with 1 Axes>"
            ]
          },
          "metadata": {
            "tags": [],
            "needs_background": "light"
          }
        }
      ]
    },
    {
      "cell_type": "code",
      "metadata": {
        "colab": {
          "base_uri": "https://localhost:8080/",
          "height": 295
        },
        "id": "OSr0y57FPT68",
        "outputId": "9f5df206-eeb1-44d8-9ae6-a3aab68b5cc2"
      },
      "source": [
        "plot_losses(train_loss, valid_loss) \n"
      ],
      "execution_count": null,
      "outputs": [
        {
          "output_type": "display_data",
          "data": {
            "image/png": "[encoded data removed]",
            "text/plain": [
              "<Figure size 432x288 with 1 Axes>"
            ]
          },
          "metadata": {
            "tags": [],
            "needs_background": "light"
          }
        }
      ]
    },
    {
      "cell_type": "markdown",
      "metadata": {
        "id": "Yb-a6bSzw8zG"
      },
      "source": [
        "#### Model with 3 layers"
      ]
    },
    {
      "cell_type": "code",
      "metadata": {
        "colab": {
          "base_uri": "https://localhost:8080/"
        },
        "id": "--T3iOVlFmQJ",
        "outputId": "19d6cc38-4768-489b-8ddc-0d8142a1ec54"
      },
      "source": [
        "\n",
        "# Model # 3 layers\n",
        "model_3 = Cifar10CnnModel_3_layers()\n",
        "#print(model_3)\n",
        "model_3.to(device)\n",
        "#reset_network_params(model_3_layers)\n",
        "# Loss and optimizer\n",
        "criterion_3 = nn.CrossEntropyLoss()\n",
        "optimizer_3 = optim.Adam(model_3.parameters(), lr=0.001)\n",
        "train_loss, valid_loss, accuracy = train_model(model_3, criterion_3, optimizer_3, num_epoch=20)\n",
        "print(f\"Accuracy on training set: {check_accuracy(train_loader, model_3)*100:.2f}\")\n",
        "print(f\"Accuracy on test set: {check_accuracy(test_loader, model_3)*100:.2f}\")\n",
        "#plot_losses(train_loss, valid_loss) \n",
        "#plot_accuracy(accuracy, num_epoch=10)"
      ],
      "execution_count": null,
      "outputs": [
        {
          "output_type": "stream",
          "text": [
            "100%|██████████| 625/625 [00:05<00:00, 106.37it/s]\n",
            "  2%|▏         | 11/625 [00:00<00:05, 103.00it/s]"
          ],
          "name": "stderr"
        },
        {
          "output_type": "stream",
          "text": [
            "\n",
            "Epoch :  0   Train Loss :  2.0523851663589476   Validation Loss :  2.0031144019145115   Accuracy :  tensor(46.1200, device='cuda:0') \n",
            "\n"
          ],
          "name": "stdout"
        },
        {
          "output_type": "stream",
          "text": [
            "100%|██████████| 625/625 [00:05<00:00, 106.18it/s]\n",
            "  2%|▏         | 11/625 [00:00<00:06, 99.42it/s]"
          ],
          "name": "stderr"
        },
        {
          "output_type": "stream",
          "text": [
            "\n",
            "Epoch :  1   Train Loss :  1.9298177127838134   Validation Loss :  1.945282867759656   Accuracy :  tensor(51.6900, device='cuda:0') \n",
            "\n"
          ],
          "name": "stdout"
        },
        {
          "output_type": "stream",
          "text": [
            "100%|██████████| 625/625 [00:05<00:00, 106.41it/s]\n",
            "  2%|▏         | 11/625 [00:00<00:05, 106.58it/s]"
          ],
          "name": "stderr"
        },
        {
          "output_type": "stream",
          "text": [
            "\n",
            "Epoch :  2   Train Loss :  1.8888090454101563   Validation Loss :  1.9043856570675115   Accuracy :  tensor(55.3300, device='cuda:0') \n",
            "\n"
          ],
          "name": "stdout"
        },
        {
          "output_type": "stream",
          "text": [
            "100%|██████████| 625/625 [00:05<00:00, 105.46it/s]\n",
            "  2%|▏         | 11/625 [00:00<00:05, 106.72it/s]"
          ],
          "name": "stderr"
        },
        {
          "output_type": "stream",
          "text": [
            "\n",
            "Epoch :  3   Train Loss :  1.8639403297424317   Validation Loss :  1.8878656192949623   Accuracy :  tensor(56.6600, device='cuda:0') \n",
            "\n"
          ],
          "name": "stdout"
        },
        {
          "output_type": "stream",
          "text": [
            "100%|██████████| 625/625 [00:05<00:00, 104.46it/s]\n",
            "  2%|▏         | 11/625 [00:00<00:05, 107.95it/s]"
          ],
          "name": "stderr"
        },
        {
          "output_type": "stream",
          "text": [
            "\n",
            "Epoch :  4   Train Loss :  1.8495593692779542   Validation Loss :  1.8815721455653003   Accuracy :  tensor(57.6400, device='cuda:0') \n",
            "\n"
          ],
          "name": "stdout"
        },
        {
          "output_type": "stream",
          "text": [
            "100%|██████████| 625/625 [00:06<00:00, 104.14it/s]\n",
            "  2%|▏         | 11/625 [00:00<00:05, 106.53it/s]"
          ],
          "name": "stderr"
        },
        {
          "output_type": "stream",
          "text": [
            "\n",
            "Epoch :  5   Train Loss :  1.836829768562317   Validation Loss :  1.9126983190038402   Accuracy :  tensor(54.2700, device='cuda:0') \n",
            "\n"
          ],
          "name": "stdout"
        },
        {
          "output_type": "stream",
          "text": [
            "100%|██████████| 625/625 [00:05<00:00, 105.90it/s]\n",
            "  2%|▏         | 11/625 [00:00<00:05, 106.35it/s]"
          ],
          "name": "stderr"
        },
        {
          "output_type": "stream",
          "text": [
            "\n",
            "Epoch :  6   Train Loss :  1.8266506002426148   Validation Loss :  1.8817089591056677   Accuracy :  tensor(57.6300, device='cuda:0') \n",
            "\n"
          ],
          "name": "stdout"
        },
        {
          "output_type": "stream",
          "text": [
            "100%|██████████| 625/625 [00:05<00:00, 104.24it/s]\n",
            "  2%|▏         | 11/625 [00:00<00:05, 108.20it/s]"
          ],
          "name": "stderr"
        },
        {
          "output_type": "stream",
          "text": [
            "\n",
            "Epoch :  7   Train Loss :  1.8142312362670898   Validation Loss :  1.8428786142616516   Accuracy :  tensor(61.2400, device='cuda:0') \n",
            "\n"
          ],
          "name": "stdout"
        },
        {
          "output_type": "stream",
          "text": [
            "100%|██████████| 625/625 [00:05<00:00, 105.94it/s]\n",
            "  2%|▏         | 11/625 [00:00<00:05, 107.75it/s]"
          ],
          "name": "stderr"
        },
        {
          "output_type": "stream",
          "text": [
            "\n",
            "Epoch :  8   Train Loss :  1.807448045539856   Validation Loss :  1.857180212713351   Accuracy :  tensor(60.4600, device='cuda:0') \n",
            "\n"
          ],
          "name": "stdout"
        },
        {
          "output_type": "stream",
          "text": [
            "100%|██████████| 625/625 [00:05<00:00, 105.87it/s]\n",
            "  2%|▏         | 11/625 [00:00<00:05, 104.82it/s]"
          ],
          "name": "stderr"
        },
        {
          "output_type": "stream",
          "text": [
            "\n",
            "Epoch :  9   Train Loss :  1.79887044506073   Validation Loss :  1.8671202568491554   Accuracy :  tensor(59.5000, device='cuda:0') \n",
            "\n"
          ],
          "name": "stdout"
        },
        {
          "output_type": "stream",
          "text": [
            "100%|██████████| 625/625 [00:05<00:00, 104.80it/s]\n",
            "  2%|▏         | 10/625 [00:00<00:06, 96.81it/s]"
          ],
          "name": "stderr"
        },
        {
          "output_type": "stream",
          "text": [
            "\n",
            "Epoch :  10   Train Loss :  1.7907385690689086   Validation Loss :  1.8374663454711817   Accuracy :  tensor(62.0500, device='cuda:0') \n",
            "\n"
          ],
          "name": "stdout"
        },
        {
          "output_type": "stream",
          "text": [
            "100%|██████████| 625/625 [00:05<00:00, 104.44it/s]\n",
            "  2%|▏         | 11/625 [00:00<00:05, 104.09it/s]"
          ],
          "name": "stderr"
        },
        {
          "output_type": "stream",
          "text": [
            "\n",
            "Epoch :  11   Train Loss :  1.783159854888916   Validation Loss :  1.8324605142994292   Accuracy :  tensor(62.5200, device='cuda:0') \n",
            "\n"
          ],
          "name": "stdout"
        },
        {
          "output_type": "stream",
          "text": [
            "100%|██████████| 625/625 [00:05<00:00, 106.23it/s]\n",
            "  2%|▏         | 11/625 [00:00<00:05, 106.83it/s]"
          ],
          "name": "stderr"
        },
        {
          "output_type": "stream",
          "text": [
            "\n",
            "Epoch :  12   Train Loss :  1.7792068752288819   Validation Loss :  1.8361903072162797   Accuracy :  tensor(61.7300, device='cuda:0') \n",
            "\n"
          ],
          "name": "stdout"
        },
        {
          "output_type": "stream",
          "text": [
            "100%|██████████| 625/625 [00:05<00:00, 105.70it/s]\n",
            "  2%|▏         | 11/625 [00:00<00:05, 107.42it/s]"
          ],
          "name": "stderr"
        },
        {
          "output_type": "stream",
          "text": [
            "\n",
            "Epoch :  13   Train Loss :  1.771619983291626   Validation Loss :  1.8337597907728451   Accuracy :  tensor(61.5900, device='cuda:0') \n",
            "\n"
          ],
          "name": "stdout"
        },
        {
          "output_type": "stream",
          "text": [
            "100%|██████████| 625/625 [00:05<00:00, 105.78it/s]\n",
            "  2%|▏         | 10/625 [00:00<00:06, 99.26it/s]"
          ],
          "name": "stderr"
        },
        {
          "output_type": "stream",
          "text": [
            "\n",
            "Epoch :  14   Train Loss :  1.7683778451919556   Validation Loss :  1.8423797362928938   Accuracy :  tensor(61.4500, device='cuda:0') \n",
            "\n"
          ],
          "name": "stdout"
        },
        {
          "output_type": "stream",
          "text": [
            "100%|██████████| 625/625 [00:05<00:00, 105.73it/s]\n",
            "  2%|▏         | 10/625 [00:00<00:06, 93.91it/s]"
          ],
          "name": "stderr"
        },
        {
          "output_type": "stream",
          "text": [
            "\n",
            "Epoch :  15   Train Loss :  1.7618861293792725   Validation Loss :  1.8354177748321727   Accuracy :  tensor(62.6700, device='cuda:0') \n",
            "\n"
          ],
          "name": "stdout"
        },
        {
          "output_type": "stream",
          "text": [
            "100%|██████████| 625/625 [00:05<00:00, 106.66it/s]\n",
            "  2%|▏         | 11/625 [00:00<00:06, 99.95it/s]"
          ],
          "name": "stderr"
        },
        {
          "output_type": "stream",
          "text": [
            "\n",
            "Epoch :  16   Train Loss :  1.75730876121521   Validation Loss :  1.8481408182982426   Accuracy :  tensor(60.8300, device='cuda:0') \n",
            "\n"
          ],
          "name": "stdout"
        },
        {
          "output_type": "stream",
          "text": [
            "100%|██████████| 625/625 [00:05<00:00, 106.83it/s]\n",
            "  2%|▏         | 11/625 [00:00<00:05, 107.69it/s]"
          ],
          "name": "stderr"
        },
        {
          "output_type": "stream",
          "text": [
            "\n",
            "Epoch :  17   Train Loss :  1.7520442029953003   Validation Loss :  1.823456330663839   Accuracy :  tensor(63.5000, device='cuda:0') \n",
            "\n"
          ],
          "name": "stdout"
        },
        {
          "output_type": "stream",
          "text": [
            "100%|██████████| 625/625 [00:05<00:00, 106.42it/s]\n",
            "  2%|▏         | 10/625 [00:00<00:06, 99.60it/s]"
          ],
          "name": "stderr"
        },
        {
          "output_type": "stream",
          "text": [
            "\n",
            "Epoch :  18   Train Loss :  1.7482435693740845   Validation Loss :  1.8400587443333523   Accuracy :  tensor(62.2000, device='cuda:0') \n",
            "\n"
          ],
          "name": "stdout"
        },
        {
          "output_type": "stream",
          "text": [
            "100%|██████████| 625/625 [00:05<00:00, 106.27it/s]\n"
          ],
          "name": "stderr"
        },
        {
          "output_type": "stream",
          "text": [
            "\n",
            "Epoch :  19   Train Loss :  1.745889712715149   Validation Loss :  1.8561766777828241   Accuracy :  tensor(60.3600, device='cuda:0') \n",
            "\n",
            "Time:  159.02383064599962\n",
            "Accuracy on training set: 67.63\n",
            "Accuracy on test set: 60.36\n"
          ],
          "name": "stdout"
        }
      ]
    },
    {
      "cell_type": "code",
      "metadata": {
        "colab": {
          "base_uri": "https://localhost:8080/",
          "height": 295
        },
        "id": "_P35U35wJOO5",
        "outputId": "e60caf7c-8050-453c-b197-e0b5ca2a3015"
      },
      "source": [
        "plot_accuracy(accuracy, num_epoch=20)"
      ],
      "execution_count": null,
      "outputs": [
        {
          "output_type": "display_data",
          "data": {
            "image/png": "[encoded data removed]",
            "text/plain": [
              "<Figure size 432x288 with 1 Axes>"
            ]
          },
          "metadata": {
            "tags": [],
            "needs_background": "light"
          }
        }
      ]
    },
    {
      "cell_type": "code",
      "metadata": {
        "colab": {
          "base_uri": "https://localhost:8080/",
          "height": 295
        },
        "id": "O5y5eMOfJL23",
        "outputId": "dcd518ae-dcd8-4074-88b6-eab262a1e96b"
      },
      "source": [
        "plot_losses(train_loss, valid_loss) \n"
      ],
      "execution_count": null,
      "outputs": [
        {
          "output_type": "display_data",
          "data": {
            "image/png": "[encoded data removed]",
            "text/plain": [
              "<Figure size 432x288 with 1 Axes>"
            ]
          },
          "metadata": {
            "tags": [],
            "needs_background": "light"
          }
        }
      ]
    },
    {
      "cell_type": "code",
      "metadata": {
        "colab": {
          "base_uri": "https://localhost:8080/",
          "height": 330
        },
        "id": "M9WBL7xe4uxq",
        "outputId": "97a786db-2be4-42ea-ad7d-8063df7462f7"
      },
      "source": [
        "\n",
        "print(f\"Accuracy on training set: {check_accuracy(train_loader, model3)*100:.2f}\")\n",
        "print(f\"Accuracy on test set: {check_accuracy(test_loader, model3)*100:.2f}\")\n",
        "plot_losses(train_loss, valid_loss)"
      ],
      "execution_count": null,
      "outputs": [
        {
          "output_type": "stream",
          "text": [
            "Accuracy on training set: 85.78\n",
            "Accuracy on test set: 64.01\n"
          ],
          "name": "stdout"
        },
        {
          "output_type": "display_data",
          "data": {
            "image/png": "[encoded data removed]",
            "text/plain": [
              "<Figure size 432x288 with 1 Axes>"
            ]
          },
          "metadata": {
            "tags": [],
            "needs_background": "light"
          }
        }
      ]
    },
    {
      "cell_type": "markdown",
      "metadata": {
        "id": "IR2AYPTxxBvM"
      },
      "source": [
        "#### without batch normalization"
      ]
    },
    {
      "cell_type": "code",
      "metadata": {
        "colab": {
          "base_uri": "https://localhost:8080/"
        },
        "id": "tRAich2MMBYC",
        "outputId": "cb0c204b-04fd-4a62-e8df-71dd2201ba61"
      },
      "source": [
        "\n",
        "# Model # 3 layers\n",
        "model_no_norm = Cifar10CnnModel_no_batch_norm()\n",
        "#print(model_3)\n",
        "model_no_norm.to(device)\n",
        "#reset_network_params(model_3_layers)\n",
        "# Loss and optimizer\n",
        "criterion_no_norm = nn.CrossEntropyLoss()\n",
        "optimizer_no_norm = optim.SGD(model_no_norm.parameters(), lr=0.023, momentum=0.9)\n",
        "\n",
        "train_loss, valid_loss, accuracy = train_model(model_no_norm, criterion_no_norm, optimizer_no_norm, num_epoch=20)\n",
        "print(f\"Accuracy on training set: {check_accuracy(train_loader, model_no_norm)*100:.2f}\")\n",
        "print(f\"Accuracy on test set: {check_accuracy(test_loader, model_no_norm)*100:.2f}\")\n",
        "#plot_losses(train_loss, valid_loss) \n",
        "#plot_accuracy(accuracy, num_epoch=10)"
      ],
      "execution_count": null,
      "outputs": [
        {
          "output_type": "stream",
          "text": [
            "100%|██████████| 625/625 [00:05<00:00, 122.68it/s]\n",
            "  2%|▏         | 13/625 [00:00<00:04, 124.51it/s]"
          ],
          "name": "stderr"
        },
        {
          "output_type": "stream",
          "text": [
            "\n",
            "Epoch :  0   Train Loss :  2.2722289394378663   Validation Loss :  2.23170355171155   Accuracy :  tensor(21.6300, device='cuda:0') \n",
            "\n"
          ],
          "name": "stdout"
        },
        {
          "output_type": "stream",
          "text": [
            "100%|██████████| 625/625 [00:05<00:00, 123.24it/s]\n",
            "  2%|▏         | 13/625 [00:00<00:04, 124.36it/s]"
          ],
          "name": "stderr"
        },
        {
          "output_type": "stream",
          "text": [
            "\n",
            "Epoch :  1   Train Loss :  2.1848716552734375   Validation Loss :  2.1516956516132235   Accuracy :  tensor(31.4100, device='cuda:0') \n",
            "\n"
          ],
          "name": "stdout"
        },
        {
          "output_type": "stream",
          "text": [
            "100%|██████████| 625/625 [00:05<00:00, 122.81it/s]\n",
            "  2%|▏         | 13/625 [00:00<00:04, 125.53it/s]"
          ],
          "name": "stderr"
        },
        {
          "output_type": "stream",
          "text": [
            "\n",
            "Epoch :  2   Train Loss :  2.1181235244750978   Validation Loss :  2.0913735332003065   Accuracy :  tensor(37.5100, device='cuda:0') \n",
            "\n"
          ],
          "name": "stdout"
        },
        {
          "output_type": "stream",
          "text": [
            "100%|██████████| 625/625 [00:05<00:00, 122.70it/s]\n",
            "  2%|▏         | 12/625 [00:00<00:05, 119.73it/s]"
          ],
          "name": "stderr"
        },
        {
          "output_type": "stream",
          "text": [
            "\n",
            "Epoch :  3   Train Loss :  2.055847933769226   Validation Loss :  2.028147952571796   Accuracy :  tensor(43.5900, device='cuda:0') \n",
            "\n"
          ],
          "name": "stdout"
        },
        {
          "output_type": "stream",
          "text": [
            "100%|██████████| 625/625 [00:05<00:00, 121.83it/s]\n",
            "  2%|▏         | 13/625 [00:00<00:04, 124.49it/s]"
          ],
          "name": "stderr"
        },
        {
          "output_type": "stream",
          "text": [
            "\n",
            "Epoch :  4   Train Loss :  2.014722950553894   Validation Loss :  2.002693239291003   Accuracy :  tensor(46.2100, device='cuda:0') \n",
            "\n"
          ],
          "name": "stdout"
        },
        {
          "output_type": "stream",
          "text": [
            "100%|██████████| 625/625 [00:05<00:00, 121.61it/s]\n",
            "  2%|▏         | 13/625 [00:00<00:05, 120.93it/s]"
          ],
          "name": "stderr"
        },
        {
          "output_type": "stream",
          "text": [
            "\n",
            "Epoch :  5   Train Loss :  1.9892866199493409   Validation Loss :  1.9898035518682686   Accuracy :  tensor(47.5800, device='cuda:0') \n",
            "\n"
          ],
          "name": "stdout"
        },
        {
          "output_type": "stream",
          "text": [
            "100%|██████████| 625/625 [00:05<00:00, 121.70it/s]\n",
            "  2%|▏         | 11/625 [00:00<00:05, 106.45it/s]"
          ],
          "name": "stderr"
        },
        {
          "output_type": "stream",
          "text": [
            "\n",
            "Epoch :  6   Train Loss :  1.967817041015625   Validation Loss :  2.0161142842784807   Accuracy :  tensor(44.5700, device='cuda:0') \n",
            "\n"
          ],
          "name": "stdout"
        },
        {
          "output_type": "stream",
          "text": [
            "100%|██████████| 625/625 [00:05<00:00, 122.07it/s]\n",
            "  2%|▏         | 13/625 [00:00<00:04, 123.93it/s]"
          ],
          "name": "stderr"
        },
        {
          "output_type": "stream",
          "text": [
            "\n",
            "Epoch :  7   Train Loss :  1.9543169597625731   Validation Loss :  1.9560126825502724   Accuracy :  tensor(51.2900, device='cuda:0') \n",
            "\n"
          ],
          "name": "stdout"
        },
        {
          "output_type": "stream",
          "text": [
            "100%|██████████| 625/625 [00:05<00:00, 122.00it/s]\n",
            "  2%|▏         | 13/625 [00:00<00:05, 121.30it/s]"
          ],
          "name": "stderr"
        },
        {
          "output_type": "stream",
          "text": [
            "\n",
            "Epoch :  8   Train Loss :  1.9396621633529663   Validation Loss :  1.9464656638491684   Accuracy :  tensor(51.5800, device='cuda:0') \n",
            "\n"
          ],
          "name": "stdout"
        },
        {
          "output_type": "stream",
          "text": [
            "100%|██████████| 625/625 [00:05<00:00, 123.74it/s]\n",
            "  2%|▏         | 13/625 [00:00<00:04, 125.61it/s]"
          ],
          "name": "stderr"
        },
        {
          "output_type": "stream",
          "text": [
            "\n",
            "Epoch :  9   Train Loss :  1.9225964830398559   Validation Loss :  1.9336781805487955   Accuracy :  tensor(53.2600, device='cuda:0') \n",
            "\n"
          ],
          "name": "stdout"
        },
        {
          "output_type": "stream",
          "text": [
            "100%|██████████| 625/625 [00:05<00:00, 122.38it/s]\n",
            "  2%|▏         | 13/625 [00:00<00:04, 124.82it/s]"
          ],
          "name": "stderr"
        },
        {
          "output_type": "stream",
          "text": [
            "\n",
            "Epoch :  10   Train Loss :  1.9122577512741088   Validation Loss :  1.9310720748962111   Accuracy :  tensor(52.5100, device='cuda:0') \n",
            "\n"
          ],
          "name": "stdout"
        },
        {
          "output_type": "stream",
          "text": [
            "100%|██████████| 625/625 [00:05<00:00, 122.86it/s]\n",
            "  2%|▏         | 13/625 [00:00<00:04, 122.84it/s]"
          ],
          "name": "stderr"
        },
        {
          "output_type": "stream",
          "text": [
            "\n",
            "Epoch :  11   Train Loss :  1.8926685346603394   Validation Loss :  1.910486730041018   Accuracy :  tensor(54.7900, device='cuda:0') \n",
            "\n"
          ],
          "name": "stdout"
        },
        {
          "output_type": "stream",
          "text": [
            "100%|██████████| 625/625 [00:05<00:00, 122.22it/s]\n",
            "  2%|▏         | 13/625 [00:00<00:04, 123.23it/s]"
          ],
          "name": "stderr"
        },
        {
          "output_type": "stream",
          "text": [
            "\n",
            "Epoch :  12   Train Loss :  1.8855200798034668   Validation Loss :  1.8996189513783546   Accuracy :  tensor(55.8600, device='cuda:0') \n",
            "\n"
          ],
          "name": "stdout"
        },
        {
          "output_type": "stream",
          "text": [
            "100%|██████████| 625/625 [00:05<00:00, 122.79it/s]\n",
            "  2%|▏         | 13/625 [00:00<00:04, 124.59it/s]"
          ],
          "name": "stderr"
        },
        {
          "output_type": "stream",
          "text": [
            "\n",
            "Epoch :  13   Train Loss :  1.8756328550338746   Validation Loss :  1.9094208258732108   Accuracy :  tensor(54.9600, device='cuda:0') \n",
            "\n"
          ],
          "name": "stdout"
        },
        {
          "output_type": "stream",
          "text": [
            "100%|██████████| 625/625 [00:05<00:00, 121.62it/s]\n",
            "  2%|▏         | 13/625 [00:00<00:04, 125.09it/s]"
          ],
          "name": "stderr"
        },
        {
          "output_type": "stream",
          "text": [
            "\n",
            "Epoch :  14   Train Loss :  1.8653769628524781   Validation Loss :  1.9186678411095006   Accuracy :  tensor(53.6800, device='cuda:0') \n",
            "\n"
          ],
          "name": "stdout"
        },
        {
          "output_type": "stream",
          "text": [
            "100%|██████████| 625/625 [00:05<00:00, 122.64it/s]\n",
            "  2%|▏         | 13/625 [00:00<00:04, 122.57it/s]"
          ],
          "name": "stderr"
        },
        {
          "output_type": "stream",
          "text": [
            "\n",
            "Epoch :  15   Train Loss :  1.8542300926208497   Validation Loss :  1.8984798276500336   Accuracy :  tensor(56.2700, device='cuda:0') \n",
            "\n"
          ],
          "name": "stdout"
        },
        {
          "output_type": "stream",
          "text": [
            "100%|██████████| 625/625 [00:05<00:00, 119.97it/s]\n",
            "  2%|▏         | 13/625 [00:00<00:04, 122.63it/s]"
          ],
          "name": "stderr"
        },
        {
          "output_type": "stream",
          "text": [
            "\n",
            "Epoch :  16   Train Loss :  1.852666702079773   Validation Loss :  1.891236643882314   Accuracy :  tensor(56.3600, device='cuda:0') \n",
            "\n"
          ],
          "name": "stdout"
        },
        {
          "output_type": "stream",
          "text": [
            "100%|██████████| 625/625 [00:05<00:00, 120.66it/s]\n",
            "  2%|▏         | 13/625 [00:00<00:04, 123.11it/s]"
          ],
          "name": "stderr"
        },
        {
          "output_type": "stream",
          "text": [
            "\n",
            "Epoch :  17   Train Loss :  1.84364409866333   Validation Loss :  1.8941791163887947   Accuracy :  tensor(56.4800, device='cuda:0') \n",
            "\n"
          ],
          "name": "stdout"
        },
        {
          "output_type": "stream",
          "text": [
            "100%|██████████| 625/625 [00:05<00:00, 120.43it/s]\n",
            "  2%|▏         | 10/625 [00:00<00:06, 95.40it/s]"
          ],
          "name": "stderr"
        },
        {
          "output_type": "stream",
          "text": [
            "\n",
            "Epoch :  18   Train Loss :  1.8426315635681152   Validation Loss :  1.9100979900663826   Accuracy :  tensor(54.8500, device='cuda:0') \n",
            "\n"
          ],
          "name": "stdout"
        },
        {
          "output_type": "stream",
          "text": [
            "100%|██████████| 625/625 [00:05<00:00, 120.31it/s]\n"
          ],
          "name": "stderr"
        },
        {
          "output_type": "stream",
          "text": [
            "\n",
            "Epoch :  19   Train Loss :  1.8368629146575928   Validation Loss :  1.890590553071089   Accuracy :  tensor(56.8500, device='cuda:0') \n",
            "\n",
            "Time:  142.05573379700036\n",
            "Accuracy on training set: 62.17\n",
            "Accuracy on test set: 56.85\n"
          ],
          "name": "stdout"
        }
      ]
    },
    {
      "cell_type": "code",
      "metadata": {
        "colab": {
          "base_uri": "https://localhost:8080/",
          "height": 295
        },
        "id": "2255jGHHMjxM",
        "outputId": "ad7b2195-2b53-42d2-ffec-f9b0d9483e66"
      },
      "source": [
        "plot_accuracy(accuracy, num_epoch=20)"
      ],
      "execution_count": null,
      "outputs": [
        {
          "output_type": "display_data",
          "data": {
            "image/png": "[encoded data removed]",
            "text/plain": [
              "<Figure size 432x288 with 1 Axes>"
            ]
          },
          "metadata": {
            "tags": [],
            "needs_background": "light"
          }
        }
      ]
    },
    {
      "cell_type": "code",
      "metadata": {
        "colab": {
          "base_uri": "https://localhost:8080/",
          "height": 295
        },
        "id": "dwWZL8uXMnC6",
        "outputId": "11a99d89-cefe-4c50-b378-8c4cb456d8a3"
      },
      "source": [
        "plot_losses(train_loss, valid_loss) \n"
      ],
      "execution_count": null,
      "outputs": [
        {
          "output_type": "display_data",
          "data": {
            "image/png": "[encoded data removed]",
            "text/plain": [
              "<Figure size 432x288 with 1 Axes>"
            ]
          },
          "metadata": {
            "tags": [],
            "needs_background": "light"
          }
        }
      ]
    }
  ]
}