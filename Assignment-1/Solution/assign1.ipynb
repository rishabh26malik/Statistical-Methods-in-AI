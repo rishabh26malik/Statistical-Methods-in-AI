{
  "nbformat": 4,
  "nbformat_minor": 0,
  "metadata": {
    "colab": {
      "name": "smai_assg_final.ipynb",
      "provenance": [],
      "collapsed_sections": []
    },
    "kernelspec": {
      "name": "python3",
      "display_name": "Python 3"
    }
  },
  "cells": [
    {
      "cell_type": "markdown",
      "metadata": {
        "id": "V5RPXC993g5f"
      },
      "source": [
        "**INSTRUCTIONS**"
      ]
    },
    {
      "cell_type": "markdown",
      "metadata": {
        "id": "wc6StAvu3oRv"
      },
      "source": [
        "\n",
        "\n",
        "1.  The assignment contains four questions. A few bonus questions are mentioned. \n",
        "2.   This assignment is due on **6th Feb, 23:59 **(**No Further extensions**).\n",
        "3.   Assignment must be implemented in Python 3 only.\n",
        "4.   You are allowed to use libraries for data preprocessing (numpy, pandas etc) and for evaluation metrics, data visualization (matplotlib etc.).\n",
        "5.   You will be evaluated not just on the overall performance of the model and also on the experimentation with hyper parameters, data prepossessing techniques etc.\n",
        "6.   The report file must be a well documented jupyter notebook, explaining the experiments you have performed, evaluation metrics and corresponding code. The code must run and be able to reproduce the accuracies, figures/graphs etc.\n",
        "7.   For all the questions, you must create a train-validation data split and test the hyperparameter tuning on the validation set. Your jupyter notebook must reflect the same.\n",
        "8.   Any attempts at **plagiarism will be penalized heavily**.\n",
        "9.   Make sure you run and save your notebooks before submission.\n",
        "10.  For question 3 of the Decision Trees section, output your model's depth first traversal into ```outputimp.txt``` and submit it along with the ipynb file.\n",
        "10. Naming convention for the ipynb file is ```<roll_number>_assign1.ipynb```\n",
        "11. Compress your submission files into a zip file with the naming convention: ```<roll_number>_assign1.zip``` and submit in the portal."
      ]
    },
    {
      "cell_type": "code",
      "metadata": {
        "colab": {
          "base_uri": "https://localhost:8080/"
        },
        "id": "eCFcL8TBS5B9",
        "outputId": "09eccfcb-27ca-49f7-ec78-d0210f5dd8fb"
      },
      "source": [
        "from google.colab import drive\n",
        "drive.mount('/content/drive')"
      ],
      "execution_count": 1,
      "outputs": [
        {
          "output_type": "stream",
          "text": [
            "Mounted at /content/drive\n"
          ],
          "name": "stdout"
        }
      ]
    },
    {
      "cell_type": "markdown",
      "metadata": {
        "id": "nncP5eQd0IXL"
      },
      "source": [
        "#**1) REGRESSION**\n",
        "\n",
        "Please find the Diamond Price Prediction Data set https://drive.google.com/drive/folders/1qE1tm3Ke3uotTyv6SUqruI09t-AkcwRK?usp=sharing. \"description.txt\" contains the feature description of data, \"diamonds.csv\" has the data."
      ]
    },
    {
      "cell_type": "code",
      "metadata": {
        "id": "EhFbx6v-4SP8",
        "colab": {
          "base_uri": "https://localhost:8080/"
        },
        "outputId": "63889439-c3eb-4b74-dbdd-30bd39c0c6c8"
      },
      "source": [
        "# To read data from diamonds.csv\n",
        "import pandas as pd\n",
        "import numpy as np\n",
        "import csv\n",
        "\n",
        "with open(\"/content/drive/My Drive/SMAI/diamonds.csv\", 'r') as f:\n",
        "    data = list(csv.reader(f, delimiter=\",\"))\n",
        "print(data)\n",
        "data, y = preprocessing(data)\n",
        "#print(data.shape, y.shape)\n",
        "valid_label = y[44000:49000]\n",
        "train_label = y[:44000]\n",
        "n=5000\n",
        "row, col = data.shape\n",
        "np.random.shuffle(data)\n",
        "train = data[:44000,:]\n",
        "valid = data[44000:49000,:]\n",
        "#print(train.shape, train_label.shape, valid.shape, valid_label.shape)\n"
      ],
      "execution_count": 2,
      "outputs": [
        {
          "output_type": "stream",
          "text": [
            "IOPub data rate exceeded.\n",
            "The notebook server will temporarily stop sending output\n",
            "to the client in order to avoid crashing it.\n",
            "To change this limit, set the config variable\n",
            "`--NotebookApp.iopub_data_rate_limit`.\n",
            "\n",
            "Current values:\n",
            "NotebookApp.iopub_data_rate_limit=1000000.0 (bytes/sec)\n",
            "NotebookApp.rate_limit_window=3.0 (secs)\n",
            "\n"
          ],
          "name": "stderr"
        }
      ]
    },
    {
      "cell_type": "markdown",
      "metadata": {
        "id": "p64BQ-W3zpkM"
      },
      "source": [
        "\n",
        "\n",
        "```\n",
        "# This is formatted as code\n",
        "```\n",
        "\n",
        "**KNN Regression [Diamond Price Prediction Dataset]**"
      ]
    },
    {
      "cell_type": "markdown",
      "metadata": {
        "id": "pi5z3DDg04cc"
      },
      "source": [
        "1. a) Build a knn regression algorithm [using only python from scratch] to predict the price of diamonds."
      ]
    },
    {
      "cell_type": "code",
      "metadata": {
        "id": "8kcAcD2T3Hsh"
      },
      "source": [
        "# code for knn regression\n",
        "import matplotlib.pyplot as plt\n",
        "import math\n",
        "from tabulate import tabulate\n",
        "\n",
        "def plot_graph(x, y, x_label, y_label, title):\n",
        "  plt.plot(x, y) \n",
        "  plt.xlabel(x_label) \n",
        "  plt.ylabel(y_label) \n",
        "  plt.title(title) \n",
        "  plt.show()\n",
        "\n",
        "def preprocessing(data):\n",
        "  color = {'D':0,'E':1,'F':2,'G':3,'H':4,'I':5,'J':6}\n",
        "  clarity = {'I1':0 , 'SI2':1, 'SI1':2, 'VS2':3, 'VS1':4, 'VVS2':5, 'VVS1':6, 'IF':7}\n",
        "  cut = {'Fair':0, 'Good':1, 'Very Good':2, 'Premium':3, 'Ideal':4}\n",
        "  data.pop(0)\n",
        "  for row in data:\n",
        "    row[2] = color[row[2]]\n",
        "    row[3] = clarity[row[3]]\n",
        "    row[1] = cut[row[1]]\n",
        "\n",
        "  data = np.array(data, dtype=np.float)\n",
        "  y = data[:,6]\n",
        "  data = np.delete(data, 6, 1)\n",
        "  return data, y\n",
        "\n",
        "def normalize_data(data):\n",
        "  for i in (0,4,5,6,7,8):\n",
        "    data[:,i] = (data[:,i]-np.mean(data[:,i]))/np.std(data[:,i]) \n",
        "  return data\n",
        "\n",
        "def min_max_scaling(data):\n",
        "  for i in (0,4,5,6,7,8):\n",
        "    data[:,i] = (data[:,i]-np.min(data[:,i]))/(np.max(data[:,i])-np.min(data[:,i])) \n",
        "  return data\n",
        "\n",
        "def mean_square_error(label, prediction):\n",
        "  mse = math.sqrt((np.sum((label-predictions)**2)))/5000\n",
        "  return mse\n",
        "\n",
        "def mean_absolute_error(label, prediction):\n",
        "  mae = (np.sum(abs(label-predictions)))/5000\n",
        "  return mae\n",
        "\n",
        "\n",
        "def r2_square(label, predictions):\n",
        "  ss_total = np.sum((predictions-np.mean(label))**2)\n",
        "  ss_res = np.sum((label-predictions)**2)\n",
        "  r2 = 1 - ss_res/ss_total\n",
        "  return r2\n",
        "\n",
        "def  compute_distances_manhattan(X_test, X_train):    #used 1 loop only\n",
        "  dist = np.zeros((5000,44000))\n",
        "  for i in range(5000):\n",
        "    tmp_dist = np.array(44000)\n",
        "    img_dist = np.zeros((44000,9))\n",
        "    img_dist[:] = X_test[i]\n",
        "    tmp_dist = np.sqrt(np.sum(abs(img_dist - X_train), axis=1)) \n",
        "    #tmp_dist = np.sum((img_dist - X_train)**2, axis=1)    \n",
        "    #print(img_dist.shape, tmp_dist.shape, dist[0].shape)\n",
        "    dist[i,:]=tmp_dist\n",
        "  return dist\n",
        "\n",
        "\n",
        "def  compute_distances(X_test, X_train): \n",
        "  X_test_sq = np.sum((X_test**2),axis=1)[:, np.newaxis]\n",
        "  X_train_sq = np.sum((X_train**2),axis=1)\n",
        "  x = np.dot(X_test, X_train.T)\n",
        "  dist = np.sqrt(X_test_sq + X_train_sq - 2*x)\n",
        "  return dist\n",
        "\n",
        "\n",
        "def predict_cost(dist, k):\n",
        "  pred = np.argpartition(dist, k)[:,:k]\n",
        "  pred = train_label[pred]\n",
        "  pred = np.mean(pred, axis=1)\n",
        "  return pred\n",
        "\n",
        "def knn_regression(valid, train):\n",
        "  dist = compute_distances(valid, train)\n",
        "  print(dist.shape)\n",
        "  predictions = predict_cost(dist, 7)\n",
        "  return predictions\n",
        "\n",
        "def display_table(title, dist_matrix, valid_label):\n",
        "  r2_list = []\n",
        "  print(title)\n",
        "  table = [[\"K\",\"MSE\",\"MAE\",\"R2\"]]\n",
        "  for k in (1,2,3,5,7,9,11,16):\n",
        "    predictions = predict_cost(dist_matrix, k)\n",
        "    mae = mean_absolute_error(valid_label, predictions)\n",
        "    mse = mean_square_error(valid_label, predictions)\n",
        "    r2 = r2_square(valid_label, predictions)\n",
        "    r2_list.append(r2)\n",
        "    table.append([k, mse, mae, r2 ])\n",
        "  print(tabulate(table))\n",
        "  return r2_list\n",
        "\n"
      ],
      "execution_count": 1,
      "outputs": []
    },
    {
      "cell_type": "code",
      "metadata": {
        "colab": {
          "base_uri": "https://localhost:8080/"
        },
        "id": "mL4YE8NnTjrO",
        "outputId": "aab3034e-5712-4c1f-dd6f-13375355b2ae"
      },
      "source": [
        "euc_dist = compute_distances(valid, train)\n",
        "print(\"EUCLEADIAN DISTANCE MATRIX\")\n",
        "print(euc_dist)\n",
        "print()\n",
        "print(\"MANHATTAN DISTANCE MATRIX\")\n",
        "man_dist = compute_distances_manhattan(valid, train)\n",
        "print(man_dist)"
      ],
      "execution_count": 3,
      "outputs": [
        {
          "output_type": "stream",
          "text": [
            "/usr/local/lib/python3.6/dist-packages/ipykernel_launcher.py:70: RuntimeWarning: invalid value encountered in sqrt\n"
          ],
          "name": "stderr"
        },
        {
          "output_type": "stream",
          "text": [
            "EUCLEADIAN DISTANCE MATRIX\n",
            "[[ 8.26487144  4.07486196  4.5808187  ...  4.64476049  8.76118143\n",
            "   3.66701513]\n",
            " [ 9.37409196  4.53144569  6.6541566  ...  4.80042706  9.97700356\n",
            "   5.09938232]\n",
            " [10.5568698   4.33325513  5.15106785 ...  4.45795917  9.56844292\n",
            "   5.38642739]\n",
            " ...\n",
            " [ 9.3898296   4.93178467  8.08097148 ...  6.26815762  5.77833021\n",
            "   7.24131204]\n",
            " [ 9.42372007  2.76963897  7.23076068 ...  5.21286869  6.95376876\n",
            "   6.26694503]\n",
            " [ 7.95531898  2.11146868  4.30142999 ...  4.74187727  7.35723453\n",
            "   3.87548707]]\n",
            "\n",
            "MANHATTAN DISTANCE MATRIX\n",
            "[[4.66154481 3.32114438 3.37490741 ... 3.36749165 4.72122865 2.87054002]\n",
            " [4.84148737 2.9563491  3.61939221 ... 3.32415403 4.85798312 3.17962262]\n",
            " [5.1273775  3.12889757 3.05777697 ... 2.84604989 5.14295635 3.03315018]\n",
            " ...\n",
            " [4.30697109 3.64005494 4.41474801 ... 4.06693988 3.52278299 4.1521079 ]\n",
            " [4.16293166 2.52388589 3.9        ... 3.69594372 4.15812458 3.78945906]\n",
            " [4.42153819 2.10950231 3.06431069 ... 3.35261092 4.43959458 3.15277655]]\n"
          ],
          "name": "stdout"
        }
      ]
    },
    {
      "cell_type": "markdown",
      "metadata": {
        "id": "rdhlOuB_0xGr"
      },
      "source": [
        "1. b) Do we need to normalise data? [If so Does it make any difference?].\n"
      ]
    },
    {
      "cell_type": "code",
      "metadata": {
        "id": "0i3Q6iXF3IMj",
        "colab": {
          "base_uri": "https://localhost:8080/"
        },
        "outputId": "64f3d4f8-d939-4035-8740-f5e438697255"
      },
      "source": [
        "# give proper explanation\n",
        "from tabulate import tabulate\n",
        "from sklearn.metrics import r2_score\n",
        "norm_data = normalize_data(data)\n",
        "norm_train = norm_data[:44000,:]\n",
        "norm_valid = norm_data[44000:49000,:]\n",
        "\n",
        "norm_euc_dist = compute_distances(norm_valid, norm_train)\n",
        "#norm_predictions_euc = predict_cost(norm_euc_dist, k)\n",
        "\n",
        "norm_man_dist = compute_distances_manhattan(norm_valid, norm_train)\n",
        "#norm_predictions_man = predict_cost(norm_man_dist, k)\n",
        "\n",
        "norm_r2_euc = []\n",
        "#print(\"NORMALIZED EUCLEADIAN DISTANCE\")\n",
        "table_norm_euc = [[\"NORMALIZED EUCLEADIAN DISTANCE\"],[\"K\",\"MSE\",\"MAE\",\"R2\"]]\n",
        "for k in (1,2,3,5,7,9,11,16):\n",
        "  predictions = predict_cost(norm_euc_dist, k)\n",
        "  mae = mean_absolute_error(valid_label, predictions)\n",
        "  mse = mean_square_error(valid_label, predictions)\n",
        "  r2 = r2_square(valid_label, predictions)\n",
        "  #r2 = r2_score(valid_label, predictions)\n",
        "  norm_r2_euc.append(r2)\n",
        "  table_norm_euc.append([k, mse, mae, r2 ])\n",
        "#print(tabulate(table))\n",
        "\n",
        "\n",
        "norm_r2_man = []\n",
        "#print(\"NORMALIZED MANHATTAN DISTANCE\")\n",
        "table_norm_man = [[\"NORMALIZED MANHATTAN DISTANCE\"],[\"K\",\"MSE\",\"MAE\",\"R2\"]]\n",
        "for k in (1,2,3,5,7,9,11,16):\n",
        "  predictions = predict_cost(norm_man_dist, k)\n",
        "  mae = mean_absolute_error(valid_label, predictions)\n",
        "  mse = mean_square_error(valid_label, predictions)\n",
        "  r2 = r2_square(valid_label, predictions)\n",
        "  #r2 = r2_score(valid_label, predictions)\n",
        "  norm_r2_man.append(r2)\n",
        "  table_norm_man.append([k, mse, mae, r2 ])\n",
        "#print(tabulate(table))\n"
      ],
      "execution_count": 4,
      "outputs": [
        {
          "output_type": "stream",
          "text": [
            "/usr/local/lib/python3.6/dist-packages/ipykernel_launcher.py:70: RuntimeWarning: invalid value encountered in sqrt\n"
          ],
          "name": "stderr"
        }
      ]
    },
    {
      "cell_type": "markdown",
      "metadata": {
        "id": "E5bPcmCj0xCn"
      },
      "source": [
        "2. Experiment with different distance measures[Euclidean distance, Manhattan distance, Hamming Distance] to handle categorical attributes."
      ]
    },
    {
      "cell_type": "code",
      "metadata": {
        "id": "JVFgXFJM3I0m"
      },
      "source": [
        "# show all the experiments\n",
        "r2_euc = []\n",
        "#print(\"EUCLEADIAN DISTANCE\")\n",
        "table_euc = [[\"EUCLEADIAN DISTANCE\"],[\"K\",\"MSE\",\"MAE\",\"R2\"]]\n",
        "for k in (1,2,3,5,7,9,11,16):\n",
        "  predictions = predict_cost(euc_dist, k)\n",
        "  mae = mean_absolute_error(valid_label, predictions)\n",
        "  mse = mean_square_error(valid_label, predictions)\n",
        "  r2 = r2_square(valid_label, predictions)\n",
        "  #r2 = r2_score(valid_label, predictions)\n",
        "  r2_euc.append(r2)\n",
        "  table_euc.append([k, mse, mae, r2 ])\n",
        "#print(tabulate(table))\n",
        "knn_predictions = predictions\n",
        "\n",
        "r2_man = []\n",
        "#print(\"MANHATTAN DISTANCE\")\n",
        "table_man = [[\"MANHATTAN DISTANCE\"],[\"K\",\"MSE\",\"MAE\",\"R2\"]]\n",
        "for k in (1,2,3,5,7,9,11,16):\n",
        "  predictions = predict_cost(man_dist, k)\n",
        "  mae = mean_absolute_error(valid_label, predictions)\n",
        "  mse = mean_square_error(valid_label, predictions)\n",
        "  r2 = r2_square(valid_label, predictions)\n",
        "  #r2 = r2_score(valid_label, predictions)\n",
        "  r2_man.append(r2)\n",
        "  table_man.append([k, mse, mae, r2 ])\n",
        "#print(tabulate(table))"
      ],
      "execution_count": 5,
      "outputs": []
    },
    {
      "cell_type": "markdown",
      "metadata": {
        "id": "O64G_tqG0w_l"
      },
      "source": [
        "3. Report Mean Squared Error(MSE), Mean-Absolute-Error(MAE), R-squared (R2) score in a tabular form."
      ]
    },
    {
      "cell_type": "code",
      "metadata": {
        "id": "1WGPbWa-3JY7",
        "colab": {
          "base_uri": "https://localhost:8080/"
        },
        "outputId": "99edd23f-5fea-4a1f-f617-89e8ccf777a5"
      },
      "source": [
        "# report a table \n",
        "print(tabulate(table_euc))\n",
        "print(tabulate(table_man))\n",
        "print(tabulate(table_norm_euc))\n",
        "print(tabulate(table_norm_man))"
      ],
      "execution_count": 6,
      "outputs": [
        {
          "output_type": "stream",
          "text": [
            "-------------------  -----------------  ------------------  ---------------------\n",
            "EUCLEADIAN DISTANCE\n",
            "K                    MSE                MAE                 R2\n",
            "1                    71.81313551043431  3437.0532           -0.00700685062446782\n",
            "2                    57.38002343629706  3026.8207           -0.012908899747872127\n",
            "3                    51.82458457862124  2862.8181333333337  -0.015462768148394979\n",
            "5                    47.28762989373014  2777.3267200000005  -0.017588035744491304\n",
            "7                    44.83200682016437  2726.9736           -0.016491078874335985\n",
            "9                    43.48258207015088  2721.5453333333335  -0.016844954123212297\n",
            "11                   42.74900025573842  2717.548818181818   -0.018677513924874045\n",
            "16                   41.67141702918388  2717.4512125        -0.01852088675173924\n",
            "-------------------  -----------------  ------------------  ---------------------\n",
            "------------------  ------------------  ------------------  ----------------------\n",
            "MANHATTAN DISTANCE\n",
            "K                   MSE                 MAE                 R2\n",
            "1                   71.27563927401845   3416.5324           -0.0057185012818714576\n",
            "2                   57.09198016648223   3023.8883           -0.011818587960642724\n",
            "3                   51.77450127852512   2856.8117333333334  -0.012256226914985291\n",
            "5                   47.09822987162044   2772.14536          -0.015593960363196935\n",
            "7                   44.91364220032456   2738.3051714285716  -0.017538250371972985\n",
            "9                   43.405214196447716  2708.0405111111113  -0.017730920975489006\n",
            "11                  42.71432869336657   2710.9142181818183  -0.018563658449631815\n",
            "16                  41.66378369671202   2717.3723375        -0.020785515905978214\n",
            "------------------  ------------------  ------------------  ----------------------\n",
            "------------------------------  ------------------  ------------------  ---------------------\n",
            "NORMALIZED EUCLEADIAN DISTANCE\n",
            "K                               MSE                 MAE                 R2\n",
            "1                               70.31338315768913   3371.3962           -0.005915634018433424\n",
            "2                               56.8069736342291    2988.6156           -0.011416989180294213\n",
            "3                               51.33827058871384   2827.622933333333   -0.014902735601620476\n",
            "5                               46.94688104514718   2755.0798800000002  -0.01806479847368947\n",
            "7                               45.107188903847096  2742.6419142857144  -0.020281580373314734\n",
            "9                               43.66593662927208   2719.6336444444446  -0.020128743489283396\n",
            "11                              42.77872457334737   2715.5224727272725  -0.020509248126716395\n",
            "16                              41.46024213729115   2704.35895          -0.02056082143813165\n",
            "------------------------------  ------------------  ------------------  ---------------------\n",
            "-----------------------------  ------------------  ------------------  ---------------------\n",
            "NORMALIZED MANHATTAN DISTANCE\n",
            "K                              MSE                 MAE                 R2\n",
            "1                              70.98696043274427   3376.249            -0.005147218075985727\n",
            "2                              56.84009863344715   2986.5652           -0.009425636647254043\n",
            "3                              51.213334664757426  2818.8829333333338  -0.01342901245038508\n",
            "5                              46.95632661941094   2748.39492          -0.018231699216148645\n",
            "7                              44.850694188134376  2725.304285714286   -0.018218762808056788\n",
            "9                              43.524375482517954  2709.8904666666663  -0.019324065156727688\n",
            "11                             42.72034510419852   2709.312054545455   -0.020906846115535505\n",
            "16                             41.42213856647757   2701.9969875        -0.020541289836505827\n",
            "-----------------------------  ------------------  ------------------  ---------------------\n"
          ],
          "name": "stdout"
        }
      ]
    },
    {
      "cell_type": "markdown",
      "metadata": {
        "id": "MA2kN7dL0wjE"
      },
      "source": [
        "4.  a) Choose different K values (k=2,3,5,7,11,16) and experiment. Plot a graph showing R2 score vs k."
      ]
    },
    {
      "cell_type": "code",
      "metadata": {
        "id": "Z3VSKWrU3KBT",
        "colab": {
          "base_uri": "https://localhost:8080/",
          "height": 1000
        },
        "outputId": "da1b3f4c-264a-4497-eb82-6de391007e85"
      },
      "source": [
        "# plot\n",
        "K = [1,2,3,5,7,9,11,16]\n",
        "print(\"       ***** WITHOUT NORMALIZATION *****\")\n",
        "plot_graph(K, r2_euc, \"VALUE OF K\", \"R2 SCORE\", \"EUCLEADIAN DISTANCE\")\n",
        "plot_graph(K, r2_man, \"VALUE OF K\", \"R2 SCORE\", \"MANHATTAN DISTANCE\")\n",
        "print()\n",
        "print(\"       ***** WITH NORMALIZATION *****\")\n",
        "plot_graph(K, norm_r2_euc, \"VALUE OF K\", \"R2 SCORE\", \"EUCLEADIAN DISTANCE\")\n",
        "plot_graph(K, norm_r2_man, \"VALUE OF K\", \"R2 SCORE\", \"MANHATTAN DISTANCE\")"
      ],
      "execution_count": 7,
      "outputs": [
        {
          "output_type": "stream",
          "text": [
            "       ***** WITHOUT NORMALIZATION *****\n"
          ],
          "name": "stdout"
        },
        {
          "output_type": "display_data",
          "data": {
            "image/png": "[encoded data removed]",
            "text/plain": [
              "<Figure size 432x288 with 1 Axes>"
            ]
          },
          "metadata": {
            "tags": [],
            "needs_background": "light"
          }
        },
        {
          "output_type": "display_data",
          "data": {
            "image/png": "[encoded data removed]",
            "text/plain": [
              "<Figure size 432x288 with 1 Axes>"
            ]
          },
          "metadata": {
            "tags": [],
            "needs_background": "light"
          }
        },
        {
          "output_type": "stream",
          "text": [
            "\n",
            "       ***** WITH NORMALIZATION *****\n"
          ],
          "name": "stdout"
        },
        {
          "output_type": "display_data",
          "data": {
            "image/png": "[encoded data removed]",
            "text/plain": [
              "<Figure size 432x288 with 1 Axes>"
            ]
          },
          "metadata": {
            "tags": [],
            "needs_background": "light"
          }
        },
        {
          "output_type": "display_data",
          "data": {
            "image/png": "[encoded data removed]",
            "text/plain": [
              "<Figure size 432x288 with 1 Axes>"
            ]
          },
          "metadata": {
            "tags": [],
            "needs_background": "light"
          }
        }
      ]
    },
    {
      "cell_type": "markdown",
      "metadata": {
        "id": "xgkHg7QL1mzy"
      },
      "source": [
        "4. b) Are the R-squared scores the same? Why / Why not? How do we identify the best K? Suggest a computational procedure, with a logical explanation."
      ]
    },
    {
      "cell_type": "markdown",
      "metadata": {
        "id": "eM0-n3nXg4B_"
      },
      "source": [
        "We can test the algorithm with different values of K. The distance matrix is computed only once so this method will take only only prediction and error measurement time for all values of k."
      ]
    },
    {
      "cell_type": "code",
      "metadata": {
        "id": "XmFoYY0q3Kyk",
        "colab": {
          "base_uri": "https://localhost:8080/",
          "height": 295
        },
        "outputId": "c0cf4054-e005-4df2-e407-be688630120b"
      },
      "source": [
        "# Explanation\n",
        "all_r2 = []\n",
        "for k in range(1, 51):\n",
        "  predictions = predict_cost(euc_dist, k)\n",
        "  mae = mean_absolute_error(valid_label, predictions)\n",
        "  mse = mean_square_error(valid_label, predictions)\n",
        "  r2 = r2_square(valid_label, predictions)\n",
        "  all_r2.append(r2)\n",
        "#print(all_r2)\n",
        "#print(list(range(1,51)))\n",
        "K = list(range(1,51))\n",
        "plot_graph(K, all_r2, \"VALUE OF K\", \"R2 SCORE\", \"R2 vs K (WITH EUCLEADIAN DISTANCE)\")"
      ],
      "execution_count": 8,
      "outputs": [
        {
          "output_type": "display_data",
          "data": {
            "image/png": "[encoded data removed]",
            "text/plain": [
              "<Figure size 432x288 with 1 Axes>"
            ]
          },
          "metadata": {
            "tags": [],
            "needs_background": "light"
          }
        }
      ]
    },
    {
      "cell_type": "markdown",
      "metadata": {
        "id": "Psho4dHI1wXb"
      },
      "source": [
        "5. a) Also, report the performance of scikit-learn’s kNN regression algorithm.  "
      ]
    },
    {
      "cell_type": "code",
      "metadata": {
        "id": "XmBOqvrm3Lkf",
        "colab": {
          "base_uri": "https://localhost:8080/"
        },
        "outputId": "34a98fb4-41bc-42bc-eedb-c32edd607670"
      },
      "source": [
        "# scikit-learn KNN Regressor\n",
        "from sklearn.metrics import r2_score\n",
        "from sklearn.neighbors import KNeighborsRegressor\n",
        "neigh = KNeighborsRegressor(n_neighbors=31)\n",
        "neigh.fit(train, train_label)\n",
        "print(r2_score(valid_label, neigh.predict(valid) ))\n",
        "print(\"Predicted labels - \",neigh.predict(valid))\n",
        "print(\"Actual labels - \",valid_label)"
      ],
      "execution_count": 26,
      "outputs": [
        {
          "output_type": "stream",
          "text": [
            "-49.89225122450438\n",
            "Predicted labels -  [4458.51612903 4958.22580645 4882.19354839 ... 3944.09677419 5093.\n",
            " 5044.58064516]\n",
            "Actual labels -  [ 394.  394.  394. ... 2049. 2049. 2050.]\n"
          ],
          "name": "stdout"
        }
      ]
    },
    {
      "cell_type": "markdown",
      "metadata": {
        "id": "R7ZzdSUu2Iez"
      },
      "source": [
        "5. b) Compare it with the algorithm you built. [ you can use complexities, R2 score etc..]"
      ]
    },
    {
      "cell_type": "code",
      "metadata": {
        "id": "hmi9rZDF3MNB"
      },
      "source": [
        "# Comparison\n",
        "#In this case neither of the 2 method seems to perform well. Both gave weird R2 values.\n",
        "#Could not figure out why."
      ],
      "execution_count": null,
      "outputs": []
    },
    {
      "cell_type": "markdown",
      "metadata": {
        "id": "Xa-vbZfY2OFO"
      },
      "source": [
        "6. From the above experiments, what do you think are advantages and disadvantages of the knn regression algorithm?\n"
      ]
    },
    {
      "cell_type": "code",
      "metadata": {
        "id": "hDCRj4H93Mu8"
      },
      "source": [
        "# report this  along with the experiments"
      ],
      "execution_count": 27,
      "outputs": []
    },
    {
      "cell_type": "markdown",
      "metadata": {
        "id": "aMn8TYbR0XOA"
      },
      "source": [
        "### Advantages\n",
        "It's easiest to implement and does not require any training.\n",
        "### Disadvantages\n",
        "KNN does not work well with large dataset. It takes a lot of time and is therefor not feasible in real time."
      ]
    },
    {
      "cell_type": "markdown",
      "metadata": {
        "id": "NlPGwmq2elOR"
      },
      "source": [
        "# **2)** **Linear Regression**\n",
        "\n",
        "Dataset - same as above (Diamond Price Detection)\n"
      ]
    },
    {
      "cell_type": "markdown",
      "metadata": {
        "id": "DB9Co3225uTa"
      },
      "source": [
        "2a) Implement a Linear Regression model (from the scratch) taking suitable independent variables from the dataset. \n",
        "\n",
        "Report and Calculate the error obtained.\n"
      ]
    },
    {
      "cell_type": "code",
      "metadata": {
        "id": "wsckTq4zzxnx",
        "colab": {
          "base_uri": "https://localhost:8080/"
        },
        "outputId": "9320ca0a-28a0-461c-9381-2a5f40866ba9"
      },
      "source": [
        "import numpy as np\n",
        "import csv\n",
        "from sklearn.preprocessing import MinMaxScaler\n",
        "import random\n",
        "import copy\n",
        "\n",
        "def normalize_data(data):\n",
        "  for i in (0,4,5,6,7,8):\n",
        "    data[:,i] = (data[:,i]-np.mean(data[:,i]))/np.std(data[:,i]) \n",
        "  #data = np.delete(data, 6, 1)\n",
        "  return data\n",
        "\n",
        "def preprocessing(data):\n",
        "  color = {'D':0,'E':1,'F':2,'G':3,'H':4,'I':5,'J':6}\n",
        "  clarity = {'I1':0 , 'SI2':1, 'SI1':2, 'VS2':3, 'VS1':4, 'VVS2':5, 'VVS1':6, 'IF':7}\n",
        "  cut = {'Fair':0, 'Good':1, 'Very Good':2, 'Premium':3, 'Ideal':4}\n",
        "  data.pop(0)\n",
        "  for row in data:\n",
        "    row[2] = color[row[2]]\n",
        "    row[3] = clarity[row[3]]\n",
        "    row[1] = cut[row[1]]\n",
        "  data = np.array(data, dtype=np.float)\n",
        "  y = data[:,6]\n",
        "  data = np.delete(data, 6, 1)\n",
        "  return data, y\n",
        "\n",
        "\n",
        "with open(\"/content/drive/My Drive/SMAI/diamonds.csv\", 'r') as f:\n",
        "    data = list(csv.reader(f, delimiter=\",\"))\n",
        "data.pop(0)\n",
        "print(data)\n",
        "\n",
        "data, y = preprocessing(data)\n",
        "#data = normalize_data(data)\n",
        "data = np.array(data, dtype=np.float32)\n",
        "print(data)\n",
        "original_data = copy.deepcopy(data)\n",
        "data = (data - np.mean(data))/np.std(data)\n",
        "print(data.shape, y.shape)\n",
        "y_valid = y[44000:49000]\n",
        "y_train = y[:44000]\n",
        "X_train = data[:44000,:]\n",
        "X_valid = data[44000:49000,:]\n",
        "\n",
        "theta = np.random.rand(9)/10\n",
        "print(\"THETA - \",theta,\"\\n\")\n",
        "alpha = 0.0093\n",
        "\n",
        "for i in range(90000):\n",
        "  pred = np.dot(X_train, theta)\n",
        "  err = pred - y_train\n",
        "  total_cost = (np.sum(err**2))/(2*44000)\n",
        "  #print(total_cost)\n",
        "  theta = theta - (alpha * np.dot(X_train.T, err))/44000\n",
        "\n",
        "print(\"THETA - \",theta)\n",
        "print()\n",
        "pred = np.dot(X_valid, theta)\n",
        "print(\"PREDICTIONS - \",pred)\n",
        "print(\"ACTUAL LABELS - \",y_train)\n",
        "linear_reg_preds = copy.deepcopy(pred)"
      ],
      "execution_count": 10,
      "outputs": [
        {
          "output_type": "stream",
          "text": [
            "IOPub data rate exceeded.\n",
            "The notebook server will temporarily stop sending output\n",
            "to the client in order to avoid crashing it.\n",
            "To change this limit, set the config variable\n",
            "`--NotebookApp.iopub_data_rate_limit`.\n",
            "\n",
            "Current values:\n",
            "NotebookApp.iopub_data_rate_limit=1000000.0 (bytes/sec)\n",
            "NotebookApp.rate_limit_window=3.0 (secs)\n",
            "\n"
          ],
          "name": "stderr"
        },
        {
          "output_type": "stream",
          "text": [
            "THETA -  [ 6680.55958346  5818.00943125 -6149.55184562  8701.77764671\n",
            " 16398.36910077  8250.25684124 31972.94416374 30263.76380549\n",
            " 12398.55613859]\n",
            "\n",
            "PREDICTIONS -  [-789.19242659 -842.20688274 -687.62381969 ... 4000.30553233 1365.23898909\n",
            " 5334.72501924]\n",
            "ACTUAL LABELS -  [326. 327. 334. ... 394. 394. 394.]\n"
          ],
          "name": "stdout"
        }
      ]
    },
    {
      "cell_type": "markdown",
      "metadata": {
        "id": "6PUfKXGU6DQ2"
      },
      "source": [
        "2b) What are the best suitable features you used to predict the price of the dataset and Why?\n",
        "\n",
        "Idea: Use Correlation to get the suitable features and Report the values accordingly."
      ]
    },
    {
      "cell_type": "markdown",
      "metadata": {
        "id": "WOvvM_N-jDwl"
      },
      "source": [
        "### Observation\n",
        "By using the correlation between each feature and the price, we get carat, x, y and z as the features which are most correlated with price. Other feature seem to have less correlation with price compared to these."
      ]
    },
    {
      "cell_type": "code",
      "metadata": {
        "id": "nUVKOe6d6g2u",
        "colab": {
          "base_uri": "https://localhost:8080/"
        },
        "outputId": "6c683b0a-f7cb-4ba7-bf52-78c33afcf20e"
      },
      "source": [
        "#code for Correlation between features and the Diamond Price.\n",
        "\n",
        "high_corr_col = []\n",
        "for i in range(9):\n",
        "  corr = np.corrcoef(y_train, X_train[:,i])[0][1]\n",
        "  if(corr >= 0.6 or corr <=-0.6):\n",
        "    high_corr_col.append(i)\n",
        "    print(i,corr)\n",
        "\n",
        "X_train_corr = X_train[:,high_corr_col]\n",
        "print(X_train_corr.shape)\n",
        "\n",
        "corr_theta = np.random.rand(4)/10\n",
        "#theta = np.zeros(9)\n",
        "print(\"THETA - \",corr_theta,\"\\n\")\n",
        "alpha = 0.033\n",
        "\n",
        "for i in range(35000):\n",
        "  pred = np.dot(X_train_corr, corr_theta)\n",
        "  err = pred - y_train\n",
        "  total_cost = (np.sum(err**2))/(2*44000)\n",
        "  #print(total_cost)\n",
        "  corr_theta = corr_theta - (alpha * np.dot(X_train_corr.T, err))/44000\n",
        "\n",
        "print(\"RESULTS USING GIGHLY CORRELATED FEATURES\")\n",
        "print(\"THETA - \",corr_theta)\n",
        "print()\n",
        "corr_pred = np.dot(X_train_corr, corr_theta)\n",
        "print(\"PREDICTIONS - \",corr_pred)\n",
        "print(\"ACTUAL LABELS - \",y_train)\n"
      ],
      "execution_count": 11,
      "outputs": [
        {
          "output_type": "stream",
          "text": [
            "0 0.9216675147224925\n",
            "6 0.8906347105074103\n",
            "7 0.8748230746951935\n",
            "8 0.8811200386232368\n",
            "(44000, 4)\n",
            "THETA -  [0.09737194 0.0036252  0.06278929 0.00049277] \n",
            "\n",
            "RESULTS USING GIGHLY CORRELATED FEATURES\n",
            "THETA -  [-53928.73221071  46596.61544726  43132.64637304 -15866.40781861]\n",
            "\n",
            "PREDICTIONS -  [-812.88598733 -117.60707796  120.34858995 ...  601.32000225  754.87077207\n",
            "  146.39765317]\n",
            "ACTUAL LABELS -  [326. 327. 334. ... 394. 394. 394.]\n"
          ],
          "name": "stdout"
        }
      ]
    },
    {
      "cell_type": "markdown",
      "metadata": {
        "id": "3QB-vCqz6u5z"
      },
      "source": [
        "Explanation for 2b) - "
      ]
    },
    {
      "cell_type": "markdown",
      "metadata": {
        "id": "NNDl68N26yY3"
      },
      "source": [
        "2c) Use the module Linear Regression from sklearn to predict the price of diamonds(considering the same attributes as before) and compare the result obtained with the above. \n"
      ]
    },
    {
      "cell_type": "code",
      "metadata": {
        "id": "50xYhwND64tM",
        "colab": {
          "base_uri": "https://localhost:8080/"
        },
        "outputId": "a69eca46-154e-4b82-e3cc-5d6daf8cd1c7"
      },
      "source": [
        "# import sklearn model\n",
        "from sklearn.linear_model import LinearRegression\n",
        "regr = LinearRegression() \n",
        "regr.fit(X_train, y_train) \n",
        "print(regr.score(X_valid, y_valid)) \n",
        "print(regr.predict(X_valid))\n",
        "skl_pred = regr.predict(X_valid)\n",
        "print(y_valid)"
      ],
      "execution_count": 12,
      "outputs": [
        {
          "output_type": "stream",
          "text": [
            "-2.026364667832247\n",
            "[-1807.8125 -1975.4375 -1964.9688 ...  1472.8281  1965.6562  1366.8438]\n",
            "[ 394.  394.  394. ... 2049. 2050. 2050.]\n"
          ],
          "name": "stdout"
        }
      ]
    },
    {
      "cell_type": "markdown",
      "metadata": {
        "id": "121Z4wwx7CLk"
      },
      "source": [
        "2d) Now, using the whole dataset, predict the price of the Diamonds using the module of Linear Regression from sklearn. Report the changes you have observed compared to before? Adding extra features did it make the prediction better or worse.Comment? \n"
      ]
    },
    {
      "cell_type": "code",
      "metadata": {
        "id": "Eo1pB2QB7Jqz"
      },
      "source": [
        ""
      ],
      "execution_count": null,
      "outputs": []
    },
    {
      "cell_type": "markdown",
      "metadata": {
        "id": "cAqKLuCh7qP5"
      },
      "source": [
        "2e) Now, compare the algorithms KNN regression and Linear Regression. What are the differences you have observed? Which is better and why. Your statements should be backed up with statistics. \n"
      ]
    },
    {
      "cell_type": "markdown",
      "metadata": {
        "id": "4Qb2nIZ171vI"
      },
      "source": [
        "Explanation - \n",
        "In this case, KNN seems to perform somewhat better than linear regression. Linear regression did not fit well even on tying with different values of alpha.<br>\n",
        "The parameters learnt in linear regression predicts -ve values a lot of times which should never happen. This does not happen with knn."
      ]
    },
    {
      "cell_type": "markdown",
      "metadata": {
        "id": "vdAATTFJ8Lvn"
      },
      "source": [
        "2f) Plot the predicted values from KNN regression, Linear Regression and Actual Diamond Price.\n"
      ]
    },
    {
      "cell_type": "code",
      "metadata": {
        "id": "Wts-tBCC8NiA",
        "colab": {
          "base_uri": "https://localhost:8080/",
          "height": 590
        },
        "outputId": "1881d21d-52d0-444b-e0d8-64b0bf5eaef8"
      },
      "source": [
        "\n",
        "lin_reg_pred = pred\n",
        "print(lin_reg_pred.shape)\n",
        "\n",
        "plt.plot(knn_predictions, valid_label, 'b.')\n",
        "plt.xlabel('knn predictions') \n",
        "plt.ylabel('actual price') \n",
        "plt.title(\"KNN\") \n",
        "plt.show()\n",
        "\n",
        "plt.plot(linear_reg_preds, valid_label, 'g*') \n",
        "plt.xlabel('Linear Regression predictions') \n",
        "plt.ylabel('actual price') \n",
        "plt.title(\"linear Regression\") \n",
        "plt.show()"
      ],
      "execution_count": 21,
      "outputs": [
        {
          "output_type": "stream",
          "text": [
            "(44000,)\n"
          ],
          "name": "stdout"
        },
        {
          "output_type": "display_data",
          "data": {
            "image/png": "[encoded data removed]",
            "text/plain": [
              "<Figure size 432x288 with 1 Axes>"
            ]
          },
          "metadata": {
            "tags": [],
            "needs_background": "light"
          }
        },
        {
          "output_type": "display_data",
          "data": {
            "image/png": "[encoded data removed]",
            "text/plain": [
              "<Figure size 432x288 with 1 Axes>"
            ]
          },
          "metadata": {
            "tags": [],
            "needs_background": "light"
          }
        }
      ]
    },
    {
      "cell_type": "markdown",
      "metadata": {
        "id": "-PkRYsKTzzLM"
      },
      "source": [
        "#**KNN Classifier**"
      ]
    },
    {
      "cell_type": "markdown",
      "metadata": {
        "id": "Ve2icBQ8Zuqq"
      },
      "source": [
        "In this problem you are required to train, test and validate a K-Nearest Neighbor Classifier on the famous CIFAR-10 dataset. The next few cells will guide you through the process. Follow along..."
      ]
    },
    {
      "cell_type": "code",
      "metadata": {
        "id": "1BZZyZZ3bq-3"
      },
      "source": [
        "# Run some setup code for this notebook.\n",
        "\n",
        "import random\n",
        "import numpy as np\n",
        "import matplotlib.pyplot as plt\n",
        "import os\n",
        "\n",
        "\n",
        "from __future__ import print_function\n",
        "\n",
        "from builtins import range\n",
        "from six.moves import cPickle as pickle\n",
        "from imageio import imread\n",
        "import platform\n",
        "\n",
        "# This is a bit of magic to make matplotlib figures appear inline in the notebook\n",
        "# rather than in a new window.\n",
        "%matplotlib inline\n",
        "plt.rcParams['figure.figsize'] = (10.0, 8.0) # set default size of plots\n",
        "plt.rcParams['image.interpolation'] = 'nearest'\n",
        "plt.rcParams['image.cmap'] = 'gray'\n",
        "\n",
        "# Some more magic so that the notebook will reload external python modules;\n",
        "# see http://stackoverflow.com/questions/1907993/autoreload-of-modules-in-ipython\n",
        "%load_ext autoreload\n",
        "%autoreload 2"
      ],
      "execution_count": 2,
      "outputs": []
    },
    {
      "cell_type": "code",
      "metadata": {
        "colab": {
          "base_uri": "https://localhost:8080/"
        },
        "id": "v9TLyifNd5eE",
        "outputId": "adf5e6d6-0ad3-477c-ea12-e4ddc6bbb20f"
      },
      "source": [
        "# Download the dataset\n",
        "!wget http://www.cs.toronto.edu/~kriz/cifar-10-python.tar.gz -O cifar-10-python.tar.gz\n",
        "!tar -xzvf cifar-10-python.tar.gz\n",
        "!rm cifar-10-python.tar.gz"
      ],
      "execution_count": 3,
      "outputs": [
        {
          "output_type": "stream",
          "text": [
            "--2021-02-09 12:12:38--  http://www.cs.toronto.edu/~kriz/cifar-10-python.tar.gz\n",
            "Resolving www.cs.toronto.edu (www.cs.toronto.edu)... 128.100.3.30\n",
            "Connecting to www.cs.toronto.edu (www.cs.toronto.edu)|128.100.3.30|:80... connected.\n",
            "HTTP request sent, awaiting response... 200 OK\n",
            "Length: 170498071 (163M) [application/x-gzip]\n",
            "Saving to: ‘cifar-10-python.tar.gz’\n",
            "\n",
            "cifar-10-python.tar 100%[===================>] 162.60M  67.3MB/s    in 2.4s    \n",
            "\n",
            "2021-02-09 12:12:41 (67.3 MB/s) - ‘cifar-10-python.tar.gz’ saved [170498071/170498071]\n",
            "\n",
            "cifar-10-batches-py/\n",
            "cifar-10-batches-py/data_batch_4\n",
            "cifar-10-batches-py/readme.html\n",
            "cifar-10-batches-py/test_batch\n",
            "cifar-10-batches-py/data_batch_3\n",
            "cifar-10-batches-py/batches.meta\n",
            "cifar-10-batches-py/data_batch_2\n",
            "cifar-10-batches-py/data_batch_5\n",
            "cifar-10-batches-py/data_batch_1\n"
          ],
          "name": "stdout"
        }
      ]
    },
    {
      "cell_type": "code",
      "metadata": {
        "colab": {
          "base_uri": "https://localhost:8080/"
        },
        "id": "LUWUH9G8dsAi",
        "outputId": "9b37fae2-0b73-4cf6-9c30-fe96593a79b8"
      },
      "source": [
        "# This cell loads the training and testing dataset. Please note the variables at\n",
        "# the end of the cell as you would require them to access the train/test data \n",
        "# and labels throughout the assignment\n",
        "def load_pickle(f):\n",
        "    version = platform.python_version_tuple()\n",
        "    if version[0] == '2':\n",
        "        return  pickle.load(f)\n",
        "    elif version[0] == '3':\n",
        "        return  pickle.load(f, encoding='latin1')\n",
        "    raise ValueError(\"invalid python version: {}\".format(version))\n",
        "  \n",
        "def load_CIFAR_batch(filename):\n",
        "    \"\"\" load single batch of cifar \"\"\"\n",
        "    with open(filename, 'rb') as f:\n",
        "        datadict = load_pickle(f)\n",
        "        X = datadict['data']\n",
        "        Y = datadict['labels']\n",
        "        X = X.reshape(10000, 3, 32, 32).transpose(0,2,3,1).astype(\"float\")\n",
        "        Y = np.array(Y)\n",
        "        return X, Y\n",
        "\n",
        "def load_CIFAR10(ROOT):\n",
        "    \"\"\" load all of cifar \"\"\"\n",
        "    xs = []\n",
        "    ys = []\n",
        "    for b in range(1,6):\n",
        "        f = os.path.join(ROOT, 'data_batch_%d' % (b, ))\n",
        "        X, Y = load_CIFAR_batch(f)\n",
        "        xs.append(X)\n",
        "        ys.append(Y)\n",
        "    Xtr = np.concatenate(xs)\n",
        "    Ytr = np.concatenate(ys)\n",
        "    del X, Y\n",
        "    Xte, Yte = load_CIFAR_batch(os.path.join(ROOT, 'test_batch'))\n",
        "    return Xtr, Ytr, Xte, Yte\n",
        "\n",
        "\n",
        "cifar10_dir = 'cifar-10-batches-py'\n",
        "\n",
        "# Cleaning up variables to prevent loading data multiple times\n",
        "try:\n",
        "   del X_train, y_train\n",
        "   del X_test, y_test\n",
        "   print('Clear previously loaded data.')\n",
        "except:\n",
        "   pass\n",
        "\n",
        "X_train, y_train, X_test, y_test = load_CIFAR10(cifar10_dir)\n",
        "\n",
        "# As a sanity check, we print out the size of the training and test data.\n",
        "print('Training data shape: ', X_train.shape)\n",
        "print('Training labels shape: ', y_train.shape)\n",
        "print('Test data shape: ', X_test.shape)\n",
        "print('Test labels shape: ', y_test.shape)\n",
        "tot_y_train = y_train \n",
        "tot_X_train = X_train\n",
        "tot_y_test = y_test\n",
        "tot_X_test = X_test\n",
        "#print(X_train)"
      ],
      "execution_count": 4,
      "outputs": [
        {
          "output_type": "stream",
          "text": [
            "Training data shape:  (50000, 32, 32, 3)\n",
            "Training labels shape:  (50000,)\n",
            "Test data shape:  (10000, 32, 32, 3)\n",
            "Test labels shape:  (10000,)\n"
          ],
          "name": "stdout"
        }
      ]
    },
    {
      "cell_type": "markdown",
      "metadata": {
        "id": "ImbVaneln_Vo"
      },
      "source": [
        "Next we visualize the CIFAR-10 dataset. Although these functions are being written for you, we highly recommend you go through the code and make yourself familiar as these are things you will be required to do very often when working on AI/ML projects"
      ]
    },
    {
      "cell_type": "code",
      "metadata": {
        "colab": {
          "base_uri": "https://localhost:8080/",
          "height": 476
        },
        "id": "JBiR9dSyn1mV",
        "outputId": "8bf2f3d2-34d7-40fb-c52f-bff3f75de834"
      },
      "source": [
        "# Visualize some examples from the dataset.\n",
        "# We show a few examples of training images from each class.\n",
        "classes = ['plane', 'car', 'bird', 'cat', 'deer', 'dog', 'frog', 'horse', 'ship', 'truck']\n",
        "num_classes = len(classes)\n",
        "samples_per_class = 7\n",
        "for y, cls in enumerate(classes):\n",
        "    idxs = np.flatnonzero(y_train == y)\n",
        "    idxs = np.random.choice(idxs, samples_per_class, replace=False)\n",
        "    for i, idx in enumerate(idxs):\n",
        "        plt_idx = i * num_classes + y + 1\n",
        "        plt.subplot(samples_per_class, num_classes, plt_idx)\n",
        "        plt.imshow(X_train[idx].astype('uint8'))\n",
        "        plt.axis('off')\n",
        "        if i == 0:\n",
        "            plt.title(cls)\n",
        "plt.show()"
      ],
      "execution_count": 81,
      "outputs": [
        {
          "output_type": "display_data",
          "data": {
            "image/png": "[encoded data removed]",
            "text/plain": [
              "<Figure size 720x576 with 70 Axes>"
            ]
          },
          "metadata": {
            "tags": [],
            "needs_background": "light"
          }
        }
      ]
    },
    {
      "cell_type": "markdown",
      "metadata": {
        "id": "3J80qrXPoaIx"
      },
      "source": [
        "In the next cell we flatten each image into a single dimensional vector so that it is easy to process. You should be able to reason about the dimensions comfortable."
      ]
    },
    {
      "cell_type": "code",
      "metadata": {
        "colab": {
          "base_uri": "https://localhost:8080/"
        },
        "id": "-FoCgA3Xn9K6",
        "outputId": "dd4c361a-d482-458f-df9f-619335133386"
      },
      "source": [
        "# Subsample the data for more efficient code execution in this exercise\n",
        "num_training = 5000\n",
        "mask = list(range(num_training))\n",
        "X_train = X_train[mask]\n",
        "y_train = y_train[mask]\n",
        "\n",
        "num_test = 500\n",
        "mask = list(range(num_test))\n",
        "X_test = X_test[mask]\n",
        "y_test = y_test[mask]\n",
        "\n",
        "# Reshape the image data into rows\n",
        "X_train = np.reshape(X_train, (X_train.shape[0], -1))\n",
        "X_test = np.reshape(X_test, (X_test.shape[0], -1))\n",
        "print(X_train.shape, X_test.shape)"
      ],
      "execution_count": 33,
      "outputs": [
        {
          "output_type": "stream",
          "text": [
            "(5000, 3072) (500, 3072)\n"
          ],
          "name": "stdout"
        }
      ]
    },
    {
      "cell_type": "markdown",
      "metadata": {
        "id": "Atyl_HGcgmb5"
      },
      "source": [
        "In the next cell you are going to implement the main KNearestNeighbor class and keep adding functions to it as and when required in the subsequent steps."
      ]
    },
    {
      "cell_type": "code",
      "metadata": {
        "id": "kGM_wB3Wmenb"
      },
      "source": [
        "# You will keep coming back to this cell to add more functions as and when\n",
        "# required. Right now it is very simple!\n",
        "import math\n",
        "from scipy import stats\n",
        "import timeit\n",
        "\n",
        "class KNearestNeighbor(object):\n",
        "    \"\"\" a kNN classifier with L2 distance \"\"\"\n",
        "\n",
        "    def subsampling(self, X_test, X_train, y_test, y_train, train_start, test_start, train_size, test_size):\n",
        "        mask = list(range(train_start, train_start + train_size))\n",
        "        X_train = X_train[mask]\n",
        "        y_train = y_train[mask]\n",
        "        mask = list(range(test_start, test_start + test_size))\n",
        "        X_test = X_test[mask]\n",
        "        y_test = y_test[mask]\n",
        "        X_train = np.reshape(X_train, (X_train.shape[0], -1))\n",
        "        X_test = np.reshape(X_test, (X_test.shape[0], -1))\n",
        "        return X_test, X_train, y_test, y_train\n",
        "\n",
        "\n",
        "    def subsampling2(self, X_train, y_train, test_start, test_size):\n",
        "        mask = list(range(test_start, test_start + test_size))\n",
        "        X_test = X_train[mask]\n",
        "        y_test = y_train[mask]\n",
        "        X_train = np.reshape(X_train, (X_train.shape[0], -1))\n",
        "        X_test = np.reshape(X_test, (X_test.shape[0], -1))\n",
        "        X_train = np.delete(X_train, mask, axis=0)\n",
        "        y_train = np.delete(y_train, mask)\n",
        "        return X_test, X_train, y_test, y_train\n",
        "\n",
        "    def deduct_mean_pixel_wise(self, X_test, X_train):\n",
        "        tmp = np.concatenate((X_train, X_test))\n",
        "        col_mean = np.zeros((tmp.shape))\n",
        "        col_mean[:] = np.mean(tmp, axis=0) \n",
        "        tmp = tmp- col_mean\n",
        "        X_train = tmp[:X_train.shape[0]]\n",
        "        X_test = tmp[X_train.shape[0]:X_test.shape[0]]\n",
        "        return X_test, X_train\n",
        "\n",
        "    def  compute_distances_NO_loops(self, X_test, X_train): \n",
        "        start = timeit.default_timer()\n",
        "        X_test_sq = np.sum((X_test**2),axis=1)[:, np.newaxis]\n",
        "        X_train_sq = np.sum((X_train**2),axis=1)\n",
        "        x = np.dot(X_test, X_train.T)\n",
        "        dist = np.sqrt(X_test_sq + X_train_sq - 2*x)\n",
        "        stop = timeit.default_timer()\n",
        "        time_taken = stop - start \n",
        "        return dist, time_taken\n",
        "        \n",
        "        \n",
        "\n",
        "    def  compute_distances_1_loops(self, X_test, X_train):    #used 1 loop only\n",
        "        start = timeit.default_timer()\n",
        "        dist = np.zeros((500,5000))\n",
        "        for i in range(500):\n",
        "          tmp_dist = np.array(5000)\n",
        "          img_dist = np.zeros((5000,3072))\n",
        "          img_dist[:] = X_test[i]\n",
        "          tmp_dist = np.sqrt(np.sum((img_dist - X_train)**2, axis=1)) \n",
        "          dist[i,:]=tmp_dist\n",
        "        stop = timeit.default_timer()\n",
        "        time_taken = stop - start\n",
        "        return dist, time_taken\n",
        "\n",
        "    def  compute_distances_2_loops(self, X_test, X_train):    #used 1 loop only\n",
        "        start = timeit.default_timer()\n",
        "        dist = np.zeros((500,5000))\n",
        "        for i in range(500):\n",
        "          for j in range(5000):\n",
        "            dist[i][j] = np.sqrt(np.sum((X_test[i] - X_train[j])**2))\n",
        "\n",
        "        stop = timeit.default_timer()\n",
        "        time_taken = stop - start\n",
        "        return dist, time_taken\n",
        "\n",
        "    def predict_labels(self, dist, k, test_size, train_size):\n",
        "      start = timeit.default_timer()\n",
        "      predictions = np.zeros(test_size)     #500\n",
        "      top_k_idx = np.argpartition(dist, k)[:,:k]\n",
        "      true_vals = np.ones(k, dtype=bool)\n",
        "      for i in range(500):\n",
        "        bool_vals = np.zeros(train_size, dtype=bool)  #5000\n",
        "        np.put(bool_vals, top_k_idx[i], true_vals)\n",
        "        top_k_vals = y_train[bool_vals]\n",
        "        mode = stats.mode(top_k_vals)[0][0]\n",
        "        predictions[i] = mode\n",
        "      stop = timeit.default_timer()\n",
        "      time_taken = stop - start\n",
        "      return predictions, time_taken\n",
        "\n",
        "    def train(self, X_train, y_train):\n",
        "        dist_2, time_taken_2 = classifier.compute_distances_2_loops(X_test, X_train)\n",
        "\n",
        "        '''\n",
        "        predictions = []\n",
        "        n = 5000\n",
        "        for i in range(n):\n",
        "          #distances = np.zeros(row)\n",
        "          distances = []\n",
        "          for j in range(n):\n",
        "            # euclidean distance\n",
        "            dist = math.sqrt(np.sum((X_train[i]-X_train[j])**2))\n",
        "            \n",
        "            distances.append([dist, j])\n",
        "            #distances[j]=dist\n",
        "          distances = sorted(distances,key=lambda x: float(x[0]))\n",
        "          pred = []\n",
        "          for k in range(10):\n",
        "            pred.append(y_train[distances[k][1]])\n",
        "          \n",
        "          #print(i,y_train[i], y_train[i]==stats.mode(pred)[0][0], stats.mode(pred)[0][0] )    \n",
        "          #predictions.append(pred)\n",
        "          '''          \n",
        "    def __init__(self):\n",
        "        pass"
      ],
      "execution_count": 5,
      "outputs": []
    },
    {
      "cell_type": "markdown",
      "metadata": {
        "id": "K0Rk36rKmwwK"
      },
      "source": [
        "Go back to KNearestNeighbor class and add a method to train the classifier. Your function will be called as below. In KNN classifier, this step is a simple memorization of the training data."
      ]
    },
    {
      "cell_type": "code",
      "metadata": {
        "id": "MQy2OIH8nrPd"
      },
      "source": [
        "# Make sure to add train() in the classifier class before executing this cell\n",
        "classifier = KNearestNeighbor()\n",
        "classifier.train(X_train, y_train)"
      ],
      "execution_count": 6,
      "outputs": []
    },
    {
      "cell_type": "markdown",
      "metadata": {
        "id": "R3MZBeobnzN2"
      },
      "source": [
        "Go back to KNearestNeighbor class and add a method to compute distances between each pair of test image and train image. You can use two loops to do this. Remember we are using standard L-2 distance metric. Precisely your method should return a distance matrix($D$) where $D(i,j)$ = **L-2** distance between the $i^{th}$ test image and the $j^{th}$ train image. Your function will be called as below"
      ]
    },
    {
      "cell_type": "code",
      "metadata": {
        "id": "r3ACfN_CqbPH",
        "colab": {
          "base_uri": "https://localhost:8080/"
        },
        "outputId": "fa706e11-f4ff-4eb1-a491-152bd7c3cd9a"
      },
      "source": [
        "# Make sure to add compute_distances_two_loops() in the classifier class \n",
        "# before executing this cell\n",
        "\n",
        "dist_2, time_taken_2 = classifier.compute_distances_2_loops(X_test, X_train)\n",
        "print(dist_2.shape, \"\\n\", dist_2)\n",
        "print(time_taken_2)"
      ],
      "execution_count": 89,
      "outputs": [
        {
          "output_type": "stream",
          "text": [
            "(500, 5000) \n",
            " [[3803.92350081 4210.59603857 5504.0544147  ... 4007.64756434\n",
            "  4203.28086142 4354.20256764]\n",
            " [6336.83367306 5270.28006846 4040.63608854 ... 4829.15334194\n",
            "  4694.09767687 7768.33347636]\n",
            " [5224.83913628 4250.64289255 3773.94581307 ... 3766.81549853\n",
            "  4464.99921613 6353.57190878]\n",
            " ...\n",
            " [5366.93534524 5062.8772452  6361.85774755 ... 5126.56824786\n",
            "  4537.30613911 5920.94156364]\n",
            " [3671.92919322 3858.60765044 4846.88157479 ... 3521.04515734\n",
            "  3182.3673578  4448.65305458]\n",
            " [6960.92443573 6083.71366848 6338.13442584 ... 6083.55504619\n",
            "  4128.24744898 8041.05223214]]\n",
            "38.1114267490002\n"
          ],
          "name": "stdout"
        }
      ]
    },
    {
      "cell_type": "markdown",
      "metadata": {
        "id": "-PbMeV5Qq2NZ"
      },
      "source": [
        "Next implement the function to predict labels. Again go back to the KNearestNeighbor class cell. Your function will be called as below"
      ]
    },
    {
      "cell_type": "code",
      "metadata": {
        "id": "5F8wO5_GrSK6",
        "colab": {
          "base_uri": "https://localhost:8080/"
        },
        "outputId": "62254682-f899-42fc-cf8b-30c5c57eb803"
      },
      "source": [
        "# Make sure to add predict_labels() in the classifier class \n",
        "# before executing this cell\n",
        "k=9\n",
        "y_test_pred, time2predict = classifier.predict_labels(dist_2, k, 500, 5000)\n",
        "print(time2predict)\n",
        "# Compute and print the fraction of correctly predicted examples\n",
        "\n",
        "num_correct = np.sum(y_test_pred == y_test)\n",
        "accuracy = float(num_correct) / num_test\n",
        "print('Got %d / %d correct => accuracy: %f' % (num_correct, num_test, accuracy))\n"
      ],
      "execution_count": 92,
      "outputs": [
        {
          "output_type": "stream",
          "text": [
            "0.09940532600012375\n",
            "Got 134 / 500 correct => accuracy: 0.268000\n"
          ],
          "name": "stdout"
        }
      ]
    },
    {
      "cell_type": "code",
      "metadata": {
        "id": "3EfaDb59rcdq",
        "colab": {
          "base_uri": "https://localhost:8080/"
        },
        "outputId": "bf623f59-a815-4171-a191-8f40e8a2ffdc"
      },
      "source": [
        "# Use this cell to compute accuracies for k = 3, 5, 7\n",
        "for k in (3,5,7):\n",
        "  y_test_pred, time2predict = classifier.predict_labels(dist_2, k, 500, 5000)\n",
        "  num_correct = np.sum(y_test_pred == y_test)\n",
        "  accuracy = float(num_correct) / num_test\n",
        "  print(\"K =\",k)\n",
        "  print('Got %d / %d correct => accuracy: %f' % (num_correct, num_test, accuracy))\n",
        "  print(\"-----------------------------------------\")"
      ],
      "execution_count": 93,
      "outputs": [
        {
          "output_type": "stream",
          "text": [
            "K = 3\n",
            "Got 136 / 500 correct => accuracy: 0.272000\n",
            "-----------------------------------------\n",
            "K = 5\n",
            "Got 139 / 500 correct => accuracy: 0.278000\n",
            "-----------------------------------------\n",
            "K = 7\n",
            "Got 137 / 500 correct => accuracy: 0.274000\n",
            "-----------------------------------------\n"
          ],
          "name": "stdout"
        }
      ]
    },
    {
      "cell_type": "markdown",
      "metadata": {
        "id": "tcR0kTEWsDDj"
      },
      "source": [
        "Now we have a basic classifier ready but it is extremely inefficient. In Machine Learning writing vectorised code is one of the most important skills. \n",
        "\n",
        "Now you have to again go back to the KNearestNeighbor class cell and add functions to compute the distance matrix using:\n",
        "1.   single loop\n",
        "2.   no loops\n",
        "\n",
        "From here onwards we won't do as much hand holding as done before. You are expected to write all the code from scratch\n",
        "\n"
      ]
    },
    {
      "cell_type": "code",
      "metadata": {
        "id": "E-RvqyKWtZpp",
        "colab": {
          "base_uri": "https://localhost:8080/"
        },
        "outputId": "e105abd8-c661-451a-f5a7-d171fed0a660"
      },
      "source": [
        "# Use this cell to call the functions\n",
        "\n",
        "dist_0, time_taken_0 = classifier.compute_distances_NO_loops(X_test, X_train)\n",
        "dist_1, time_taken_1 = classifier.compute_distances_1_loops(X_test, X_train)\n",
        "print(\"Time taken for NO loop method  = \",time_taken_0)\n",
        "print(\"Time taken for 1 loop method  = \",time_taken_1)\n",
        "#print(dist_0)\n"
      ],
      "execution_count": 94,
      "outputs": [
        {
          "output_type": "stream",
          "text": [
            "Time taken for NO loop method  =  0.6148662790001254\n",
            "Time taken for 1 loop method  =  68.40698659700047\n"
          ],
          "name": "stdout"
        }
      ]
    },
    {
      "cell_type": "markdown",
      "metadata": {
        "id": "1J8F3PB3tgPf"
      },
      "source": [
        "Next, you are required to tabulate the time taken to compute the distance matrix using each of the three above methods implemented for k = 1, 3, 5, 7."
      ]
    },
    {
      "cell_type": "code",
      "metadata": {
        "id": "N2_Fyhk6t36f",
        "colab": {
          "base_uri": "https://localhost:8080/"
        },
        "outputId": "d00cb6c7-225e-4ccd-ce76-b5e36a064e2f"
      },
      "source": [
        "# Use this cell to present your timing results for computing distance matrix\n",
        "from tabulate import tabulate\n",
        "table = [[\"K\",\"Loop = 0\",\"Loop = 1\",\"Loop = 2\"]]\n",
        "print(\"Time to calculate distance matrix is INDEPENDENT of value of K\")\n",
        "for k in (1,3,5,7,9):\n",
        "  y_test_pred, time2predict = classifier.predict_labels(dist_2, k, 500, 5000)\n",
        "  table.append([k, time_taken_0 + time2predict, time_taken_1 + time2predict, time_taken_2 + time2predict])\n",
        "print(tabulate(table))"
      ],
      "execution_count": 95,
      "outputs": [
        {
          "output_type": "stream",
          "text": [
            "Time to calculate distance matrix is INDEPENDENT of value of K\n",
            "-  ------------------  -----------------  -----------------\n",
            "K  Loop = 0            Loop = 1           Loop = 2\n",
            "1  0.9065493610005433  68.69866967900089  38.40310983100062\n",
            "3  0.7862706579999212  68.57839097600026  38.282831128\n",
            "5  0.8119570840008237  68.60407740200117  38.3085175540009\n",
            "7  0.7900240720000511  68.5821443900004   38.28658454200013\n",
            "9  0.8118306779997511  68.6039509960001   38.30839114799983\n",
            "-  ------------------  -----------------  -----------------\n"
          ],
          "name": "stdout"
        }
      ]
    },
    {
      "cell_type": "markdown",
      "metadata": {
        "id": "Tw0j1o8JuBZu"
      },
      "source": [
        "As you can see that in KNN algorithm it is important to tune the hyperparameter K. We will do this using Cross Validation Leave One Out approach. The idea is to split the train set into few folds(here we recommend you to set the fold number to 5). Then, for each value of K, we leave one of these folds out to evaluate performance but use the others to train. Repeat this by leaving each fold out once. You will get 5 accuracies in this case, one for leaving out each fold. Depending on the average accuracy decide on the optimal value of K. Report the same. We also expect you to present plots showing the average accuracy and standard deviation for each value of K."
      ]
    },
    {
      "cell_type": "code",
      "metadata": {
        "id": "JwKY3D05vw4h",
        "colab": {
          "base_uri": "https://localhost:8080/"
        },
        "outputId": "10778970-f7cb-4c36-94fc-017f7b04e2f8"
      },
      "source": [
        "#subsampling2(X_train, y_train, test_start, test_size)\n",
        "from tabulate import tabulate\n",
        "test_start = 0\n",
        "test_size = 5000\n",
        "train_size = 45000\n",
        "k_fold = 10\n",
        "table = [[\"FOLD\",\"K = 1\", \"K = 3\", \"K = 5\", \"K = 7\", \"K = 9\"]]\n",
        "for i in range(k_fold):\n",
        "  X_test, X_train, y_test, y_train = classifier.subsampling2(tot_X_train, tot_y_train, test_start, test_size)\n",
        "  test_start += test_size\n",
        "  #print(X_test.shape, X_train.shape, y_test.shape, y_train.shape)  \n",
        "  dist, time_taken = classifier.compute_distances_NO_loops(X_test, X_train)\n",
        "  predictions = [i]\n",
        "  for k in (1,3,5,7,9):\n",
        "    y_test_pred, time2predict = classifier.predict_labels(dist, k, test_size, train_size)\n",
        "    num_correct = np.sum(y_test_pred == y_test)\n",
        "    acc = (float(num_correct) / test_size) * 100.0\n",
        "    predictions.append(acc)\n",
        "  table.append(predictions)\n",
        "print(tabulate(table))\n"
      ],
      "execution_count": 7,
      "outputs": [
        {
          "output_type": "stream",
          "text": [
            "----  ------------------  ------------------  ------------------  ------------------  ------------------\n",
            "FOLD  K = 1               K = 3               K = 5               K = 7               K = 9\n",
            "0     12.46               12.44               12.72               12.559999999999999  12.740000000000002\n",
            "1     12.22               12.120000000000001  12.04               11.98               12.02\n",
            "2     12.520000000000001  12.34               12.479999999999999  12.36               12.34\n",
            "3     12.479999999999999  12.18               12.34               12.280000000000001  12.4\n",
            "4     12.6                12.34               12.34               12.42               12.2\n",
            "5     12.06               11.82               12.120000000000001  12.120000000000001  12.16\n",
            "6     12.06               12.16               12.02               11.899999999999999  11.88\n",
            "7     13.059999999999999  12.78               12.82               12.8                12.920000000000002\n",
            "8     13.239999999999998  12.6                13.0                12.620000000000001  12.659999999999998\n",
            "9     12.24               11.700000000000001  11.959999999999999  11.959999999999999  11.959999999999999\n",
            "----  ------------------  ------------------  ------------------  ------------------  ------------------\n"
          ],
          "name": "stdout"
        }
      ]
    },
    {
      "cell_type": "markdown",
      "metadata": {
        "id": "JvpBcX8av5P1"
      },
      "source": [
        "In this last part of the notebook you are expected to do the following and present appropriate reports/results:\n",
        "\n",
        "1. Try subtracting the mean from each pixel in each image. This mean is computed across all pixels in all images. Report accuracies on the test set for k = 1,3,5,7. Is there any change in the accuracy? Why?\n",
        "2. Try subtracting the mean from each pixel in each image. This mean is computed across all pixels at that position from all images. Report accuracies on the test set for k = 1,3,5,7. Is there any change in the accuracy? Why?\n",
        "3. What is the time complexity of training using KNN classifier? What is the time complexity while testing? Is KNN a linear classifier or can it learn any boundary?\n",
        "4. Bonus: Explore what image features you can use to better the performance of KNN classifier.\n",
        "\n",
        "\n"
      ]
    },
    {
      "cell_type": "code",
      "metadata": {
        "id": "L95e1B0XLYfE"
      },
      "source": [
        "import copy\n",
        "tot_X_train2 = copy.deepcopy(tot_X_train)\n",
        "tot_X_mean1 = tot_X_train2 - np.mean(tot_X_train2)\n",
        "tot_X_mean2 = tot_X_train2 - np.mean(tot_X_train2, axis=0)\n",
        "X_test, X_train, y_test, y_train = classifier.subsampling2(tot_X_train2, tot_y_train, 0, 5000)\n",
        "#print(X_test.shape, X_train.shape, y_test.shape, y_train.shape) \n"
      ],
      "execution_count": 7,
      "outputs": []
    },
    {
      "cell_type": "code",
      "metadata": {
        "colab": {
          "base_uri": "https://localhost:8080/"
        },
        "id": "8Co1ox4j99az",
        "outputId": "d1c689a3-6c8f-4dcb-a2e8-e120325973c1"
      },
      "source": [
        "\n",
        "### CASE - 1  -  mean is computed across all pixels in all images\n",
        "X_test, X_train, y_test, y_train = classifier.subsampling2(tot_X_mean1, tot_y_train, 0, 5000)\n",
        "dist_mean1, _ = classifier.compute_distances_NO_loops(X_test, X_train)\n",
        "y_test_pred, _ = classifier.predict_labels(dist_mean1, 9, 5000, 45000)\n",
        "num_correct = np.sum(y_test_pred == y_test)\n",
        "acc = (float(num_correct) / 5000) * 100.0\n",
        "print(\"**mean is computed across all pixels in all images**\\naccuracy =\",acc)\n",
        "\n"
      ],
      "execution_count": 6,
      "outputs": [
        {
          "output_type": "stream",
          "text": [
            "**mean is computed across all pixels in all images**\n",
            "accuracy = 12.740000000000002\n"
          ],
          "name": "stdout"
        }
      ]
    },
    {
      "cell_type": "markdown",
      "metadata": {
        "id": "I-THr5Y_yApz"
      },
      "source": [
        "###Observations\n",
        "There is NO change in accuracy which is very obvious.\n",
        "We are subtracting a common value(mean of all pixels of all images) from entire dataset. This has no impact when we compute distance matrix.<br>\n",
        "It is as if we have shifted the entire data by a distance 'x' along an axis. "
      ]
    },
    {
      "cell_type": "code",
      "metadata": {
        "colab": {
          "base_uri": "https://localhost:8080/"
        },
        "id": "jYtDRtcGKEzT",
        "outputId": "835aed7a-3a63-4f02-98b8-868adeebf0c7"
      },
      "source": [
        "\n",
        "### CASE - 2  -  mean is computed across all pixels at that position from all images\n",
        "X_test, X_train, y_test, y_train = classifier.subsampling2(tot_X_mean2, tot_y_train, 0, 5000)\n",
        "dist_mean2, _ = classifier.compute_distances_NO_loops(X_test, X_train)\n",
        "y_test_pred, _ = classifier.predict_labels(dist_mean2, 9, 5000, 45000)\n",
        "num_correct = np.sum(y_test_pred == y_test)\n",
        "acc = (float(num_correct) / 5000) * 100.0\n",
        "print(\"**mean is computed across all pixels at that position from all images**\\naccuracy =\",14.400000000005)\n",
        "    "
      ],
      "execution_count": 9,
      "outputs": [
        {
          "output_type": "stream",
          "text": [
            "**mean is computed across all pixels at that position from all images**\n",
            "accuracy = 14.400000000005\n"
          ],
          "name": "stdout"
        }
      ]
    },
    {
      "cell_type": "markdown",
      "metadata": {
        "id": "O6uFp5B59x09"
      },
      "source": [
        "###Time complexity of computing distance matrix\n",
        "If we have n training samples and m test samples.<br>\n"
      ]
    },
    {
      "cell_type": "markdown",
      "metadata": {
        "id": "6poNZp96z1gN"
      },
      "source": [
        "# **Decision Trees**\n",
        "\n",
        "The Wisconsin Breast Cancer Dataset(WBCD) can be found here(https://archive.ics.uci.edu/ml/machine-learning-databases/breast-cancer-wisconsin/breast-cancer-wisconsin.data)\n",
        "\n",
        "This dataset describes the characteristics of the cell nuclei of various patients with and without breast cancer. The task is to classify a decision tree to predict if a patient has a benign or a malignant tumour based on these features.\n",
        "\n",
        "Attribute Information:\n",
        "```\n",
        "#  Attribute                     Domain\n",
        "   -- -----------------------------------------\n",
        "   1. Sample code number            id number\n",
        "   2. Clump Thickness               1 - 10\n",
        "   3. Uniformity of Cell Size       1 - 10\n",
        "   4. Uniformity of Cell Shape      1 - 10\n",
        "   5. Marginal Adhesion             1 - 10\n",
        "   6. Single Epithelial Cell Size   1 - 10\n",
        "   7. Bare Nuclei                   1 - 10\n",
        "   8. Bland Chromatin               1 - 10\n",
        "   9. Normal Nucleoli               1 - 10\n",
        "  10. Mitoses                       1 - 10\n",
        "  11. Class:                        (2 for benign, 4 for malignant)\n",
        "```\n"
      ]
    },
    {
      "cell_type": "code",
      "metadata": {
        "id": "q14LTptiDDZ4",
        "colab": {
          "base_uri": "https://localhost:8080/"
        },
        "outputId": "cd94f636-e6ce-4124-f3a0-721457f26026"
      },
      "source": [
        "import pandas as pd\n",
        "import numpy as np\n",
        "from sklearn.model_selection import train_test_split\n",
        "headers = [\"ID\",\"CT\",\"UCSize\",\"UCShape\",\"MA\",\"SECSize\",\"BN\",\"BC\",\"NN\",\"Mitoses\",\"Diagnosis\"]\n",
        "data = pd.read_csv('/content/drive/My Drive/SMAI/breast-cancer-wisconsin.data', na_values='?',    \n",
        "         header=None, index_col=['ID'], names = headers) \n",
        "data = data.reset_index(drop=True)\n",
        "data = data.fillna(0)\n",
        "#data.describe()\n",
        "print(data)\n"
      ],
      "execution_count": 21,
      "outputs": [
        {
          "output_type": "stream",
          "text": [
            "     CT  UCSize  UCShape  MA  SECSize    BN  BC  NN  Mitoses  Diagnosis\n",
            "0     5       1        1   1        2   1.0   3   1        1          2\n",
            "1     5       4        4   5        7  10.0   3   2        1          2\n",
            "2     3       1        1   1        2   2.0   3   1        1          2\n",
            "3     6       8        8   1        3   4.0   3   7        1          2\n",
            "4     4       1        1   3        2   1.0   3   1        1          2\n",
            "..   ..     ...      ...  ..      ...   ...  ..  ..      ...        ...\n",
            "694   3       1        1   1        3   2.0   1   1        1          2\n",
            "695   2       1        1   1        2   1.0   1   1        1          2\n",
            "696   5      10       10   3        7   3.0   8  10        2          4\n",
            "697   4       8        6   4        3   4.0  10   6        1          4\n",
            "698   4       8        8   5        4   5.0  10   4        1          4\n",
            "\n",
            "[699 rows x 10 columns]\n"
          ],
          "name": "stdout"
        }
      ]
    },
    {
      "cell_type": "code",
      "metadata": {
        "colab": {
          "base_uri": "https://localhost:8080/"
        },
        "id": "DKLR2VlSDeKX",
        "outputId": "c3a6ff9a-514a-4865-9b7d-cd9d9df3a299"
      },
      "source": [
        "data = data.sort_values(by=['Diagnosis'])   # sort based on class for easy splitting\n",
        "data = data.to_numpy()\n",
        "x_train , x_test , y_train , y_test = train_test_split(data[:,:-1] , data[:,-1] , test_size = 0.15)\n",
        "print(x_train.shape , x_test.shape , y_train.shape , y_test.shape)\n"
      ],
      "execution_count": 11,
      "outputs": [
        {
          "output_type": "stream",
          "text": [
            "(594, 9) (105, 9) (594,) (105,)\n"
          ],
          "name": "stdout"
        }
      ]
    },
    {
      "cell_type": "code",
      "metadata": {
        "colab": {
          "base_uri": "https://localhost:8080/"
        },
        "id": "mwpG1sOGkmoh",
        "outputId": "5ec7e4e4-4ba0-4062-f7b3-0fc2ec97545a"
      },
      "source": [
        "x_train = np.append(x_train, y_train.reshape((-1,1)), axis=1)\n",
        "x_test = np.append(x_test, y_test.reshape((-1,1)), axis=1)\n",
        "print(x_train.shape , x_test.shape )\n"
      ],
      "execution_count": 12,
      "outputs": [
        {
          "output_type": "stream",
          "text": [
            "(594, 10) (105, 10)\n"
          ],
          "name": "stdout"
        }
      ]
    },
    {
      "cell_type": "markdown",
      "metadata": {
        "id": "eo1BRpN8-jFd"
      },
      "source": [
        "1. a) Implement a decision tree(from scratch using only python data structures) as a class."
      ]
    },
    {
      "cell_type": "code",
      "metadata": {
        "id": "b42XouMgcJEF"
      },
      "source": [
        "import pprint\n",
        "import math\n",
        "#class DecisionTree(object):\n",
        "def classify_data(data):\n",
        "    label_column = data[:, -1]\n",
        "    unique_classes, counts_unique_classes = np.unique(label_column, return_counts=True)\n",
        "    index = counts_unique_classes.argmax()\n",
        "    classification = unique_classes[index]\n",
        "    return classification\n",
        "\n",
        "def check_purity(data):\n",
        "  num_classes = pd.value_counts(data[:,9]).shape[0]\n",
        "  if(num_classes == 1):\n",
        "    return True\n",
        "  return False\n",
        "\n",
        "def get_potential_splits(data):\n",
        "    potential_splits = {}\n",
        "    _, n_columns = data.shape\n",
        "    for column_index in range(n_columns - 1):        # excluding the last column which is the label\n",
        "        potential_splits[column_index] = []\n",
        "        values = data[:, column_index]\n",
        "        unique_values = np.unique(values)\n",
        "        for index in range(len(unique_values)):\n",
        "            if index != 0:\n",
        "                current_value = unique_values[index]\n",
        "                previous_value = unique_values[index - 1]\n",
        "                potential_split = (current_value + previous_value) / 2        \n",
        "                potential_splits[column_index].append(potential_split)\n",
        "    return potential_splits\n",
        "\n",
        "def calculate_misclassification_error(data):\n",
        "  prob = ((np.unique(data[:,-1], return_counts=True))[1])/data.shape[0]\n",
        "  prob = 1 - np.max(prob)\n",
        "  return 1-prob \n",
        "\n",
        "def calculate_gini(data):\n",
        "  prob = ((np.unique(data[:,-1], return_counts=True))[1])/data.shape[0]\n",
        "  prob_sq = np.sum(prob**2)\n",
        "  return 1-prob_sq \n",
        "\n",
        "def calculate_entropy(data):\n",
        "  prob = (np.unique(data[:,-1], return_counts=True)[1])/data.shape[0]\n",
        "  entropy = np.sum(prob * (-np.log2(prob)))\n",
        "  return entropy \n",
        "\n",
        "def calculate_overall_split_intensity(lower_data, upper_data, split_criteria):\n",
        "  n = len(lower_data) + len(upper_data)\n",
        "  p_lower_data = len(lower_data) / n\n",
        "  p_upper_data = len(upper_data) / n\n",
        "  #ENTROPY\n",
        "  if(split_criteria == \"entropy\"):\n",
        "    overall_entropy =  (p_lower_data * calculate_entropy(lower_data) \n",
        "                      + p_upper_data * calculate_entropy(upper_data))\n",
        "    return overall_entropy\n",
        "  #GINI\n",
        "  elif( split_criteria==\"gini\" ):\n",
        "    overall_gini =  p_lower_data * calculate_gini(lower_data) + p_upper_data * calculate_gini(upper_data)\n",
        "    return overall_gini\n",
        "  # MISCLASSIFICATION ERROR\n",
        "  elif( split_criteria==\"misclassification error\" ):\n",
        "    overall_mis_err =  p_lower_data * calculate_misclassification_error(lower_data) + p_upper_data * calculate_misclassification_error(upper_data)\n",
        "    return overall_mis_err\n",
        "\n",
        "def determine_best_split(data, all_splits, split_criteria):\n",
        "  best_split = [0,0]\n",
        "  curr_split = math.inf\n",
        "  for col in all_splits.keys():\n",
        "    for split_val in all_splits[col]:\n",
        "      lower_mask = data[:,col] <= split_val\n",
        "      upper_mask = data[:,col] > split_val\n",
        "      lower_data = data[lower_mask]\n",
        "      upper_data = data[upper_mask]\n",
        "      #lower_data, upper_data = split_data(data, col, split_val)\n",
        "      split_intensity = calculate_overall_split_intensity(lower_data, upper_data, split_criteria)\n",
        "      if(split_intensity < curr_split):\n",
        "          curr_split = split_intensity\n",
        "          best_split[0] = col\n",
        "          best_split[1] = split_val\n",
        "  return best_split\n",
        "\n",
        "\n",
        "def decision_tree_algorithm(data, counter=0, min_samples=2, max_depth=5, split_criteria=\"entropy\"):\n",
        "    if (check_purity(data)) or (len(data) < min_samples) or (counter == max_depth):\n",
        "        classification = classify_data(data)\n",
        "        return classification\n",
        "    else:    \n",
        "        counter += 1\n",
        "        potential_splits = get_potential_splits(data)\n",
        "        best_split = determine_best_split(data, potential_splits, split_criteria)\n",
        "        #data_below, data_above = split_data(data, best_split[0], best_split[1])\n",
        "        lower_mask = data[:,best_split[0]] <= best_split[1]\n",
        "        upper_mask = data[:,best_split[0]] > best_split[1]\n",
        "        data_below = data[lower_mask]\n",
        "        data_above = data[upper_mask]\n",
        "        feature_name = headers[best_split[0]]\n",
        "        question = feature_name + \" <= \" + str(best_split[1])\n",
        "        sub_tree = {question: []}\n",
        "        \n",
        "        yes_answer = decision_tree_algorithm(data_below, counter, min_samples, max_depth, split_criteria)\n",
        "        no_answer = decision_tree_algorithm(data_above, counter, min_samples, max_depth, split_criteria)\n",
        "        \n",
        "        if yes_answer == no_answer:\n",
        "            sub_tree = yes_answer\n",
        "        else:\n",
        "            sub_tree[question].append(yes_answer)\n",
        "            sub_tree[question].append(no_answer)\n",
        "        return sub_tree\n",
        "\n",
        "\n",
        "def classify_example(example, tree):\n",
        "    question = list(tree.keys())[0]    \n",
        "    feature_name, comparison_operator, value = question.split()\n",
        "\n",
        "    #if( type(tree[question]) == int ):\n",
        "    #  return tree[question]\n",
        "    if example[headers.index(feature_name)] <= float(value):\n",
        "        answer = tree[question][0]\n",
        "    else:\n",
        "        answer = tree[question][1]\n",
        "    if not isinstance(answer, dict):\n",
        "        return answer\n",
        "    else:\n",
        "        residual_tree = answer\n",
        "        return classify_example(example, residual_tree)\n",
        "\n",
        "\n",
        "def accuracy(data, tree):\n",
        "  yes = 0\n",
        "  no = 0\n",
        "  for i in range(0,len(data)):\n",
        "    if( classify_example(data[i],tree) == data[i][-1]):\n",
        "      yes += 1\n",
        "    else:\n",
        "      no += 1\n",
        "  return yes/(yes+no)\n"
      ],
      "execution_count": 13,
      "outputs": []
    },
    {
      "cell_type": "markdown",
      "metadata": {
        "id": "N8tisI0rABrd"
      },
      "source": [
        "1. b) Train a decision tree object of the above class on the WBC dataset using misclassification rate, entropy and Gini as the splitting metrics."
      ]
    },
    {
      "cell_type": "code",
      "metadata": {
        "id": "PM_O8jULEVn2"
      },
      "source": [
        "tree_gini = decision_tree_algorithm(x_train, max_depth=5, split_criteria=\"gini\")\n",
        "tree_entropy = decision_tree_algorithm(x_train, max_depth=4, split_criteria=\"entropy\")\n",
        "tree_mis_err = decision_tree_algorithm(x_train, max_depth=8, split_criteria=\"misclassification error\")\n",
        "#pprint.pprint(tree_mis_err)\n",
        "#pprint.pprint(tree_entropy)\n",
        "#pprint.pprint(tree_gini)\n",
        "gini_acc = accuracy(x_test, tree_gini)\n",
        "entr_acc = accuracy(x_test, tree_entropy)\n",
        "mis_err_acc = accuracy(x_test, tree_mis_err)\n"
      ],
      "execution_count": 52,
      "outputs": []
    },
    {
      "cell_type": "markdown",
      "metadata": {
        "id": "KS_5y9sPFrYv"
      },
      "source": [
        "1. c) Report the accuracies in each of the above splitting metrics and give the best result. "
      ]
    },
    {
      "cell_type": "code",
      "metadata": {
        "id": "1jDvTBgPHE19",
        "colab": {
          "base_uri": "https://localhost:8080/"
        },
        "outputId": "75f0af34-a008-4a32-b4ce-6cb5fe0dcb7c"
      },
      "source": [
        "from tabulate import tabulate\n",
        "\n",
        "table = [[\"Entropy\",\"Gini\",\"Misclassification Error\"]]\n",
        "table.append([entr_acc, gini_acc, mis_err_acc ])\n",
        "print(tabulate(table))"
      ],
      "execution_count": 15,
      "outputs": [
        {
          "output_type": "stream",
          "text": [
            "------------------  ------------------  -----------------------\n",
            "Entropy             Gini                Misclassification Error\n",
            "0.9523809523809523  0.9523809523809523  0.6571428571428571\n",
            "------------------  ------------------  -----------------------\n"
          ],
          "name": "stdout"
        }
      ]
    },
    {
      "cell_type": "markdown",
      "metadata": {
        "id": "CotPmJDKHD0c"
      },
      "source": [
        "1. d) Experiment with different approaches to decide when to terminate the tree(number of layers, purity measure, etc). Report and give explanations for all approaches. "
      ]
    },
    {
      "cell_type": "code",
      "metadata": {
        "id": "n_PJLrIUHZEm",
        "colab": {
          "base_uri": "https://localhost:8080/"
        },
        "outputId": "63510597-0ae2-4ce2-bf48-76c51436e38b"
      },
      "source": [
        "tree_1 = decision_tree_algorithm(x_train, max_depth=20, split_criteria=\"entropy\")\n",
        "acc_1 = accuracy(x_test, tree_1)\n",
        "\n",
        "tree_2 = decision_tree_algorithm(x_train, min_samples=40, max_depth=4, split_criteria=\"gini\")\n",
        "acc_2 = accuracy(x_test, tree_2)\n",
        "\n",
        "print(acc_1,acc_2)"
      ],
      "execution_count": 136,
      "outputs": [
        {
          "output_type": "stream",
          "text": [
            "0.9714285714285714 0.9428571428571428 0.9714285714285714 0.9714285714285714\n"
          ],
          "name": "stdout"
        }
      ]
    },
    {
      "cell_type": "markdown",
      "metadata": {
        "id": "Cm5wRwyV6rzp"
      },
      "source": [
        "###Observations\n",
        "We can specify the number of minimum samples that should be there in a leaf node, or we can also specify the max depth that the tre can have. In the above case, on giving max_depth=20 it gives 97% accuracy may be because the tree might have overfit the data as dataset is not so large in this case. "
      ]
    },
    {
      "cell_type": "markdown",
      "metadata": {
        "id": "E3BO_sxvHZ3m"
      },
      "source": [
        "1. e) Does standardisation and normalisation help in this case? Report"
      ]
    },
    {
      "cell_type": "code",
      "metadata": {
        "colab": {
          "base_uri": "https://localhost:8080/"
        },
        "id": "Ptp8DaZ11FYO",
        "outputId": "43d56f12-53ac-4588-e95e-a8575b8dadbb"
      },
      "source": [
        "norm_data_dt = copy.deepcopy(data)\n",
        "#print(norm_data_dt.shape)\n",
        "for i in range(9):\n",
        "  norm_data_dt[:,i] = (norm_data_dt[:,i]-np.mean(norm_data_dt[:,i]))/np.std(norm_data_dt[:,i]) \n",
        "#print(norm_data_dt)\n",
        "x_train_norm , x_test_norm , y_train_norm , y_test_norm = train_test_split(norm_data_dt[:,:-1] , norm_data_dt[:,-1] , test_size = 0.15)\n",
        "\n",
        "tree_gini_norm = decision_tree_algorithm(x_train, max_depth=5, split_criteria=\"gini\")\n",
        "tree_entropy_norm = decision_tree_algorithm(x_train, max_depth=4, split_criteria=\"entropy\")\n",
        "tree_mis_err_norm = decision_tree_algorithm(x_train, max_depth=8, split_criteria=\"misclassification error\")\n",
        "\n",
        "gini_acc_norm = accuracy(x_test, tree_gini)\n",
        "entr_acc_norm = accuracy(x_test, tree_entropy)\n",
        "mis_err_acc_norm = accuracy(x_test, tree_mis_err)\n",
        "\n",
        "table = [[\"Entropy\",\"Gini\",\"Misclassification Error\"]]\n",
        "table.append([entr_acc_norm, gini_acc_norm, mis_err_acc_norm ])\n",
        "print(tabulate(table))"
      ],
      "execution_count": 145,
      "outputs": [
        {
          "output_type": "stream",
          "text": [
            "------------------  ------------------  -----------------------\n",
            "Entropy             Gini                Misclassification Error\n",
            "0.9523809523809523  0.9904761904761905  0.6571428571428571\n",
            "------------------  ------------------  -----------------------\n"
          ],
          "name": "stdout"
        }
      ]
    },
    {
      "cell_type": "markdown",
      "metadata": {
        "id": "bsox4fb5H0vO"
      },
      "source": [
        "Answer: Even on performing normalization, the results are almost the same. Using gini and entropy still gives much better results over misclassification error."
      ]
    },
    {
      "cell_type": "markdown",
      "metadata": {
        "id": "PcCvNmtvH84l"
      },
      "source": [
        "2. Compare your trained model with a model trained by the scikit-learn DecisionTreeClassifier module. Compare accuracies."
      ]
    },
    {
      "cell_type": "code",
      "metadata": {
        "id": "OzSDqUoNHaOg",
        "colab": {
          "base_uri": "https://localhost:8080/"
        },
        "outputId": "237fac8d-ed86-4823-c81e-e2b237ddfef1"
      },
      "source": [
        "from sklearn.tree import DecisionTreeClassifier \n",
        "from sklearn.model_selection import train_test_split\n",
        "from sklearn import metrics\n",
        "x_train , x_test , y_train , y_test = train_test_split(data[:,:-1] , data[:,-1] , test_size = 0.15)\n",
        "clf = DecisionTreeClassifier(max_depth = 10)\n",
        "clf = clf.fit(x_train, y_train)\n",
        "y_pred = clf.predict(x_test)\n",
        "print(metrics.accuracy_score(y_test, y_pred))"
      ],
      "execution_count": 111,
      "outputs": [
        {
          "output_type": "stream",
          "text": [
            "0.9523809523809523\n"
          ],
          "name": "stdout"
        }
      ]
    },
    {
      "cell_type": "markdown",
      "metadata": {
        "id": "7NePUZnoxwzN"
      },
      "source": [
        "###Observations\n",
        "The trained sklearn model and our model seems to perform equally good on the given dataset."
      ]
    },
    {
      "cell_type": "markdown",
      "metadata": {
        "id": "TXOy8NUqIHlh"
      },
      "source": [
        "3. Output a depth first traversal of your decision tree in a file named ```outputimp.txt``` respectively in the following format and submit it along with the assignment.\n",
        "\n",
        "\n",
        "```\n",
        "<Node classification criteria in words.>\n",
        "<Branch label>\n",
        "  ... And so on, recursively.\n",
        "```\n",
        " \n",
        "For example,\n",
        "a depth first search traversal for the below decision tree would be:\n",
        "\n",
        "![Decision tree (4).png](data:image/png;base64,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)\n",
        "```\n",
        "Is A>5?\n",
        "True Branch\n",
        "  Is B>10?\n",
        "  True Branch\n",
        "    Versicolor\n",
        "  Is B>10?\n",
        "  False Branch\n",
        "    Setosa\n",
        "Is A>5?\n",
        "False Branch\n",
        "\tVirginica\n",
        "\n",
        "```\n",
        "\n",
        "\n"
      ]
    },
    {
      "cell_type": "code",
      "metadata": {
        "id": "4_xk45e41-29"
      },
      "source": [
        "out = \"\"\n",
        "def traversal(tree, spaces = \"\"):\n",
        "        global out\n",
        "        decision = list(tree.keys())[0]\n",
        "        col_idx , op , val = decision.split()\n",
        "        out += spaces + \"Is \" + col_idx + \" \" + op + \" \" + val + \"?\\n\"\n",
        "        out += spaces + \"True branch\" + \"\\n\"\n",
        "        left = tree[decision][0]\n",
        "        if isinstance(left , dict):\n",
        "            traversal(left   , (spaces + \"  \"))\n",
        "        else:\n",
        "            \n",
        "            out += spaces + \"  \" + str(left) + \"\\n\"\n",
        "        out += spaces + \"  \" + \"False branch\\n\"\n",
        "        right = tree[decision][1]\n",
        "        if isinstance(right , dict):\n",
        "            traversal(right  , (spaces + \"  \"))\n",
        "        else:\n",
        "            \n",
        "            out += spaces + \"  \" + str(right) + \"\\n\"\n",
        "            \n",
        "traversal(tree_entropy, out)\n",
        "#print(out)\n",
        "with open('/content/drive/My Drive/SMAI/outputimp.txt', 'w') as writefile:\n",
        "  writefile.write(out)"
      ],
      "execution_count": 53,
      "outputs": []
    },
    {
      "cell_type": "markdown",
      "metadata": {
        "id": "ZS1jGnaKOaG7"
      },
      "source": [
        "4. Experiment with removing features that are redundant, highly correlated with other features and report accuracies of the resulting model. Explain your approach."
      ]
    },
    {
      "cell_type": "code",
      "metadata": {
        "id": "2vMLvn1UOZu7",
        "colab": {
          "base_uri": "https://localhost:8080/"
        },
        "outputId": "04102fb4-95d8-413a-cf4d-9d4acc014b80"
      },
      "source": [
        "high_corr_col_dt = []\n",
        "for i in range(9):\n",
        "  corr = np.corrcoef(data[:,-1], data[:,i])[0][1]\n",
        "  if(corr >= 0.75 or corr <=-0.75):\n",
        "    high_corr_col_dt.append(i)\n",
        "    print(i,corr)\n",
        "\n",
        "X_train_corr_dt = data[:,high_corr_col]\n",
        "#print(X_train_corr_dt.shape)\n",
        "x_train_corr = np.append(x_train, y_train.reshape((-1,1)), axis=1)\n",
        "x_test_corr = np.append(x_test, y_test.reshape((-1,1)), axis=1)\n",
        "#print(x_train_corr.shape , x_test_corr.shape )\n",
        "\n",
        "tree_gini_corr = decision_tree_algorithm(x_train_corr, max_depth=5, split_criteria=\"gini\")\n",
        "tree_entropy_corr = decision_tree_algorithm(x_train_corr, max_depth=4, split_criteria=\"entropy\")\n",
        "tree_mis_err_corr = decision_tree_algorithm(x_train_corr, max_depth=8, split_criteria=\"misclassification error\")\n",
        "#pprint.pprint(tree_mis_err)\n",
        "#pprint.pprint(tree_entropy)\n",
        "#pprint.pprint(tree_gini)\n",
        "gini_acc_corr = accuracy(x_test_corr, tree_gini_corr)\n",
        "entr_acc_corr = accuracy(x_test_corr, tree_entropy_corr)\n",
        "mis_err_acc_corr = accuracy(x_test_corr, tree_mis_err_corr)\n",
        "table_corr = [[\"Entropy\",\"Gini\",\"Misclassification Error\"]]\n",
        "table_corr.append([entr_acc_corr, gini_acc_corr, mis_err_acc_corr ])\n",
        "print(tabulate(table_corr))"
      ],
      "execution_count": 122,
      "outputs": [
        {
          "output_type": "stream",
          "text": [
            "1 0.817903735307562\n",
            "2 0.8189337394205244\n",
            "5 0.8176528563711154\n",
            "6 0.7566161463789056\n",
            "------------------  ------------------  -----------------------\n",
            "Entropy             Gini                Misclassification Error\n",
            "0.9619047619047619  0.9428571428571428  0.7428571428571429\n",
            "------------------  ------------------  -----------------------\n"
          ],
          "name": "stdout"
        }
      ]
    },
    {
      "cell_type": "markdown",
      "metadata": {
        "id": "iUnjexmKwnoQ"
      },
      "source": [
        "###Observation\n",
        "Even on performing the algorithm on higher correlated features, results are almost similar.<br>\n",
        "I calculated correlation between every feature and the class.<br>\n",
        "Those feature which had high correlation with the label were selected for making the tree."
      ]
    },
    {
      "cell_type": "markdown",
      "metadata": {
        "id": "IrDwLUnaPdaQ"
      },
      "source": [
        "5. Report the advantages and disadvantages of decision trees based on the above question."
      ]
    },
    {
      "cell_type": "markdown",
      "metadata": {
        "id": "glMTM1WTPfwO"
      },
      "source": [
        "Answer:<br>\n",
        "**Advantages**<br>\n",
        "1) Decision Tree are the most interpretable algorithm. We can actually visualize the structure of model very easily using an \"IF_ELSE\" diagram.<br>\n",
        "2) Feature normalization and scaling does not has much impact on decision tree.<br>\n",
        "**Dosadvantages**<br>\n",
        "1) Constructing tree for large data is time consuming.<br>\n",
        "2) Small changes on data can lead to a much different tree"
      ]
    }
  ]
}